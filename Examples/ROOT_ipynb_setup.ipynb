{
 "cells": [
  {
   "cell_type": "markdown",
   "metadata": {},
   "source": [
    "<h1> Import ROOT, MPL, numpy, scipy </h1>"
   ]
  },
  {
   "cell_type": "code",
   "execution_count": 1,
   "metadata": {
    "collapsed": false
   },
   "outputs": [],
   "source": [
    "import sys\n",
    "home_dir=!echo \"$HOME\"\n",
    "sys.path.insert(2,home_dir[0]+'/iPyNb/NERSC_Import') \n",
    "\n",
    "from pyROOT_import import *\n",
    "#from mpl_numpy_scipy_import import *\n",
    "#%pylab inline"
   ]
  },
  {
   "cell_type": "code",
   "execution_count": 3,
   "metadata": {
    "collapsed": false
   },
   "outputs": [
    {
     "data": {
      "image/png": "",
      "text/plain": [
       "<ROOT.TCanvas object (\"icanvas\") at 0x2956780>"
      ]
     },
     "execution_count": 3,
     "metadata": {},
     "output_type": "execute_result"
    }
   ],
   "source": [
    "#c1 = rootnotes.default_canvas(name='canvas1') #make a default canvas\n",
    "#c1 = rootnotes.default_canvas(name='canvas1',size=(500,400))\n",
    "c1 = rootnotes.default_canvas()\n",
    "fun1 = TF1( 'fun1', 'abs(sin(x)/x)', 0, 10)\n",
    "c1.SetGridx()\n",
    "c1.SetGridy()\n",
    "fun1.Draw()\n",
    "c1\n",
    "\n",
    "#More examples: http://mazurov.github.io/webfest2013/"
   ]
  },
  {
   "cell_type": "code",
   "execution_count": null,
   "metadata": {
    "collapsed": true
   },
   "outputs": [],
   "source": []
  }
 ],
 "metadata": {
  "kernelspec": {
   "display_name": "pyrootnb",
   "language": "python",
   "name": "pyrootnb"
  },
  "language_info": {
   "codemirror_mode": {
    "name": "ipython",
    "version": 2
   },
   "file_extension": ".py",
   "mimetype": "text/x-python",
   "name": "python",
   "nbconvert_exporter": "python",
   "pygments_lexer": "ipython2",
   "version": "2.7.11"
  }
 },
 "nbformat": 4,
 "nbformat_minor": 0
}
