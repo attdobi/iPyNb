{
 "cells": [
  {
   "cell_type": "markdown",
   "metadata": {},
   "source": [
    "<h1 style=\"color:magenta;\"> pymysql 101 <br/> \n",
    "query the lug and plot electron lifetimes from krypCal<br/> This works on jupyter :) </h1>"
   ]
  },
  {
   "cell_type": "code",
   "execution_count": 1,
   "metadata": {
    "collapsed": false
   },
   "outputs": [
    {
     "name": "stdout",
     "output_type": "stream",
     "text": [
      "Populating the interactive namespace from numpy and matplotlib\n"
     ]
    }
   ],
   "source": [
    "import sys\n",
    "from dateutil import parser\n",
    "from numpy import *\n",
    "import matplotlib.pyplot as plt # plotting libraries from matlab\n",
    "import matplotlib.dates as date\n",
    "from scipy.interpolate import UnivariateSpline\n",
    "\n",
    "%pylab inline  \n",
    "#always do this for plotting...  \n",
    "pylab.rcParams['figure.figsize'] = (10.0, 8.0) # set size of figures"
   ]
  },
  {
   "cell_type": "code",
   "execution_count": 2,
   "metadata": {
    "collapsed": false
   },
   "outputs": [],
   "source": [
    "#sys.path.insert(2, '//global/project/projectdirs/lux/Tools/anaconda/lib/python2.7/site-packages/')\n",
    "#sys.path.insert(2, '//global/project/projectdirs/lux/data/')"
   ]
  },
  {
   "cell_type": "code",
   "execution_count": 3,
   "metadata": {
    "collapsed": false
   },
   "outputs": [],
   "source": [
    "import pymysql\n",
    "import xml2dict\n",
    "import xml.etree.cElementTree as ET"
   ]
  },
  {
   "cell_type": "markdown",
   "metadata": {},
   "source": [
    "<h1> connect to the LUX mysql database and get all the Run03 WS filenames+cp </h1>"
   ]
  },
  {
   "cell_type": "code",
   "execution_count": 4,
   "metadata": {
    "collapsed": false
   },
   "outputs": [
    {
     "ename": "OperationalError",
     "evalue": "(2003, \"Can't connect to MySQL server on '151.159.226.141' ([Errno 60] Operation timed out)\")",
     "output_type": "error",
     "traceback": [
      "\u001b[0;31m---------------------------------------------------------------------------\u001b[0m",
      "\u001b[0;31mOperationalError\u001b[0m                          Traceback (most recent call last)",
      "\u001b[0;32m<ipython-input-4-a2291bbc1b2f>\u001b[0m in \u001b[0;36m<module>\u001b[0;34m()\u001b[0m\n\u001b[0;32m----> 1\u001b[0;31m \u001b[0mdb\u001b[0m\u001b[0;34m=\u001b[0m\u001b[0mpymysql\u001b[0m\u001b[0;34m.\u001b[0m\u001b[0mconnect\u001b[0m\u001b[0;34m(\u001b[0m\u001b[0mhost\u001b[0m\u001b[0;34m=\u001b[0m\u001b[0;34m'151.159.226.141'\u001b[0m\u001b[0;34m,\u001b[0m\u001b[0mport\u001b[0m\u001b[0;34m=\u001b[0m\u001b[0;36m3101\u001b[0m\u001b[0;34m,\u001b[0m\u001b[0muser\u001b[0m\u001b[0;34m=\u001b[0m\u001b[0;34m'luxanalysis'\u001b[0m\u001b[0;34m,\u001b[0m\u001b[0mpasswd\u001b[0m\u001b[0;34m=\u001b[0m\u001b[0;34m'bigdet'\u001b[0m\u001b[0;34m,\u001b[0m\u001b[0mdb\u001b[0m\u001b[0;34m=\u001b[0m\u001b[0;34m'control'\u001b[0m\u001b[0;34m)\u001b[0m\u001b[0;34m\u001b[0m\u001b[0m\n\u001b[0m",
      "\u001b[0;32m/Users/attiladobi/anaconda/lib/python2.7/site-packages/pymysql/__init__.pyc\u001b[0m in \u001b[0;36mConnect\u001b[0;34m(*args, **kwargs)\u001b[0m\n\u001b[1;32m     86\u001b[0m     \"\"\"\n\u001b[1;32m     87\u001b[0m     \u001b[0;32mfrom\u001b[0m \u001b[0;34m.\u001b[0m\u001b[0mconnections\u001b[0m \u001b[0;32mimport\u001b[0m \u001b[0mConnection\u001b[0m\u001b[0;34m\u001b[0m\u001b[0m\n\u001b[0;32m---> 88\u001b[0;31m     \u001b[0;32mreturn\u001b[0m \u001b[0mConnection\u001b[0m\u001b[0;34m(\u001b[0m\u001b[0;34m*\u001b[0m\u001b[0margs\u001b[0m\u001b[0;34m,\u001b[0m \u001b[0;34m**\u001b[0m\u001b[0mkwargs\u001b[0m\u001b[0;34m)\u001b[0m\u001b[0;34m\u001b[0m\u001b[0m\n\u001b[0m\u001b[1;32m     89\u001b[0m \u001b[0;34m\u001b[0m\u001b[0m\n\u001b[1;32m     90\u001b[0m \u001b[0;32mfrom\u001b[0m \u001b[0mpymysql\u001b[0m \u001b[0;32mimport\u001b[0m \u001b[0mconnections\u001b[0m \u001b[0;32mas\u001b[0m \u001b[0m_orig_conn\u001b[0m\u001b[0;34m\u001b[0m\u001b[0m\n",
      "\u001b[0;32m/Users/attiladobi/anaconda/lib/python2.7/site-packages/pymysql/connections.pyc\u001b[0m in \u001b[0;36m__init__\u001b[0;34m(self, host, user, password, database, port, unix_socket, charset, sql_mode, read_default_file, conv, use_unicode, client_flag, cursorclass, init_command, connect_timeout, ssl, read_default_group, compress, named_pipe, no_delay, autocommit, db, passwd, local_infile, max_allowed_packet, defer_connect, auth_plugin_map)\u001b[0m\n\u001b[1;32m    677\u001b[0m             \u001b[0mself\u001b[0m\u001b[0;34m.\u001b[0m\u001b[0msocket\u001b[0m \u001b[0;34m=\u001b[0m \u001b[0mNone\u001b[0m\u001b[0;34m\u001b[0m\u001b[0m\n\u001b[1;32m    678\u001b[0m         \u001b[0;32melse\u001b[0m\u001b[0;34m:\u001b[0m\u001b[0;34m\u001b[0m\u001b[0m\n\u001b[0;32m--> 679\u001b[0;31m             \u001b[0mself\u001b[0m\u001b[0;34m.\u001b[0m\u001b[0mconnect\u001b[0m\u001b[0;34m(\u001b[0m\u001b[0;34m)\u001b[0m\u001b[0;34m\u001b[0m\u001b[0m\n\u001b[0m\u001b[1;32m    680\u001b[0m \u001b[0;34m\u001b[0m\u001b[0m\n\u001b[1;32m    681\u001b[0m     \u001b[0;32mdef\u001b[0m \u001b[0m_create_ssl_ctx\u001b[0m\u001b[0;34m(\u001b[0m\u001b[0mself\u001b[0m\u001b[0;34m,\u001b[0m \u001b[0msslp\u001b[0m\u001b[0;34m)\u001b[0m\u001b[0;34m:\u001b[0m\u001b[0;34m\u001b[0m\u001b[0m\n",
      "\u001b[0;32m/Users/attiladobi/anaconda/lib/python2.7/site-packages/pymysql/connections.pyc\u001b[0m in \u001b[0;36mconnect\u001b[0;34m(self, sock)\u001b[0m\n\u001b[1;32m    920\u001b[0m                 \u001b[0mexc\u001b[0m\u001b[0;34m.\u001b[0m\u001b[0mtraceback\u001b[0m \u001b[0;34m=\u001b[0m \u001b[0mtraceback\u001b[0m\u001b[0;34m.\u001b[0m\u001b[0mformat_exc\u001b[0m\u001b[0;34m(\u001b[0m\u001b[0;34m)\u001b[0m\u001b[0;34m\u001b[0m\u001b[0m\n\u001b[1;32m    921\u001b[0m                 \u001b[0;32mif\u001b[0m \u001b[0mDEBUG\u001b[0m\u001b[0;34m:\u001b[0m \u001b[0;32mprint\u001b[0m\u001b[0;34m(\u001b[0m\u001b[0mexc\u001b[0m\u001b[0;34m.\u001b[0m\u001b[0mtraceback\u001b[0m\u001b[0;34m)\u001b[0m\u001b[0;34m\u001b[0m\u001b[0m\n\u001b[0;32m--> 922\u001b[0;31m                 \u001b[0;32mraise\u001b[0m \u001b[0mexc\u001b[0m\u001b[0;34m\u001b[0m\u001b[0m\n\u001b[0m\u001b[1;32m    923\u001b[0m \u001b[0;34m\u001b[0m\u001b[0m\n\u001b[1;32m    924\u001b[0m             \u001b[0;31m# If e is neither DatabaseError or IOError, It's a bug.\u001b[0m\u001b[0;34m\u001b[0m\u001b[0;34m\u001b[0m\u001b[0m\n",
      "\u001b[0;31mOperationalError\u001b[0m: (2003, \"Can't connect to MySQL server on '151.159.226.141' ([Errno 60] Operation timed out)\")"
     ]
    }
   ],
   "source": [
    "db=pymysql.connect(host='151.159.226.141',port=3101,user='luxanalysis',passwd='bigdet',db='control')"
   ]
  },
  {
   "cell_type": "code",
   "execution_count": null,
   "metadata": {
    "collapsed": false
   },
   "outputs": [],
   "source": [
    "cur = db.cursor()"
   ]
  },
  {
   "cell_type": "code",
   "execution_count": 14,
   "metadata": {
    "collapsed": false
   },
   "outputs": [
    {
     "ename": "NameError",
     "evalue": "name 'cur' is not defined",
     "output_type": "error",
     "traceback": [
      "\u001b[1;31m---------------------------------------------------------------------------\u001b[0m",
      "\u001b[1;31mNameError\u001b[0m                                 Traceback (most recent call last)",
      "\u001b[1;32m<ipython-input-14-9ee0da8608dc>\u001b[0m in \u001b[0;36m<module>\u001b[1;34m()\u001b[0m\n\u001b[1;32m----> 1\u001b[1;33m \u001b[0mcur\u001b[0m\u001b[1;33m.\u001b[0m\u001b[0mexecute\u001b[0m\u001b[1;33m(\u001b[0m\u001b[1;34m'select CONCAT(a.filename_prefix,\"_cp\",a.cp) from control.lug_complete_process_record a join control.lug_acquisitions b on a.filename_prefix = b.filename_prefix where (a.machine_id = 121 and a.gs=1503 and b.entry_description not like (\"%teflon%\") and b.strikeme = 0 and b.entry_id < 3600 and b.source=\"BG\" ) group by a.cp ;'\u001b[0m\u001b[1;33m)\u001b[0m\u001b[1;33m\u001b[0m\u001b[0m\n\u001b[0m",
      "\u001b[1;31mNameError\u001b[0m: name 'cur' is not defined"
     ]
    }
   ],
   "source": [
    "cur.execute('select CONCAT(a.filename_prefix,\"_cp\",a.cp) from control.lug_complete_process_record a join control.lug_acquisitions b on a.filename_prefix = b.filename_prefix where (a.machine_id = 120 and a.gs=1503 and b.entry_description not like (\"%teflon%\") and b.strikeme = 0 and b.entry_id < 3600 and b.source=\"BG\" ) group by a.cp ;')"
   ]
  },
  {
   "cell_type": "code",
   "execution_count": 14,
   "metadata": {
    "collapsed": false
   },
   "outputs": [
    {
     "data": {
      "text/plain": [
       "110"
      ]
     },
     "execution_count": 14,
     "metadata": {},
     "output_type": "execute_result"
    }
   ],
   "source": [
    "cur.execute('select CONCAT(a.filename_prefix,\"_cp\",a.cp) from control.lug_complete_process_record a join control.lug_acquisitions b on a.filename_prefix = b.filename_prefix where (a.machine_id = 120 and a.gs>1500 and b.strikeme = 0 and b.entry_id > 3600 and b.source=\"Cs-137\" ) group by a.cp ;')"
   ]
  },
  {
   "cell_type": "code",
   "execution_count": 11,
   "metadata": {
    "collapsed": false
   },
   "outputs": [
    {
     "data": {
      "text/plain": [
       "183"
      ]
     },
     "execution_count": 11,
     "metadata": {},
     "output_type": "execute_result"
    }
   ],
   "source": [
    "cur.execute('select filename_prefix from lug_acquisitions where (source=\"Kr-83\" and entry_id < 3600) ;')"
   ]
  },
  {
   "cell_type": "code",
   "execution_count": null,
   "metadata": {
    "collapsed": true
   },
   "outputs": [],
   "source": []
  },
  {
   "cell_type": "markdown",
   "metadata": {},
   "source": [
    "<p> for all Run03 WS data and CH3T data use (b.source=\"BG\" and b.source=\"CH3T\") in the line above, some tritium data was included. <br> ... Use \"CH3T\" to get ALL tritium data eample: cur.execute('select filename_prefix from control.lug_acquisitions where source = \"CH3T\" ;') <br/> or \"Kr-83\" \"or Cs-137\" or \"DD Neutron Generator\". GS 1503 for DD </p>"
   ]
  },
  {
   "cell_type": "code",
   "execution_count": 18,
   "metadata": {
    "collapsed": false
   },
   "outputs": [],
   "source": [
    "data_set_names=array(cur.fetchall())#return the output of the query and put into an array"
   ]
  },
  {
   "cell_type": "code",
   "execution_count": 19,
   "metadata": {
    "collapsed": false
   },
   "outputs": [
    {
     "data": {
      "text/plain": [
       "array([['lux10_20131024T1909_cp16771'],\n",
       "       ['lux10_20131024T1909_cp16772'],\n",
       "       ['lux10_20131024T1909_cp16773'],\n",
       "       ['lux10_20131024T1909_cp16774'],\n",
       "       ['lux10_20131025T0041_cp16778'],\n",
       "       ['lux10_20131025T1034_cp16787'],\n",
       "       ['lux10_20131025T2016_cp16790'],\n",
       "       ['lux10_20131027T0011_cp16793'],\n",
       "       ['lux10_20131027T1524_cp16796'],\n",
       "       ['lux10_20131028T0050_cp16798'],\n",
       "       ['lux10_20131028T1023_cp16809'],\n",
       "       ['lux10_20131028T2200_cp16810'],\n",
       "       ['lux10_20131030T2221_cp16812'],\n",
       "       ['lux10_20131114T0914_cp16818'],\n",
       "       ['lux10_20131115T0656_cp16819']], \n",
       "      dtype='|S27')"
      ]
     },
     "execution_count": 19,
     "metadata": {},
     "output_type": "execute_result"
    }
   ],
   "source": [
    "data_set_names"
   ]
  },
  {
   "cell_type": "code",
   "execution_count": null,
   "metadata": {
    "collapsed": true
   },
   "outputs": [],
   "source": [
    "#print array of strings:\n",
    "for ii in range(data_set_names.size):\n",
    "    print('{:s}'.format(data_set_names[ii][0]))\n"
   ]
  },
  {
   "cell_type": "markdown",
   "metadata": {},
   "source": [
    "<p> display all data set names by running data_set_names in a cell (you now have an array of strings) </p>"
   ]
  },
  {
   "cell_type": "markdown",
   "metadata": {},
   "source": [
    "<h1> get all the electron lifetime calculations from the lug_iq db </h1>"
   ]
  },
  {
   "cell_type": "code",
   "execution_count": 14,
   "metadata": {
    "collapsed": true
   },
   "outputs": [],
   "source": [
    "algorithm_name='LUXkrypCal'\n",
    "dp_version='2.01'\n",
    "strg_start='select values_xml from control.lug_iqs where iq_type = \"electron_lifetime\" AND strikeme=0 AND algorithm_version = '\n",
    "strg_end=' AND algorithm = \"'\n",
    "group_end=' group by filename_prefix'  #add this to prevent duplication.\n",
    "qry_strg='{:s}{:s}{:s}{:s}\"{:s};'.format(strg_start,dp_version,strg_end,algorithm_name, group_end);"
   ]
  },
  {
   "cell_type": "markdown",
   "metadata": {},
   "source": [
    "<h3> now actually query the db and create a data structure with the xlm dump from the mysql iq table </h3>"
   ]
  },
  {
   "cell_type": "code",
   "execution_count": 15,
   "metadata": {
    "collapsed": false
   },
   "outputs": [
    {
     "data": {
      "text/plain": [
       "'select values_xml from control.lug_iqs where iq_type = \"electron_lifetime\" AND strikeme=0 AND algorithm_version = 2.01 AND algorithm = \"LUXkrypCal\" group by filename_prefix;'"
      ]
     },
     "execution_count": 15,
     "metadata": {},
     "output_type": "execute_result"
    }
   ],
   "source": [
    "qry_strg"
   ]
  },
  {
   "cell_type": "code",
   "execution_count": 16,
   "metadata": {
    "collapsed": false
   },
   "outputs": [
    {
     "data": {
      "text/plain": [
       "89"
      ]
     },
     "execution_count": 16,
     "metadata": {},
     "output_type": "execute_result"
    }
   ],
   "source": [
    "cur.execute(qry_strg)# execute the query"
   ]
  },
  {
   "cell_type": "code",
   "execution_count": 17,
   "metadata": {
    "collapsed": true
   },
   "outputs": [],
   "source": [
    "S=array(cur.fetchall()) #return the output of the query and put into an array"
   ]
  },
  {
   "cell_type": "code",
   "execution_count": 18,
   "metadata": {
    "collapsed": false
   },
   "outputs": [
    {
     "data": {
      "text/plain": [
       "89"
      ]
     },
     "execution_count": 18,
     "metadata": {},
     "output_type": "execute_result"
    }
   ],
   "source": [
    "S"
   ]
  },
  {
   "cell_type": "markdown",
   "metadata": {},
   "source": [
    "<h3> We now have a stucture with 60 xml strings, each one has to be interpreted <br/> Grab the file date and electron lifetime and build a list</h3>"
   ]
  },
  {
   "cell_type": "code",
   "execution_count": 19,
   "metadata": {
    "collapsed": false,
    "scrolled": true
   },
   "outputs": [],
   "source": [
    "e_lifetime=ones(S.size)\n",
    "e_lifetime_err=ones(S.size)\n",
    "file_date=[]\n",
    "dt=[]\n",
    "\n",
    "for ii in range (0,S.size) :\n",
    "    c=ET.XML(S[ii][0]) #the 0 is for the 1st dimension, it is an nx1 array\n",
    "    d=xml2dict.XmlDictObject({c.tag: xml2dict._ConvertXmlToDictRecurse(c, xml2dict.XmlDictObject)})\n",
    "    e_lifetime[ii]=d['iq']['correction']['fit']['electron_attenuation_us'] #grabbing the electron lifetime [ii]\n",
    "    e_lifetime_err[ii]=d['iq']['correction']['fit']['sigma_electron_attenuation_us']\n",
    "    file_date.append(d['iq']['global']['filename_prefix'][6:]) #[6:] removed the lux10_ part of the string [ii]\n",
    "    dt.append(parser.parse(file_date[ii])) #convert the string yyyymmddTMMHH into a datenum. Number of days since year Jan 1 year 0000 (a serial day number, with Jan 1, 0000 defined as day 1.)\n",
    "    \n",
    "dt=array(dt) #create an array from the list of strings"
   ]
  },
  {
   "cell_type": "code",
   "execution_count": 20,
   "metadata": {
    "collapsed": false
   },
   "outputs": [
    {
     "data": {
      "text/plain": [
       "89"
      ]
     },
     "execution_count": 20,
     "metadata": {},
     "output_type": "execute_result"
    }
   ],
   "source": [
    "len(dt)"
   ]
  },
  {
   "cell_type": "markdown",
   "metadata": {},
   "source": [
    "<h1> Make a date plot of the electron lifetime </h1>"
   ]
  },
  {
   "cell_type": "code",
   "execution_count": 21,
   "metadata": {
    "collapsed": false
   },
   "outputs": [
    {
     "data": {
      "text/plain": [
       "<matplotlib.text.Text at 0x7f4356d1fa90>"
      ]
     },
     "execution_count": 21,
     "metadata": {},
     "output_type": "execute_result"
    },
    {
     "data": {
      "image/png": "[encoded data removed]",
      "text/plain": [
       "<matplotlib.figure.Figure at 0x7f4356d1b510>"
      ]
     },
     "metadata": {},
     "output_type": "display_data"
    }
   ],
   "source": [
    "plt.plot_date(dt,e_lifetime) # plot the data\n",
    "\n",
    "#Fit a smooth spline... kinda stupid I know. But just as an example\n",
    "spl = UnivariateSpline(date2num(dt),e_lifetime) #create smooth spline interpolation\n",
    "spl.set_smoothing_factor(.5) # set spline smooth parameter\n",
    "x = np.linspace(min(date2num(dt)), max(date2num(dt)), 100) # create 100 points between the start and end date\n",
    "plt.plot_date(num2date(x),spl(x),'--r') # plot interpolation. pass in x to slp to return the interpolated y value\n",
    "plt.text(num2date(x[30]),2000,'The spline interpolation \\n is clearly wrong here',fontsize=14, color='m') #add text to plot\n",
    "ax = gca()\n",
    "ax.xaxis.set_major_formatter(matplotlib.dates.DateFormatter('%d %b\\n%Y'))\n",
    "plt.errorbar(dt,e_lifetime,e_lifetime_err,fmt=\".k\",markersize=10)\n",
    "plt.rcParams.update({'font.size': 16}) #increase all fontsizes\n",
    "plt.xlabel('Date')\n",
    "plt.ylabel('electron lifetime [us]')\n",
    "#plt.tick_params(axis='both', which='major', labelsize=12) #tick mark size\n",
    "\n"
   ]
  },
  {
   "cell_type": "markdown",
   "metadata": {},
   "source": [
    "<h1> Now cut the data past Jun 01 2014 </h1>"
   ]
  },
  {
   "cell_type": "code",
   "execution_count": 23,
   "metadata": {
    "collapsed": false,
    "scrolled": true
   },
   "outputs": [
    {
     "data": {
      "text/plain": [
       "[<matplotlib.lines.Line2D at 0x7f4356772b10>]"
      ]
     },
     "execution_count": 23,
     "metadata": {},
     "output_type": "execute_result"
    },
    {
     "data": {
      "image/png": "[encoded data removed]",
      "text/plain": [
       "<matplotlib.figure.Figure at 0x7f43568a9890>"
      ]
     },
     "metadata": {},
     "output_type": "display_data"
    }
   ],
   "source": [
    "date_cut=date2num(dt)<datestr2num('Jan 1st 2014 at 00:00') # yyyy mm dd hh mm\n",
    "plt.plot_date(dt[date_cut],e_lifetime[date_cut]) # plot the data\n",
    "\n",
    "#Fit a smooth spline... kinda stupid I know. But just as an example\n",
    "#spl = UnivariateSpline(date2num(dt),e_lifetime) #create smooth spline interpolation\n",
    "#spl.set_smoothing_factor(.5) # set spline smooth parameter\n",
    "#x = np.linspace(min(date2num(dt)), max(date2num(dt)), 100) # create 100 points between the start and end date\n",
    "#plt.plot_date(num2date(x),spl(x),'--r') # plot interpolation. pass in x to slp to return the interpolated y value\n",
    "#plt.text(num2date(x[30]),2000,'The spline interpolation \\n is clearly wrong here',fontsize=14, color='m') #add text to plot\n",
    "ax = gca()\n",
    "ax.xaxis.set_major_formatter(matplotlib.dates.DateFormatter('%d %b\\n%Y'))\n",
    "plt.errorbar(dt[date_cut],e_lifetime[date_cut],e_lifetime_err[date_cut],fmt=\".k\",markersize=10)\n",
    "plt.rcParams.update({'font.size': 16}) #increase all fontsizes\n",
    "plt.xlabel('Date')\n",
    "plt.ylabel('electron lifetime [us]')\n",
    "#plt.tick_params(axis='both', which='major', labelsize=12) #tick mark size\n",
    "\n",
    "#add annotation\n",
    "#plt.annotate('Xe Activation lines from here', xy=(dt[2],450), xytext=(dt[4],400),\n",
    "#        arrowprops=dict(facecolor='k', shrink=0.05),)\n",
    "\n",
    "plt.text(datestr2num('May 24st 2013 at 00:00'),1100,'Run03 WIMP Search',color='m')\n",
    "plt.plot([datestr2num('Sep 1st 2013 at 00:00'),datestr2num('Sep 1st 2013 at 00:00')],[min(e_lifetime[date_cut]),max(e_lifetime[date_cut]*1.02)],'--m')\n",
    "plt.plot([datestr2num('April 24st 2013 at 00:00'),datestr2num('April 24st 2013 at 00:00')],[min(e_lifetime[date_cut]),max(e_lifetime[date_cut]*1.02)],'--m')"
   ]
  },
  {
   "cell_type": "markdown",
   "metadata": {},
   "source": [
    "<h1> Get all S2 (Z=0) fits to check detector stability in S2 </h1>"
   ]
  },
  {
   "cell_type": "code",
   "execution_count": 24,
   "metadata": {
    "collapsed": true
   },
   "outputs": [],
   "source": [
    "algorithm_name='LUXkrypCal'\n",
    "dp_version='2.01'\n",
    "strg_start='select values_xml from control.lug_iqs where iq_type = \"electron_lifetime\" AND strikeme=0 AND algorithm_version = '\n",
    "strg_end=' AND algorithm = \"'\n",
    "group_end=' group by filename_prefix'  #add this to prevent duplication.\n",
    "qry_strg='{:s}{:s}{:s}{:s}\"{:s};'.format(strg_start,dp_version,strg_end,algorithm_name, group_end);"
   ]
  },
  {
   "cell_type": "code",
   "execution_count": 25,
   "metadata": {
    "collapsed": false
   },
   "outputs": [],
   "source": [
    "cur.execute(qry_strg)# execute the query\n",
    "S=array(cur.fetchall()) #return the output of the query and put into an array"
   ]
  },
  {
   "cell_type": "code",
   "execution_count": 26,
   "metadata": {
    "collapsed": false
   },
   "outputs": [],
   "source": [
    "s2_both_z0_phe=ones(S.size)\n",
    "s2_both_z0_phe_err=ones(S.size)\n",
    "file_date=[]\n",
    "dt=[]\n",
    "\n",
    "for ii in range (0,S.size) :\n",
    "    c=ET.XML(S[ii][0]) #the 0 is for the 1st dimension, it is an nx1 array\n",
    "    d=xml2dict.XmlDictObject({c.tag: xml2dict._ConvertXmlToDictRecurse(c, xml2dict.XmlDictObject)})\n",
    "    s2_both_z0_phe[ii]=d['iq']['correction']['fit']['s2_both_z0_phe'] #grabbing the electron lifetime [ii]\n",
    "    s2_both_z0_phe_err[ii]=d['iq']['correction']['fit']['sigma_s2_both_z0_phe'] #grabbing the electron lifetime [ii]\n",
    "    file_date.append(d['iq']['global']['filename_prefix'][6:]) #[6:] removed the lux10_ part of the string [ii]\n",
    "    dt.append(parser.parse(file_date[ii])) #convert the string yyyymmddTMMHH into a datenum. Number of days since year Jan 1 year 0000 (a serial day number, with Jan 1, 0000 defined as day 1.\n",
    "dt=array(dt) #convert the list of strings into an array\n"
   ]
  },
  {
   "cell_type": "code",
   "execution_count": 28,
   "metadata": {
    "collapsed": false
   },
   "outputs": [
    {
     "data": {
      "text/plain": [
       "[<matplotlib.lines.Line2D at 0x7f435605ccd0>]"
      ]
     },
     "execution_count": 28,
     "metadata": {},
     "output_type": "execute_result"
    },
    {
     "data": {
      "image/png": "[encoded data removed]",
      "text/plain": [
       "<matplotlib.figure.Figure at 0x7f4356113510>"
      ]
     },
     "metadata": {},
     "output_type": "display_data"
    }
   ],
   "source": [
    "date_cut=date2num(dt)<datestr2num('Jan 1st 2014 at 00:00') # yyyy mm dd hh mm\n",
    "plt.plot_date(dt[date_cut],s2_both_z0_phe[date_cut]) # plot the data\n",
    "\n",
    "#Fit a smooth spline... kinda stupid I know. But just as an example\n",
    "#spl = UnivariateSpline(date2num(dt),s2_both_z0_phe) #create smooth spline interpolation\n",
    "#spl.set_smoothing_factor(.1) # set spline smooth parameter\n",
    "#x = np.linspace(min(date2num(dt)), max(date2num(dt)), 100) # create 100 points between the start and end date\n",
    "#plt.plot_date(num2date(x),spl(x),'--r') # plot interpolation. pass in x to slp to return the interpolated y value\n",
    "#plt.text(num2date(x[30]),2000,'The spline interpolation \\n is clearly wrong here',fontsize=14, color='m') #add text to plot\n",
    "ax = gca()\n",
    "ax.xaxis.set_major_formatter(matplotlib.dates.DateFormatter('%d %b\\n%Y'))\n",
    "plt.errorbar(dt[date_cut],s2_both_z0_phe[date_cut],s2_both_z0_phe_err[date_cut],fmt=\".k\",markersize=10)\n",
    "plt.rcParams.update({'font.size': 16}) #increase all fontsizes\n",
    "plt.xlabel('Date')\n",
    "plt.ylabel('s2_both_z0_phe [phd]')\n",
    "#plt.tick_params(axis='both', which='major') #tick mark size\n",
    "\n",
    "#add annotation\n",
    "#plt.annotate('Xe Activation lines from here', xy=(dt[2],7500), xytext=(dt[4],7000),\n",
    "#        arrowprops=dict(facecolor='k', shrink=0.05),)\n",
    "\n",
    "plt.text(datestr2num('May 24st 2013 at 00:00'),8000,'Run03 WIMP Search',color='m')\n",
    "plt.plot([datestr2num('Sep 1st 2013 at 00:00'),datestr2num('Sep 1st 2013 at 00:00')],[min(s2_both_z0_phe[date_cut]),max(s2_both_z0_phe[date_cut]*1.02)],'--m')\n",
    "plt.plot([datestr2num('April 24st 2013 at 00:00'),datestr2num('April 24st 2013 at 00:00')],[min(s2_both_z0_phe[date_cut]),max(s2_both_z0_phe[date_cut]*1.02)],'--m')"
   ]
  },
  {
   "cell_type": "markdown",
   "metadata": {},
   "source": [
    "<h1> Check for S1 stability from the S1 responce at the center </h1>"
   ]
  },
  {
   "cell_type": "code",
   "execution_count": 29,
   "metadata": {
    "collapsed": true
   },
   "outputs": [],
   "source": [
    "algorithm_name='LUXkrypCal'\n",
    "dp_version='2.01'\n",
    "strg_start='select values_xml from control.lug_iqs where iq_type = \"z_dep_s1_correction\" AND strikeme=0 AND algorithm_version = '\n",
    "strg_end=' AND algorithm = \"'\n",
    "group_end=' group by filename_prefix'  #add this to prevent duplication.\n",
    "qry_strg='{:s}{:s}{:s}{:s}\"{:s};'.format(strg_start,dp_version,strg_end,algorithm_name, group_end);"
   ]
  },
  {
   "cell_type": "code",
   "execution_count": 30,
   "metadata": {
    "collapsed": true
   },
   "outputs": [],
   "source": [
    "cur.execute(qry_strg)# execute the query\n",
    "S=array(cur.fetchall()) #return the output of the query and put into an array"
   ]
  },
  {
   "cell_type": "code",
   "execution_count": 31,
   "metadata": {
    "collapsed": false
   },
   "outputs": [],
   "source": [
    "s1_both_z_fits=[]\n",
    "s1_both_z_fits_err=[]\n",
    "file_date=[]\n",
    "dt=[]\n",
    "\n",
    "for ii in range (0,S.size) :\n",
    "    c=ET.XML(S[ii][0]) #the 0 is for the 1st dimension, it is an nx1 array\n",
    "    d=xml2dict.XmlDictObject({c.tag: xml2dict._ConvertXmlToDictRecurse(c, xml2dict.XmlDictObject)})\n",
    "    s1_both_z_fits.append(np.fromstring(d['iq']['correction']['fit']['s1_both_zdep_quad_fit'], dtype=float, sep='    ')) #grabbing the electron lifetime [ii]\n",
    "    s1_both_z_fits_err.append(np.fromstring(d['iq']['correction']['fit']['s1_both_sigma_zdep_quad_fit'], dtype=float, sep='    ')) #grabbing the electron lifetime [ii]\n",
    "    file_date.append(d['iq']['global']['filename_prefix'][6:]) #[6:] removed the lux10_ part of the string [ii]\n",
    "    dt.append(parser.parse(file_date[ii])) #convert the string yyyymmddTMMHH into a datenum. Number of days since year Jan 1 year 0000 (a serial day number, with Jan 1, 0000 defined as day 1.\n",
    "dt=array(dt) #convert the list of strings into an array\n",
    "s1_both_z_fits=array(s1_both_z_fits)\n",
    "s1_both_z_fits_err=array(s1_both_z_fits_err)\n"
   ]
  },
  {
   "cell_type": "code",
   "execution_count": 33,
   "metadata": {
    "collapsed": false
   },
   "outputs": [],
   "source": [
    "s1_phe_center=polyval(s1_both_z_fits.T,160); #% S1 at detector center = 160us.\n",
    "s1_phe_center_sig=(polyval(s1_both_z_fits.T+s1_both_z_fits_err.T,160)-polyval(s1_both_z_fits.T-s1_both_z_fits_err.T,160))/2;"
   ]
  },
  {
   "cell_type": "code",
   "execution_count": 34,
   "metadata": {
    "collapsed": false
   },
   "outputs": [
    {
     "data": {
      "text/plain": [
       "[<matplotlib.lines.Line2D at 0x7f4355f598d0>]"
      ]
     },
     "execution_count": 34,
     "metadata": {},
     "output_type": "execute_result"
    },
    {
     "data": {
      "image/png": "[encoded data removed]",
      "text/plain": [
       "<matplotlib.figure.Figure at 0x7f4355fc19d0>"
      ]
     },
     "metadata": {},
     "output_type": "display_data"
    }
   ],
   "source": [
    "date_cut=date2num(dt)<datestr2num('Jan 1st 2014 at 00:00') # yyyy mm dd hh mm\n",
    "plt.plot_date(dt[date_cut],s1_phe_center[date_cut]) # plot the data\n",
    "\n",
    "#Fit a smooth spline... kinda stupid I know. But just as an example\n",
    "#spl = UnivariateSpline(date2num(dt),s2_both_z0_phe) #create smooth spline interpolation\n",
    "#spl.set_smoothing_factor(.1) # set spline smooth parameter\n",
    "#x = np.linspace(min(date2num(dt)), max(date2num(dt)), 100) # create 100 points between the start and end date\n",
    "#plt.plot_date(num2date(x),spl(x),'--r') # plot interpolation. pass in x to slp to return the interpolated y value\n",
    "#plt.text(num2date(x[30]),2000,'The spline interpolation \\n is clearly wrong here',fontsize=14, color='m') #add text to plot\n",
    "ax = gca()\n",
    "ax.xaxis.set_major_formatter(matplotlib.dates.DateFormatter('%d %b\\n%Y'))\n",
    "plt.errorbar(dt[date_cut],s1_phe_center[date_cut],s1_phe_center_sig[date_cut],fmt=\".k\",markersize=10)\n",
    "plt.rcParams.update({'font.size': 16}) #increase all fontsizes\n",
    "plt.xlabel('Date')\n",
    "plt.ylabel('s1_center [phd]')\n",
    "#plt.tick_params(axis='both', which='major') #tick mark size\n",
    "\n",
    "#add annotation\n",
    "#plt.annotate('Xe Activation lines from here', xy=(dt[2],230), xytext=(dt[4],228),\n",
    "#        arrowprops=dict(facecolor='k', shrink=0.05),)\n",
    "\n",
    "plt.text(datestr2num('May 24st 2013 at 00:00'),246,'Run03 WIMP Search',color='m')\n",
    "plt.plot([datestr2num('Sep 1st 2013 at 00:00'),datestr2num('Sep 1st 2013 at 00:00')],[min(s1_phe_center[date_cut]),max(s1_phe_center[date_cut]*1.02)],'--m')\n",
    "plt.plot([datestr2num('April 24st 2013 at 00:00'),datestr2num('April 24st 2013 at 00:00')],[min(s1_phe_center[date_cut]),max(s1_phe_center[date_cut]*1.02)],'--m')"
   ]
  },
  {
   "cell_type": "markdown",
   "metadata": {},
   "source": [
    "<h1> Close the mysql database connection </h1>"
   ]
  },
  {
   "cell_type": "code",
   "execution_count": 35,
   "metadata": {
    "collapsed": true
   },
   "outputs": [],
   "source": [
    "db.close()"
   ]
  },
  {
   "cell_type": "markdown",
   "metadata": {},
   "source": [
    "<h1 style='color:red;'> TEXT </h1>"
   ]
  }
 ],
 "metadata": {
  "kernelspec": {
   "display_name": "Python 2",
   "language": "python",
   "name": "python2"
  },
  "language_info": {
   "codemirror_mode": {
    "name": "ipython",
    "version": 2
   },
   "file_extension": ".py",
   "mimetype": "text/x-python",
   "name": "python",
   "nbconvert_exporter": "python",
   "pygments_lexer": "ipython2",
   "version": "2.7.11"
  }
 },
 "nbformat": 4,
 "nbformat_minor": 0
}
