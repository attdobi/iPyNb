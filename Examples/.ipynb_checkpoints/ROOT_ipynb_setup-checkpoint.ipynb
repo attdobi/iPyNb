{
 "cells": [
  {
   "cell_type": "markdown",
   "metadata": {},
   "source": [
    "<h1> New PyROOT notebook </h1>"
   ]
  },
  {
   "cell_type": "code",
   "execution_count": 1,
   "metadata": {
    "collapsed": true
   },
   "outputs": [],
   "source": [
    "# you need this for root to work... import all your favorite root libs (just a few example ones here)\n",
    "import sys\n",
    "import os\n",
    "sys.path.insert(2, '/global/project/projectdirs/lux/Tools/root_pdsf/root/lib')\n",
    "from ROOT import TCanvas, TPad, TFile, TPaveText, TChain, TCut, TF1, TH1F, TLine,TLegend\n",
    "from ROOT import gBenchmark, gStyle, gROOT"
   ]
  },
  {
   "cell_type": "markdown",
   "metadata": {},
   "source": [
    "<h2> rootnotes_nersc alows graphics to be imbeaded and displayed in your web browser <br> this requires temp files so run clearCanvas() when you finish </h2>"
   ]
  },
  {
   "cell_type": "code",
   "execution_count": 2,
   "metadata": {
    "collapsed": false
   },
   "outputs": [],
   "source": [
    "import rootnotes_nersc\n",
    "from rootnotes_nersc import rtshow, clearCanvas\n",
    "from numpy import *\n",
    "import scipy\n",
    "import pylab"
   ]
  },
  {
   "cell_type": "markdown",
   "metadata": {},
   "source": [
    "<h1> do whatever it is you ROOT-people do, right here in the ipython notebook </h1>"
   ]
  },
  {
   "cell_type": "code",
   "execution_count": 3,
   "metadata": {
    "collapsed": false
   },
   "outputs": [
    {
     "data": {
      "text/plain": [
       "3"
      ]
     },
     "execution_count": 3,
     "metadata": {},
     "output_type": "execute_result"
    }
   ],
   "source": [
    "chain3 = TChain('golden')\n",
    "chain3.Add('/project/projectdirs/lux/data/golden/Golden_Cs137_Aug.root')\n",
    "\n",
    "chain2 = TChain('golden')\n",
    "chain2.Add('/project/projectdirs/lux/data/golden/Golden_Run03/Golden_150303_WS*.root')\n",
    "\n",
    "chain = TChain('golden')\n",
    "chain.Add('/project/projectdirs/lux/data/golden/Golden_XeAct/*.root')"
   ]
  },
  {
   "cell_type": "code",
   "execution_count": 4,
   "metadata": {
    "collapsed": true
   },
   "outputs": [],
   "source": [
    "g1=0.1167\n",
    "g2=12.05\n",
    "\n",
    "g1_D=0.116\n",
    "g2_D=0.473*24.66"
   ]
  },
  {
   "cell_type": "markdown",
   "metadata": {},
   "source": [
    "<h1> create a new canvas, used to embed pdf images into html </h1>"
   ]
  },
  {
   "cell_type": "code",
   "execution_count": 7,
   "metadata": {
    "collapsed": true
   },
   "outputs": [],
   "source": [
    "c1 = rootnotes_nersc.default_canvas(name='icanvas1', size=(800, 600))"
   ]
  },
  {
   "cell_type": "code",
   "execution_count": 8,
   "metadata": {
    "collapsed": false
   },
   "outputs": [
    {
     "name": "stderr",
     "output_type": "stream",
     "text": [
      "TROOT::Append:0: RuntimeWarning: Replacing existing TH1: density_plt_hst (Potential memory leak).\n",
      "TROOT::Append:0: RuntimeWarning: Replacing existing TH1: density_plt_hst2 (Potential memory leak).\n"
     ]
    },
    {
     "data": {
      "text/html": [
       "<iframe src=tmpNB/tmpgkj8WB.pdf width=800 height=600></iframe>"
      ],
      "text/latex": [
       "\\includegraphics[width=1.0\\textwidth]{tmpNB/tmpgkj8WB.pdf}"
      ],
      "text/plain": [
       "<rootnotes_nersc.PDF at 0x2b86b1654490>"
      ]
     },
     "execution_count": 8,
     "metadata": {},
     "output_type": "execute_result"
    }
   ],
   "source": [
    "fid_vol=TCut('drift>35 && drift<308 && correctedRadius<20')\n",
    "area_cut=TCut('s1area>10**1 && s1area<10**7 && s2area_raw>150 && s2area>10**2 && s2area<10**7')\n",
    "bad_area_cut=TCut('((goodArea<=630 && badArea < 80) || (goodArea>630 && badArea < 80+0.095*(goodArea-630)))')\n",
    "combined_cut=TCut(fid_vol.GetTitle() + '&&'+ area_cut.GetTitle() + '&&' + bad_area_cut.GetTitle());\n",
    "\n",
    "density_plt_hst=TH1F('density_plt_hst',';E_com',400,0,1000)\n",
    "density_plt_hst2=TH1F('density_plt_hst2',';E_com',200,0,1000)\n",
    "density_plt_hst2.SetLineColor(2)\n",
    "n=chain2.Draw('1/73*(s1area/{:g}+s2area/{:g})>>density_plt_hst'.format(g1,g2),combined_cut) # WS is chain2\n",
    "n2=chain3.Draw('1/73*(s1area/{:g}+s2area/{:g})>>density_plt_hst2'.format(g1,g2),combined_cut,\"same\") # Cs is chain3\n",
    "\n",
    "#s2_rec_cor # the s2 saturation corrected variable\n",
    "\n",
    "density_plt_hst.Scale(1./5)\n",
    "\n",
    "# Add lines to the plot\n",
    "aline=[]\n",
    "Energies=[5.2,41.55,163,207,236.8,410,609,661.6] \n",
    "# [X-ray, 83Kr, 131mXe, 127Xe,129Xe,127Xe,214Bi,127Cs]\n",
    "#Energies=[661.6,969,1173,1311,1461,2204.21,2614.53] \n",
    "\n",
    "for ii, En in enumerate(Energies):\n",
    "    aline.append(TLine(En,0,En,1e5))\n",
    "    aline[ii].SetLineStyle(2)\n",
    "    aline[ii].SetLineColor(1) #black =1\n",
    "    aline[ii].Draw()\n",
    "    \n",
    "# Add legend\n",
    "Leg=TLegend(.7, .6,.9,.72)\n",
    "Leg.AddEntry(density_plt_hst,'WSdata/100','l')\n",
    "Leg.AddEntry(density_plt_hst2,'Cs-Aug','l')\n",
    "Leg.SetBorderSize(0) \n",
    "Leg.SetFillStyle(0)\n",
    "Leg.Draw()\n",
    "\n",
    "c1.SetLogy()\n",
    "rtshow(c1)"
   ]
  },
  {
   "cell_type": "markdown",
   "metadata": {},
   "source": [
    "<h1> at the end you'll have to clear the temp images diplayed in the html <br> working on a auto-delete, but whatever this works for now </h1>"
   ]
  },
  {
   "cell_type": "code",
   "execution_count": 9,
   "metadata": {
    "collapsed": true
   },
   "outputs": [],
   "source": [
    "clearCanvas()"
   ]
  },
  {
   "cell_type": "code",
   "execution_count": null,
   "metadata": {
    "collapsed": true
   },
   "outputs": [],
   "source": []
  }
 ],
 "metadata": {
  "kernelspec": {
   "display_name": "pyrootnb",
   "language": "python",
   "name": "pyrootnb"
  },
  "language_info": {
   "codemirror_mode": {
    "name": "ipython",
    "version": 2
   },
   "file_extension": ".py",
   "mimetype": "text/x-python",
   "name": "python",
   "nbconvert_exporter": "python",
   "pygments_lexer": "ipython2",
   "version": "2.7.10"
  }
 },
 "nbformat": 4,
 "nbformat_minor": 0
}
