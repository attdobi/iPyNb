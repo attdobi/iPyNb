{
 "cells": [
  {
   "cell_type": "markdown",
   "metadata": {},
   "source": [
    "<h1> Example Analysis Code For Golden Run03 MAT File </h1>"
   ]
  },
  {
   "cell_type": "code",
   "execution_count": 30,
   "metadata": {
    "collapsed": false
   },
   "outputs": [],
   "source": [
    "from numpy import *\n",
    "import scipy\n",
    "import pylab\n",
    "import matplotlib.pyplot as plt # plotting libraries from matlab\n",
    "from scipy.stats import multivariate_normal\n",
    "from dateutil import parser\n",
    "import matplotlib.dates as md\n",
    "import scipy.io as sio\n",
    "from scipy.optimize import curve_fit # for fitting\n",
    "from __future__ import division #otherwise 1/73 = 0 in python2\n",
    "import pandas as pd\n",
    "\n",
    "#Aaron's libs\n",
    "import sys\n",
    "sys.path.insert(2, '//global/project/projectdirs/lux/data')\n",
    "import aLib"
   ]
  },
  {
   "cell_type": "code",
   "execution_count": 31,
   "metadata": {
    "collapsed": false
   },
   "outputs": [
    {
     "name": "stdout",
     "output_type": "stream",
     "text": [
      "Populating the interactive namespace from numpy and matplotlib\n"
     ]
    },
    {
     "name": "stderr",
     "output_type": "stream",
     "text": [
      "WARNING: pylab import has clobbered these variables: ['figure', 'pylab', 'multivariate_normal']\n",
      "`%matplotlib` prevents importing * from pylab and numpy\n"
     ]
    }
   ],
   "source": [
    "%pylab inline  \n",
    "#always do this for matplotlib plotting...  \n",
    "#and set the size of figures to display in window\n",
    "pylab.rcParams['figure.figsize'] = (12.0, 8.0) # set size of figures"
   ]
  },
  {
   "cell_type": "markdown",
   "metadata": {},
   "source": [
    "<h1> Load in the Golden Run03 matfile created from root_numpy. About 1.1 GB </h1>"
   ]
  },
  {
   "cell_type": "code",
   "execution_count": 32,
   "metadata": {
    "collapsed": false
   },
   "outputs": [],
   "source": [
    "data=sio.loadmat('/project/projectdirs/lux/data/golden/mat/Golden_Run03.mat')\n",
    "#list of other available files in the /golden/mat directory:\n",
    "#2013_XeAct_Golden.mat  Golden_CH3T_Aug2013.mat  Golden_Cs137_Aug2013.mat     Golden_Run03.mat  post_DD_2013_Golden.mat\n",
    "#DD_2013_Golden.mat     Golden_CH3T_Dec2013.mat  Golden_Cs137_Run04-2015.mat  Golden_Run04.mat"
   ]
  },
  {
   "cell_type": "markdown",
   "metadata": {},
   "source": [
    "<h1> Convert dictionary to structure using Aaron's awesome code. And list rqs </h1>"
   ]
  },
  {
   "cell_type": "code",
   "execution_count": 33,
   "metadata": {
    "collapsed": true
   },
   "outputs": [],
   "source": [
    "S=aLib.S(data)"
   ]
  },
  {
   "cell_type": "code",
   "execution_count": 37,
   "metadata": {
    "collapsed": false
   },
   "outputs": [
    {
     "data": {
      "text/plain": [
       "['sd_Rsup',\n",
       " 'corrected_y',\n",
       " 'corrected_x',\n",
       " 's1xyz_correction',\n",
       " 's1area_raw',\n",
       " 's1eFitTauFall',\n",
       " 's2_rec_cor',\n",
       " 's1area',\n",
       " 'elife_correction',\n",
       " 'luxstamp',\n",
       " 'radius',\n",
       " 'taxy_y',\n",
       " 'taxy_x',\n",
       " 'partner',\n",
       " 'badArea',\n",
       " 'sd_Rinf',\n",
       " 'correctedRadius',\n",
       " 'q2',\n",
       " 's2',\n",
       " 's1',\n",
       " 's2eFitTauFall',\n",
       " 's2xy_correction',\n",
       " 's2pf',\n",
       " 'taxy_x_cor',\n",
       " 'spikyS1_raw',\n",
       " '__version__',\n",
       " 's2area_bot_raw',\n",
       " 's2xy_correction_bot',\n",
       " 'taxy_correctedRadius',\n",
       " 'goodArea',\n",
       " 'excluded',\n",
       " 'taxy_radius',\n",
       " 'drift',\n",
       " 'close2End',\n",
       " 'tb_asymmetry',\n",
       " 's2_gaus_fit_chisq',\n",
       " 's2_rms_width_samples',\n",
       " 's2_gaus_fit_dof',\n",
       " 'new_drift',\n",
       " 's2area',\n",
       " 'zdrift',\n",
       " 'se_before_s1',\n",
       " 'dof',\n",
       " '__header__',\n",
       " '__globals__',\n",
       " 's2area_bot',\n",
       " 's2area_raw',\n",
       " 'spikyS2',\n",
       " 'taxy_xy_sigma',\n",
       " 'y',\n",
       " 'x',\n",
       " 's1pf',\n",
       " 'sdPhi',\n",
       " 'spikyS2_raw',\n",
       " 'taxy_y_cor',\n",
       " 'spikyS1']"
      ]
     },
     "execution_count": 37,
     "metadata": {},
     "output_type": "execute_result"
    }
   ],
   "source": [
    "#check what is available\n",
    "data.keys()"
   ]
  },
  {
   "cell_type": "code",
   "execution_count": 38,
   "metadata": {
    "collapsed": false
   },
   "outputs": [
    {
     "data": {
      "text/plain": [
       "5504082"
      ]
     },
     "execution_count": 38,
     "metadata": {},
     "output_type": "execute_result"
    }
   ],
   "source": [
    "S.size"
   ]
  },
  {
   "cell_type": "markdown",
   "metadata": {},
   "source": [
    "<h1> Plot S1 vs S2 ... Doke Plot 101... same as ROOT version in AnalysisCode/ </h1>"
   ]
  },
  {
   "cell_type": "code",
   "execution_count": null,
   "metadata": {
    "collapsed": false
   },
   "outputs": [],
   "source": [
    "#Run03 Golden->Platinum cuts\n",
    "fid_vol=(aLib.inrange(S.drift,[35, 308]) & (S.correctedRadius<20))\n",
    "area_cut=aLib.inrange(S.s1area,[10**1,10**4]) & (S.s2area_raw>150) & aLib.inrange(S.s2area,[10**2,10**6])\n",
    "bad_area_cut=((S.goodArea<=630 & (S.badArea < 80)) | ( (S.goodArea>630) & (S.badArea < 80+0.095*(S.goodArea-630))) )\n",
    "exclusion_cut=(S.partner==0) & (S.excluded==0)\n",
    "\n",
    "golden_cut=fid_vol&area_cut&bad_area_cut&exclusion_cut"
   ]
  },
  {
   "cell_type": "code",
   "execution_count": null,
   "metadata": {
    "collapsed": false
   },
   "outputs": [],
   "source": [
    "figure=aLib.plot2d(log10(S.s2area[golden_cut]),log10(S.s1area[golden_cut]),[3,6],[2,4],200,200,'log10')\n",
    "\n",
    "plt.xlabel('log_{10}(s2area phd)')\n",
    "plt.ylabel('log_{10}(s1area phd)')\n",
    "cc=pylab.colorbar()\n",
    "cc.set_label('log10(count)',fontsize=18)\n",
    "\n",
    "plt.rcParams.update({'font.size': 18}) #set all fontsizes to 18\n",
    "\n",
    "plt.text(4.5,2.4,'83Kr',fontsize=18,color='m')"
   ]
  },
  {
   "cell_type": "code",
   "execution_count": null,
   "metadata": {
    "collapsed": false
   },
   "outputs": [],
   "source": [
    "figure=aLib.plot2d(log10(S.s2area[golden_cut]),log10(S.s1area[golden_cut]),[4.5,5.6],[2.6,3.8],300,300)\n",
    "\n",
    "plt.xlabel('log_{10}(s2area phd)')\n",
    "plt.ylabel('log_{10}(s1area phd)')\n",
    "cc=pylab.colorbar()\n",
    "cc.set_label('count',fontsize=18)\n",
    "\n",
    "plt.rcParams.update({'font.size': 18}) #set all fontsizes to 18\n",
    "\n",
    "\n",
    "#plt.text(4.5,2.4,'83Kr',fontsize=18,color='m')"
   ]
  },
  {
   "cell_type": "markdown",
   "metadata": {},
   "source": [
    "<h1> define energies and cuts ... taken from root example </h1>"
   ]
  },
  {
   "cell_type": "code",
   "execution_count": null,
   "metadata": {
    "collapsed": true
   },
   "outputs": [],
   "source": [
    "Energies=[5.2,41.55,163.9,207,236.8,410,609,661.6]\n",
    "NamesE=[\"5keV\",\"83Kr-42\",\"164\",\"207\",\"237\",\"410\",\"609\",\"662\"]\n",
    "cutsx=[[log10(1400),log10(1400),log10(2600),log10(2600)],\n",
    "           [3.6,3.6,4.4,4.4],\n",
    "           [4.6,4.6,4.9,4.9], \n",
    "           [4.7,4.7,4.95,4.95], \n",
    "           [4.7,4.7,5.05,5.05], \n",
    "           [5.02,5.02,5.3,5.25], \n",
    "           [5.3,5.3,5.5,5.5],\n",
    "           [5.55,5.35,5.4,5.6]]\n",
    "\n",
    "cutsy=[[1,log10(40),log10(40),1],\n",
    "           [2.2,2.6,2.6,2.2],\n",
    "           [2.9,3.1,2.9,2.8], \n",
    "           [3.05,3.15,3.0,2.9], \n",
    "           [3.1,3.25,3.1,2.95], \n",
    "           [3.35, 3.5, 3.3, 3.2], \n",
    "           [3.4,3.63,3.43,3.25],\n",
    "           [3.25,3.5,3.6,3.4]]\n",
    "\n",
    "mean_s2=zeros(len(Energies))\n",
    "mean_s2_sig=zeros(len(Energies))\n",
    "mean_s1=zeros(len(Energies))\n",
    "mean_s1_sig=zeros(len(Energies))"
   ]
  },
  {
   "cell_type": "markdown",
   "metadata": {},
   "source": [
    "<h1> make a diagonal cut to isolate the islands of constant energy, 237 keV line </h1>"
   ]
  },
  {
   "cell_type": "code",
   "execution_count": null,
   "metadata": {
    "collapsed": true
   },
   "outputs": [],
   "source": [
    "f1=polyfit([cutsx[4][0],cutsx[4][3]],[cutsy[4][0],cutsy[4][3]],1)\n",
    "f2=polyfit([cutsx[4][1],cutsx[4][2]],[cutsy[4][1],cutsy[4][2]],1)"
   ]
  },
  {
   "cell_type": "code",
   "execution_count": null,
   "metadata": {
    "collapsed": false
   },
   "outputs": [],
   "source": [
    "cut_237 = (log10(S.s1area)>=polyval(f1,log10(S.s2area))) & (log10(S.s1area)<=polyval(f2,log10(S.s2area))) & aLib.inrange(log10(S.s2area),[min(cutsx[4]),max(cutsx[4])])"
   ]
  },
  {
   "cell_type": "code",
   "execution_count": null,
   "metadata": {
    "collapsed": false
   },
   "outputs": [],
   "source": [
    "figure=aLib.plot2d(log10(S.s2area[cut_237&golden_cut]),log10(S.s1area[cut_237&golden_cut]),[4.5,5.6],[2.6,3.8],300,300)\n",
    "\n",
    "plt.xlabel('log_{10}(s2area phd)')\n",
    "plt.ylabel('log_{10}(s1area phd)')\n",
    "cc=pylab.colorbar()\n",
    "cc.set_label('count',fontsize=18)\n",
    "\n",
    "plt.rcParams.update({'font.size': 18}) #set all fontsizes to 18"
   ]
  },
  {
   "cell_type": "markdown",
   "metadata": {},
   "source": [
    "<h1> Plot a 2D normal distribution to the data to extract the means </h1>"
   ]
  },
  {
   "cell_type": "code",
   "execution_count": null,
   "metadata": {
    "collapsed": true
   },
   "outputs": [],
   "source": [
    "#define 2D normal fitting here:\n",
    "\n",
    "import scipy.optimize as opt\n",
    "import numpy as np\n",
    "\n",
    "def twoD_Gaussian((x, y), amplitude, xo, yo, sigma_x, sigma_y, theta, offset):\n",
    "    xo = float(xo)\n",
    "    yo = float(yo)    \n",
    "    a = (np.cos(theta)**2)/(2*sigma_x**2) + (np.sin(theta)**2)/(2*sigma_y**2)\n",
    "    b = -(np.sin(2*theta))/(4*sigma_x**2) + (np.sin(2*theta))/(4*sigma_y**2)\n",
    "    c = (np.sin(theta)**2)/(2*sigma_x**2) + (np.cos(theta)**2)/(2*sigma_y**2)\n",
    "    g = offset + amplitude*np.exp( - (a*((x-xo)**2) + 2*b*(x-xo)*(y-yo) \n",
    "                            + c*((y-yo)**2)))\n",
    "    return g.ravel()"
   ]
  },
  {
   "cell_type": "code",
   "execution_count": null,
   "metadata": {
    "collapsed": false
   },
   "outputs": [],
   "source": [
    "s2=S.s2area[cut_237&golden_cut]\n",
    "s1=S.s1area[cut_237&golden_cut]\n",
    "\n",
    "H, xedges, yedges = histogram2d(s2, s1, bins=20, range=None, normed=False)\n",
    "H=H.T\n",
    "x_bin_center=(xedges[:-1]+xedges[1:])/2\n",
    "y_bin_center=(yedges[:-1]+yedges[1:])/2\n",
    "\n",
    "initial_guess = (H.max(), mean(s2), mean(s1), std(s2), std(s1),0,0)\n",
    "x, y = np.meshgrid(x_bin_center, y_bin_center)\n",
    "\n",
    "popt, pcov = opt.curve_fit(twoD_Gaussian, (x, y), H.ravel(), p0=initial_guess)\n",
    "\n",
    "mean_s2=popt[1]\n",
    "mean_s2_sig=sqrt(pcov[1,1])\n",
    "mean_s1=popt[2]\n",
    "mean_s1_sig=sqrt(pcov[2,2])"
   ]
  },
  {
   "cell_type": "code",
   "execution_count": null,
   "metadata": {
    "collapsed": false
   },
   "outputs": [],
   "source": [
    "data_fitted = twoD_Gaussian((x, y), *popt)\n",
    "figure\n",
    "fig, ax = plt.subplots(1,1)\n",
    "ax.hold(True)\n",
    "#ax.imshow(H.reshape(x.shape), cmap=plt.cm.jet, origin='bottom',\n",
    "#    extent=(x.min(), x.max(), y.min(), y.max()))\n",
    "plt.contourf(x_bin_center,y_bin_center,H,10)\n",
    "ax.contour(x, y, data_fitted.reshape(x.shape), 7, colors='w')\n",
    "plt.xlabel('S2_c',fontsize=16)\n",
    "plt.ylabel('S1_c',fontsize=16)\n",
    "plt.xticks(fontsize=16)\n",
    "plt.yticks(fontsize=16)\n",
    "cb=plt.colorbar()\n",
    "cb.set_label('Count',fontsize=16)\n",
    "plt.text(x.min()*1.22,y.max()*.95,'S2={:1.1f} +/- {:1.1f} \\n S1={:1.1f} +/- {:1.1f}'.format(popt[1],sqrt(pcov[1,1]),popt[2],sqrt(pcov[2,2])),\n",
    "         horizontalalignment='center', verticalalignment='center', bbox=dict(facecolor='w', alpha=0.9),fontsize=18)\n",
    "plt.title('236 keV 127Xe')\n",
    "savefig('Xe127_236keV.pdf')"
   ]
  },
  {
   "cell_type": "markdown",
   "metadata": {},
   "source": [
    "<h1> Make an energy histogam </h1>"
   ]
  },
  {
   "cell_type": "code",
   "execution_count": null,
   "metadata": {
    "collapsed": true
   },
   "outputs": [],
   "source": [
    "fid_vol=(aLib.inrange(S.drift,[35, 308]) & (S.correctedRadius<20))\n",
    "area_cut=aLib.inrange(S.s1area,[0,10**4]) & (S.s2area_raw>150) & aLib.inrange(S.s2area,[10**2,10**6])\n",
    "bad_area_cut=((S.goodArea<=630 & (S.badArea < 80)) | ( (S.goodArea>630) & (S.badArea < 80+0.095*(S.goodArea-630))) )\n",
    "exclusion_cut=(S.partner==0) & (S.excluded==0)\n",
    "\n",
    "golden_cut=fid_vol&area_cut&bad_area_cut&exclusion_cut"
   ]
  },
  {
   "cell_type": "code",
   "execution_count": null,
   "metadata": {
    "collapsed": true
   },
   "outputs": [],
   "source": [
    "g1=0.1167\n",
    "g2=12.05"
   ]
  },
  {
   "cell_type": "code",
   "execution_count": null,
   "metadata": {
    "collapsed": false
   },
   "outputs": [],
   "source": [
    "s2=S.s2area[golden_cut]\n",
    "s1=S.s1area[golden_cut]\n",
    "\n",
    "E_com=1/73*(s1/g1+s2/g2)\n",
    "n, xedges = histogram(E_com,arange(0,1000,5))\n",
    "bin_center=(xedges[1:]+xedges[:-1])/2\n",
    "\n",
    "plt.step(bin_center,n,'k')\n",
    "plt.yscale('log')\n",
    "plt.ylabel('Count/keV')\n",
    "plt.xlabel('Combined Energy [keV]')\n",
    "plt.rcParams.update({'font.size': 18}) #increase all fontsizes\n",
    "\n",
    "Energies=[5.2,41.55,163,207,236.8,410,609]\n",
    "for ii, En in enumerate(Energies):\n",
    "    plt.plot([En,En],[10,1e6],'--m')\n",
    "\n",
    "#ylim([10,5e5])\n",
    "#plt.legend(('Golden-Doke'))"
   ]
  },
  {
   "cell_type": "markdown",
   "metadata": {},
   "source": [
    "<h1> plot low E region... use spikyS1 below 100 phd ... 2.7 keV?? </h1>"
   ]
  },
  {
   "cell_type": "code",
   "execution_count": null,
   "metadata": {
    "collapsed": true
   },
   "outputs": [],
   "source": [
    "fid_vol=(aLib.inrange(S.drift,[35, 308]) & (S.correctedRadius<22))\n",
    "area_cut=aLib.inrange(S.spikyS1,[0.5,150]) & aLib.inrange(S.s1area,[0.5,10**3]) & (S.s2area_raw>150) & aLib.inrange(S.s2area,[100,10**4])\n",
    "bad_area_cut=((S.goodArea<=630 & (S.badArea < 80)) | ( (S.goodArea>630) & (S.badArea < 80+0.095*(S.goodArea-630))) )\n",
    "exclusion_cut=(S.partner==0) & (S.excluded==0)\n",
    "\n",
    "golden_cut=fid_vol&area_cut&bad_area_cut&exclusion_cut"
   ]
  },
  {
   "cell_type": "code",
   "execution_count": null,
   "metadata": {
    "collapsed": true
   },
   "outputs": [],
   "source": [
    "#Gaussian function\n",
    "def gauss_function(x, a, x0, sigma):\n",
    "    return a*np.exp(-(x-x0)**2/(2*sigma**2))"
   ]
  },
  {
   "cell_type": "code",
   "execution_count": null,
   "metadata": {
    "collapsed": false
   },
   "outputs": [],
   "source": [
    "s2=S.s2area[golden_cut]\n",
    "s1=S.spikyS1[golden_cut]\n",
    "\n",
    "E_com=1/73*(s1/g1+s2/g2)\n",
    "n, xedges = histogram(E_com,arange(0,10,0.3))\n",
    "bin_center=(xedges[1:]+xedges[:-1])/2\n",
    "\n",
    "#fit a gaussian around the 5.3 keV x-ray from Xe127\n",
    "fitcut=aLib.inrange(bin_center,[3.5,7])\n",
    "popt, pcov = curve_fit(gauss_function, bin_center[fitcut],n[fitcut],p0 = [1, mean(E_com), std(E_com)])\n",
    "plt.plot(bin_center,gauss_function(bin_center, *popt),'--r')\n",
    "plt.text(xedges.max()*.85,n.max()*.97,'mean={:1.1f} +/- {:1.2f} \\n sigma={:1.1f} +/- {:1.2f}'.format(popt[1],sqrt(pcov[1,1]),popt[2],sqrt(pcov[2,2])),\n",
    "         horizontalalignment='center', verticalalignment='center', bbox=dict(facecolor='w', alpha=0.9),fontsize=18)\n",
    "\n",
    "plt.step(bin_center,n,'k')\n",
    "#plt.yscale('log')\n",
    "plt.ylabel('Count/keV')\n",
    "plt.xlabel('Combined Energy [keV]')\n",
    "plt.rcParams.update({'font.size': 18}) #increase all fontsizes\n",
    "\n",
    "Energies=[1.5,2.7,5.3]\n",
    "for ii, En in enumerate(Energies):\n",
    "    plt.plot([En,En],[0,100],'--m')"
   ]
  },
  {
   "cell_type": "markdown",
   "metadata": {},
   "source": [
    "<h1> Get LUX Stamps </h1>"
   ]
  },
  {
   "cell_type": "code",
   "execution_count": null,
   "metadata": {
    "collapsed": false
   },
   "outputs": [],
   "source": [
    "S.luxstamp[golden_cut] #... add Energy cut, radial cut or whatever..."
   ]
  },
  {
   "cell_type": "code",
   "execution_count": null,
   "metadata": {
    "collapsed": true
   },
   "outputs": [],
   "source": []
  }
 ],
 "metadata": {
  "kernelspec": {
   "display_name": "Python 2",
   "language": "python",
   "name": "python2"
  },
  "language_info": {
   "codemirror_mode": {
    "name": "ipython",
    "version": 2
   },
   "file_extension": ".py",
   "mimetype": "text/x-python",
   "name": "python",
   "nbconvert_exporter": "python",
   "pygments_lexer": "ipython2",
   "version": "2.7.10"
  }
 },
 "nbformat": 4,
 "nbformat_minor": 0
}
