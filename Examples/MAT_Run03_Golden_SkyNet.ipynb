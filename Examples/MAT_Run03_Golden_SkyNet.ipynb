{
 "cells": [
  {
   "cell_type": "markdown",
   "metadata": {},
   "source": [
    "<h1> Golden Run03 SkyNet </h1>"
   ]
  },
  {
   "cell_type": "code",
   "execution_count": 1,
   "metadata": {
    "collapsed": false
   },
   "outputs": [],
   "source": [
    "from numpy import *\n",
    "import scipy\n",
    "import pylab\n",
    "import matplotlib.pyplot as plt # plotting libraries from matlab\n",
    "from scipy.stats import multivariate_normal\n",
    "from dateutil import parser\n",
    "import matplotlib.dates as md\n",
    "import scipy.io as sio\n",
    "from scipy.optimize import curve_fit # for fitting\n",
    "from __future__ import division #otherwise 1/73 = 0 in python2\n",
    "import pandas as pd\n",
    "\n",
    "#Aaron's libs\n",
    "import sys\n",
    "sys.path.insert(2, '//global/project/projectdirs/lux/data')\n",
    "import aLib"
   ]
  },
  {
   "cell_type": "code",
   "execution_count": 2,
   "metadata": {
    "collapsed": false
   },
   "outputs": [
    {
     "name": "stdout",
     "output_type": "stream",
     "text": [
      "Populating the interactive namespace from numpy and matplotlib\n"
     ]
    },
    {
     "name": "stderr",
     "output_type": "stream",
     "text": [
      "WARNING: pylab import has clobbered these variables: ['pylab', 'multivariate_normal']\n",
      "`%matplotlib` prevents importing * from pylab and numpy\n"
     ]
    }
   ],
   "source": [
    "%pylab inline  \n",
    "#always do this for matplotlib plotting...  \n",
    "#and set the size of figures to display in window\n",
    "pylab.rcParams['figure.figsize'] = (12.0, 8.0) # set size of figures"
   ]
  },
  {
   "cell_type": "markdown",
   "metadata": {},
   "source": [
    "<h1> Load in the Golden Run03 matfile created from root_numpy. About 1.1 GB </h1>"
   ]
  },
  {
   "cell_type": "code",
   "execution_count": 3,
   "metadata": {
    "collapsed": false
   },
   "outputs": [],
   "source": [
    "data=sio.loadmat('/project/projectdirs/lux/data/golden/mat/Golden_Run03.mat')\n",
    "#list of other available files in the /golden/mat directory:\n",
    "#2013_XeAct_Golden.mat  Golden_CH3T_Aug2013.mat  Golden_Cs137_Aug2013.mat     Golden_Run03.mat  post_DD_2013_Golden.mat\n",
    "#DD_2013_Golden.mat     Golden_CH3T_Dec2013.mat  Golden_Cs137_Run04-2015.mat  Golden_Run04.mat"
   ]
  },
  {
   "cell_type": "markdown",
   "metadata": {},
   "source": [
    "<h1> Convert dictionary to structure using Aaron's awesome code. And list rqs </h1>"
   ]
  },
  {
   "cell_type": "code",
   "execution_count": 4,
   "metadata": {
    "collapsed": true
   },
   "outputs": [],
   "source": [
    "S=aLib.S(data)"
   ]
  },
  {
   "cell_type": "code",
   "execution_count": 5,
   "metadata": {
    "collapsed": false
   },
   "outputs": [
    {
     "data": {
      "text/plain": [
       "['sd_Rsup',\n",
       " 'corrected_y',\n",
       " 'corrected_x',\n",
       " 's1xyz_correction',\n",
       " 's1area_raw',\n",
       " 's1eFitTauFall',\n",
       " 's2_rec_cor',\n",
       " 's1area',\n",
       " 'elife_correction',\n",
       " 'luxstamp',\n",
       " 'radius',\n",
       " 'taxy_y',\n",
       " 'taxy_x',\n",
       " 'partner',\n",
       " 'badArea',\n",
       " 'sd_Rinf',\n",
       " 'correctedRadius',\n",
       " 'q2',\n",
       " 's2',\n",
       " 's1',\n",
       " 's2eFitTauFall',\n",
       " 's2xy_correction',\n",
       " 's2pf',\n",
       " 'taxy_x_cor',\n",
       " 'spikyS1_raw',\n",
       " '__version__',\n",
       " 's2area_bot_raw',\n",
       " 's2xy_correction_bot',\n",
       " 'taxy_correctedRadius',\n",
       " 'goodArea',\n",
       " 'excluded',\n",
       " 'taxy_radius',\n",
       " 'drift',\n",
       " 'close2End',\n",
       " 'tb_asymmetry',\n",
       " 's2_gaus_fit_chisq',\n",
       " 's2_rms_width_samples',\n",
       " 's2_gaus_fit_dof',\n",
       " 'new_drift',\n",
       " 's2area',\n",
       " 'zdrift',\n",
       " 'se_before_s1',\n",
       " 'dof',\n",
       " '__header__',\n",
       " '__globals__',\n",
       " 's2area_bot',\n",
       " 's2area_raw',\n",
       " 'spikyS2',\n",
       " 'taxy_xy_sigma',\n",
       " 'y',\n",
       " 'x',\n",
       " 's1pf',\n",
       " 'sdPhi',\n",
       " 'spikyS2_raw',\n",
       " 'taxy_y_cor',\n",
       " 'spikyS1']"
      ]
     },
     "execution_count": 5,
     "metadata": {},
     "output_type": "execute_result"
    }
   ],
   "source": [
    "#check what is available\n",
    "data.keys()"
   ]
  },
  {
   "cell_type": "code",
   "execution_count": 9,
   "metadata": {
    "collapsed": false
   },
   "outputs": [
    {
     "data": {
      "text/plain": [
       "5504082"
      ]
     },
     "execution_count": 9,
     "metadata": {},
     "output_type": "execute_result"
    }
   ],
   "source": [
    "S.s1area.size"
   ]
  },
  {
   "cell_type": "markdown",
   "metadata": {},
   "source": [
    "<h1> define energies and cuts ... taken from root example </h1>"
   ]
  },
  {
   "cell_type": "code",
   "execution_count": 5,
   "metadata": {
    "collapsed": true
   },
   "outputs": [],
   "source": [
    "Energies=[5.2,41.55,163.9,207,236.8,410,609,661.6]\n",
    "NamesE=[\"5keV\",\"83Kr-42\",\"164\",\"207\",\"237\",\"410\",\"609\",\"662\"]\n",
    "cutsx=[[log10(1400),log10(1400),log10(2600),log10(2600)],\n",
    "           [3.6,3.6,4.4,4.4],\n",
    "           [4.6,4.6,4.9,4.9], \n",
    "           [4.7,4.7,4.95,4.95], \n",
    "           [4.7,4.7,5.05,5.05], \n",
    "           [5.02,5.02,5.3,5.25], \n",
    "           [5.3,5.3,5.5,5.5],\n",
    "           [5.55,5.35,5.4,5.6]]\n",
    "\n",
    "cutsy=[[1,log10(40),log10(40),1],\n",
    "           [2.2,2.6,2.6,2.2],\n",
    "           [2.9,3.1,2.9,2.8], \n",
    "           [3.05,3.15,3.0,2.9], \n",
    "           [3.1,3.25,3.1,2.95], \n",
    "           [3.35, 3.5, 3.3, 3.2], \n",
    "           [3.4,3.63,3.43,3.25],\n",
    "           [3.25,3.5,3.6,3.4]]\n",
    "\n",
    "mean_s2=zeros(len(Energies))\n",
    "mean_s2_sig=zeros(len(Energies))\n",
    "mean_s1=zeros(len(Energies))\n",
    "mean_s1_sig=zeros(len(Energies))"
   ]
  },
  {
   "cell_type": "markdown",
   "metadata": {},
   "source": [
    "<h1> Make an energy histogam </h1>"
   ]
  },
  {
   "cell_type": "code",
   "execution_count": 6,
   "metadata": {
    "collapsed": true
   },
   "outputs": [],
   "source": [
    "fid_vol=(aLib.inrange(S.drift,[35, 308]) & (S.correctedRadius<20))\n",
    "area_cut=aLib.inrange(S.s1area,[0,10**4]) & (S.s2area_raw>150) & aLib.inrange(S.s2area,[10**2,10**6])\n",
    "bad_area_cut=((S.goodArea<=630 & (S.badArea < 80)) | ( (S.goodArea>630) & (S.badArea < 80+0.095*(S.goodArea-630))) )\n",
    "exclusion_cut=(S.partner==0) & (S.excluded==0)\n",
    "\n",
    "golden_cut=fid_vol&area_cut&bad_area_cut&exclusion_cut"
   ]
  },
  {
   "cell_type": "code",
   "execution_count": 7,
   "metadata": {
    "collapsed": true
   },
   "outputs": [],
   "source": [
    "g1=0.1167\n",
    "g2=12.05"
   ]
  },
  {
   "cell_type": "code",
   "execution_count": 10,
   "metadata": {
    "collapsed": false
   },
   "outputs": [
    {
     "data": {
      "image/png": "[encoded data removed]",
      "text/plain": [
       "<matplotlib.figure.Figure at 0x7f5c440d7ad0>"
      ]
     },
     "metadata": {},
     "output_type": "display_data"
    }
   ],
   "source": [
    "s2=S.s2area[golden_cut]\n",
    "s1=S.s1area[golden_cut]\n",
    "\n",
    "E_com=1/73*(s1/g1+s2/g2)\n",
    "n, xedges = histogram(E_com,arange(0,1000,5))\n",
    "bin_center=(xedges[1:]+xedges[:-1])/2\n",
    "\n",
    "plt.step(bin_center,n,'k')\n",
    "plt.yscale('log')\n",
    "plt.ylabel('Count/keV')\n",
    "plt.xlabel('Combined Energy [keV]')\n",
    "plt.rcParams.update({'font.size': 18}) #increase all fontsizes\n",
    "\n",
    "Energies=[5.2,41.55,163,207,236.8,410,609]\n",
    "for ii, En in enumerate(Energies):\n",
    "    plt.plot([En,En],[10,1e6],'--m')\n",
    "\n",
    "#ylim([10,5e5])\n",
    "#plt.legend(('Golden-Doke'))"
   ]
  },
  {
   "cell_type": "markdown",
   "metadata": {},
   "source": [
    "<h1> plot low E region... use spikyS1 below 100 phd ... 2.7 keV?? </h1>"
   ]
  },
  {
   "cell_type": "code",
   "execution_count": null,
   "metadata": {
    "collapsed": true
   },
   "outputs": [],
   "source": [
    "fid_vol=(aLib.inrange(S.drift,[35, 308]) & (S.correctedRadius<22))\n",
    "area_cut=aLib.inrange(S.spikyS1,[0.5,150]) & aLib.inrange(S.s1area,[0.5,10**3]) & (S.s2area_raw>150) & aLib.inrange(S.s2area,[100,10**4])\n",
    "bad_area_cut=((S.goodArea<=630 & (S.badArea < 80)) | ( (S.goodArea>630) & (S.badArea < 80+0.095*(S.goodArea-630))) )\n",
    "exclusion_cut=(S.partner==0) & (S.excluded==0)\n",
    "\n",
    "golden_cut=fid_vol&area_cut&bad_area_cut&exclusion_cut"
   ]
  },
  {
   "cell_type": "code",
   "execution_count": null,
   "metadata": {
    "collapsed": true
   },
   "outputs": [],
   "source": [
    "#Gaussian function\n",
    "def gauss_function(x, a, x0, sigma):\n",
    "    return a*np.exp(-(x-x0)**2/(2*sigma**2))"
   ]
  },
  {
   "cell_type": "code",
   "execution_count": 27,
   "metadata": {
    "collapsed": false
   },
   "outputs": [
    {
     "data": {
      "text/plain": [
       "19"
      ]
     },
     "execution_count": 27,
     "metadata": {},
     "output_type": "execute_result"
    }
   ],
   "source": [
    "n.size"
   ]
  },
  {
   "cell_type": "code",
   "execution_count": null,
   "metadata": {
    "collapsed": false
   },
   "outputs": [],
   "source": [
    "s2=S.s2area[golden_cut]\n",
    "s1=S.spikyS1[golden_cut]\n",
    "\n",
    "E_com=1/73*(s1/g1+s2/g2)\n",
    "n, xedges = histogram(E_com,arange(0,10,0.5))\n",
    "bin_center=(xedges[1:]+xedges[:-1])/2\n",
    "\n",
    "#fit a gaussian around the 5.3 keV x-ray from Xe127\n",
    "fitcut=aLib.inrange(bin_center,[3.5,7])\n",
    "popt, pcov = curve_fit(gauss_function, bin_center[fitcut],n[fitcut],p0 = [1, mean(E_com), std(E_com)])\n",
    "plt.plot(bin_center,gauss_function(bin_center, *popt),'-r')\n",
    "plt.text(xedges.max()*.85,n.max()*.97,'mean={:1.1f} +/- {:1.2f} \\n sigma={:1.1f} +/- {:1.2f}'.format(popt[1],sqrt(pcov[1,1]),popt[2],sqrt(pcov[2,2])),\n",
    "         horizontalalignment='center', verticalalignment='center', bbox=dict(facecolor='w', alpha=0.9),fontsize=18)\n",
    "\n",
    "fitcut=aLib.inrange(bin_center,[2,3.5])\n",
    "popt, pcov = curve_fit(gauss_function, bin_center[fitcut],n[fitcut],p0 = [1, mean(E_com), std(E_com)])\n",
    "plt.plot(bin_center,gauss_function(bin_center, *popt),'-r')\n",
    "plt.text(xedges.max()*.85,n.max()*.97,'mean={:1.1f} +/- {:1.2f} \\n sigma={:1.1f} +/- {:1.2f}'.format(popt[1],sqrt(pcov[1,1]),popt[2],sqrt(pcov[2,2])),\n",
    "         horizontalalignment='center', verticalalignment='center', bbox=dict(facecolor='w', alpha=0.9),fontsize=18)\n",
    "\n",
    "#plt.errorbar(bin_center,n,sqrt(n),'linestyle','none')\n",
    "plt.step(xedges[1:],n,'k')\n",
    "#plt.yscale('log')\n",
    "plt.ylabel('Count/keV')\n",
    "plt.xlabel('Combined Energy [keV]')\n",
    "plt.rcParams.update({'font.size': 18}) #increase all fontsizes\n",
    "\n",
    "Energies=[1.5,2.7,5.3]\n",
    "for ii, En in enumerate(Energies):\n",
    "    plt.plot([En,En],[0,100],'--m')"
   ]
  },
  {
   "cell_type": "code",
   "execution_count": null,
   "metadata": {
    "collapsed": true
   },
   "outputs": [],
   "source": [
    "plt.step?"
   ]
  },
  {
   "cell_type": "markdown",
   "metadata": {},
   "source": [
    "<h1> Get LUX Stamps </h1>"
   ]
  },
  {
   "cell_type": "code",
   "execution_count": 254,
   "metadata": {
    "collapsed": false
   },
   "outputs": [
    {
     "data": {
      "text/plain": [
       "array([7288653504762489, 7297279180618365, 7297299218222263, ...,\n",
       "       8420618779635610, 8420937285593109, 8420953493185027], dtype=uint64)"
      ]
     },
     "execution_count": 254,
     "metadata": {},
     "output_type": "execute_result"
    }
   ],
   "source": [
    "S.luxstamp[golden_cut] #... add Energy cut, radial cut or whatever..."
   ]
  },
  {
   "cell_type": "code",
   "execution_count": null,
   "metadata": {
    "collapsed": true
   },
   "outputs": [],
   "source": []
  }
 ],
 "metadata": {
  "kernelspec": {
   "display_name": "Python 2",
   "language": "python",
   "name": "python2"
  },
  "language_info": {
   "codemirror_mode": {
    "name": "ipython",
    "version": 2
   },
   "file_extension": ".py",
   "mimetype": "text/x-python",
   "name": "python",
   "nbconvert_exporter": "python",
   "pygments_lexer": "ipython2",
   "version": "2.7.10"
  }
 },
 "nbformat": 4,
 "nbformat_minor": 0
}
