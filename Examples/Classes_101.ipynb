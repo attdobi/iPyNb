{
 "metadata": {
  "name": "",
  "signature": "sha256:4c85930e568684de48ef0f0d6783bd12564727ac83bb56fdb91e6d11284bdc5e"
 },
 "nbformat": 3,
 "nbformat_minor": 0,
 "worksheets": [
  {
   "cells": [
    {
     "cell_type": "markdown",
     "metadata": {},
     "source": [
      "<h1> Classes 101 </h1>"
     ]
    },
    {
     "cell_type": "code",
     "collapsed": false,
     "input": [
      "class myClass:\n",
      "    \"\"\"Test Class\"\"\"\n",
      "    i=123\n",
      "    def f(self):\n",
      "        return 'hello world'\n",
      "    def __init__(self): #always initialize to this value when class istance is defined\n",
      "        self.data = []"
     ],
     "language": "python",
     "metadata": {},
     "outputs": [],
     "prompt_number": 45
    },
    {
     "cell_type": "code",
     "collapsed": false,
     "input": [
      "x=myClass()"
     ],
     "language": "python",
     "metadata": {},
     "outputs": [],
     "prompt_number": 46
    },
    {
     "cell_type": "code",
     "collapsed": false,
     "input": [
      "x.f()"
     ],
     "language": "python",
     "metadata": {},
     "outputs": [
      {
       "metadata": {},
       "output_type": "pyout",
       "prompt_number": 47,
       "text": [
        "'hello world'"
       ]
      }
     ],
     "prompt_number": 47
    },
    {
     "cell_type": "markdown",
     "metadata": {},
     "source": [
      "<h1> initializing classes </h1>"
     ]
    },
    {
     "cell_type": "code",
     "collapsed": false,
     "input": [
      "class Complex:\n",
      "    def __init__(self, realpart, imagpart):\n",
      "        self.r = realpart\n",
      "        self.i = imagpart\n",
      "    \n",
      "    #def make(self,real,img): #test without __init__\n",
      "    #    self.r=real;\n",
      "    #    self.i=img;"
     ],
     "language": "python",
     "metadata": {},
     "outputs": [],
     "prompt_number": 43
    },
    {
     "cell_type": "code",
     "collapsed": false,
     "input": [
      "x=Complex()"
     ],
     "language": "python",
     "metadata": {},
     "outputs": [],
     "prompt_number": 40
    },
    {
     "cell_type": "code",
     "collapsed": false,
     "input": [
      "x.r , x.i"
     ],
     "language": "python",
     "metadata": {},
     "outputs": [
      {
       "metadata": {},
       "output_type": "pyout",
       "prompt_number": 42,
       "text": [
        "(2, 3)"
       ]
      }
     ],
     "prompt_number": 42
    },
    {
     "cell_type": "code",
     "collapsed": false,
     "input": [
      "x.new=3"
     ],
     "language": "python",
     "metadata": {},
     "outputs": [],
     "prompt_number": 52
    },
    {
     "cell_type": "code",
     "collapsed": false,
     "input": [
      "x.new"
     ],
     "language": "python",
     "metadata": {},
     "outputs": [
      {
       "metadata": {},
       "output_type": "pyout",
       "prompt_number": 53,
       "text": [
        "3"
       ]
      }
     ],
     "prompt_number": 53
    },
    {
     "cell_type": "markdown",
     "metadata": {},
     "source": [
      "<h1> Method objects </h1>"
     ]
    },
    {
     "cell_type": "code",
     "collapsed": false,
     "input": [
      "xf = x.f\n",
      "print xf()"
     ],
     "language": "python",
     "metadata": {},
     "outputs": [
      {
       "output_type": "stream",
       "stream": "stdout",
       "text": [
        "hello world\n"
       ]
      }
     ],
     "prompt_number": 4
    },
    {
     "cell_type": "markdown",
     "metadata": {},
     "source": [
      "<h1> Class and Instance Variables </h1>"
     ]
    },
    {
     "cell_type": "code",
     "collapsed": false,
     "input": [
      "class Dog:\n",
      "\n",
      "    kind = 'canine'         # class variable shared by all instances\n",
      "\n",
      "    def __init__(self, name):\n",
      "        self.name = name    # instance variable unique to each instance"
     ],
     "language": "python",
     "metadata": {},
     "outputs": [],
     "prompt_number": 7
    },
    {
     "cell_type": "code",
     "collapsed": false,
     "input": [
      "a=Dog('Rocco')"
     ],
     "language": "python",
     "metadata": {},
     "outputs": [],
     "prompt_number": 9
    },
    {
     "cell_type": "code",
     "collapsed": false,
     "input": [
      "a.name"
     ],
     "language": "python",
     "metadata": {},
     "outputs": [
      {
       "metadata": {},
       "output_type": "pyout",
       "prompt_number": 44,
       "text": [
        "'Rocco'"
       ]
      }
     ],
     "prompt_number": 44
    },
    {
     "cell_type": "markdown",
     "metadata": {},
     "source": [
      "<h1> Incorrect way to initialize an instance of a list in a class </h1>"
     ]
    },
    {
     "cell_type": "code",
     "collapsed": false,
     "input": [
      "class Dog:\n",
      "\n",
      "    tricks = []             # mistaken use of a class variable\n",
      "\n",
      "    def __init__(self, name):\n",
      "        self.name = name\n",
      "\n",
      "    def add_trick(self, trick):\n",
      "        self.tricks.append(trick)"
     ],
     "language": "python",
     "metadata": {},
     "outputs": [],
     "prompt_number": 10
    },
    {
     "cell_type": "code",
     "collapsed": false,
     "input": [
      "a=Dog('Rocco')\n",
      "b=Dog('Fifi')"
     ],
     "language": "python",
     "metadata": {},
     "outputs": [],
     "prompt_number": 16
    },
    {
     "cell_type": "code",
     "collapsed": false,
     "input": [
      "a.add_trick('one')\n",
      "b.add_trick('two')"
     ],
     "language": "python",
     "metadata": {},
     "outputs": [],
     "prompt_number": 17
    },
    {
     "cell_type": "code",
     "collapsed": false,
     "input": [
      "a.tricks"
     ],
     "language": "python",
     "metadata": {},
     "outputs": [
      {
       "metadata": {},
       "output_type": "pyout",
       "prompt_number": 18,
       "text": [
        "['one', 'one', 'one', 'two']"
       ]
      }
     ],
     "prompt_number": 18
    },
    {
     "cell_type": "markdown",
     "metadata": {},
     "source": [
      "<h1> Correct way to initialize an instance of a list in a class </h1>"
     ]
    },
    {
     "cell_type": "code",
     "collapsed": false,
     "input": [
      "class Dog:\n",
      "\n",
      "\n",
      "    def __init__(self, name):\n",
      "        self.name = name\n",
      "        self.tricks = []\n",
      "\n",
      "    def add_trick(self, trick):\n",
      "        self.tricks.append(trick)"
     ],
     "language": "python",
     "metadata": {},
     "outputs": [],
     "prompt_number": 20
    },
    {
     "cell_type": "code",
     "collapsed": false,
     "input": [
      "a=Dog('Rocco')\n",
      "b=Dog('Fifi')"
     ],
     "language": "python",
     "metadata": {},
     "outputs": [],
     "prompt_number": 21
    },
    {
     "cell_type": "code",
     "collapsed": false,
     "input": [
      "a.add_trick('one')\n",
      "b.add_trick('two')"
     ],
     "language": "python",
     "metadata": {},
     "outputs": [],
     "prompt_number": 22
    },
    {
     "cell_type": "code",
     "collapsed": false,
     "input": [
      "a.tricks"
     ],
     "language": "python",
     "metadata": {},
     "outputs": [
      {
       "metadata": {},
       "output_type": "pyout",
       "prompt_number": 24,
       "text": [
        "['one']"
       ]
      }
     ],
     "prompt_number": 24
    },
    {
     "cell_type": "markdown",
     "metadata": {},
     "source": [
      "<h1> methods can call methods </h1>"
     ]
    },
    {
     "cell_type": "code",
     "collapsed": false,
     "input": [
      "class Bag:\n",
      "    def __init__(self):\n",
      "        self.data = []\n",
      "    def add(self, x):\n",
      "        self.data.append(x)\n",
      "    def addtwice(self, x):\n",
      "        self.add(x)\n",
      "        self.add(x)"
     ],
     "language": "python",
     "metadata": {},
     "outputs": [],
     "prompt_number": 25
    },
    {
     "cell_type": "code",
     "collapsed": false,
     "input": [
      "bag=Bag()"
     ],
     "language": "python",
     "metadata": {},
     "outputs": [],
     "prompt_number": 26
    },
    {
     "cell_type": "code",
     "collapsed": false,
     "input": [
      "bag.addtwice(1)"
     ],
     "language": "python",
     "metadata": {},
     "outputs": [],
     "prompt_number": 36
    },
    {
     "cell_type": "code",
     "collapsed": false,
     "input": [
      "bag.data"
     ],
     "language": "python",
     "metadata": {},
     "outputs": [
      {
       "metadata": {},
       "output_type": "pyout",
       "prompt_number": 37,
       "text": [
        "[1, 1, 1, 1, 1, 1, 1, 1]"
       ]
      }
     ],
     "prompt_number": 37
    },
    {
     "cell_type": "markdown",
     "metadata": {},
     "source": [
      "<h1> class definitins can be outside the class text </h1>"
     ]
    },
    {
     "cell_type": "code",
     "collapsed": false,
     "input": [
      "# Function defined outside the class\n",
      "def f1(self, x, y):\n",
      "    return min(x, x+y)\n",
      "\n",
      "class C:\n",
      "    f = f1\n",
      "    def g(self):\n",
      "        return 'hello world'\n",
      "    h = g"
     ],
     "language": "python",
     "metadata": {},
     "outputs": [],
     "prompt_number": 48
    },
    {
     "cell_type": "markdown",
     "metadata": {},
     "source": [
      "<h1> Create an empty class definition to fill unknown structures </h1>"
     ]
    },
    {
     "cell_type": "code",
     "collapsed": false,
     "input": [
      "class Employee:\n",
      "    pass"
     ],
     "language": "python",
     "metadata": {},
     "outputs": [],
     "prompt_number": 49
    },
    {
     "cell_type": "code",
     "collapsed": false,
     "input": [
      "john = Employee() # Create an empty employee record\n",
      "\n",
      "# Fill the fields of the record\n",
      "john.name = 'John Doe'\n",
      "john.dept = 'computer lab'\n",
      "john.salary = 1000\n"
     ],
     "language": "python",
     "metadata": {},
     "outputs": [
      {
       "metadata": {},
       "output_type": "pyout",
       "prompt_number": 51,
       "text": [
        "<__main__.Employee instance at 0x1061ddb90>"
       ]
      }
     ],
     "prompt_number": 51
    },
    {
     "cell_type": "markdown",
     "metadata": {},
     "source": [
      "<h1>A class in an except clause is compatible with an exception if it is the same class or a base class thereof (but not the other way around \u2014 an except clause listing a derived class is not compatible with a base class). For example, the following code will print B, C, D in that order:</h1>"
     ]
    },
    {
     "cell_type": "code",
     "collapsed": false,
     "input": [
      "class B:\n",
      "    pass\n",
      "class C(B):\n",
      "    pass\n",
      "class D(C):\n",
      "    pass\n",
      "\n",
      "for c in [B, C, D]:\n",
      "    try:\n",
      "        raise c()\n",
      "    except D:\n",
      "        print \"D\"\n",
      "    except C:\n",
      "        print \"C\"\n",
      "    except B:\n",
      "        print \"B\"\n",
      "        \n",
      "#Note that if the except clauses were reversed (with except B first), it would have printed B, B, B \u2014 the first matching except clause is triggered."
     ],
     "language": "python",
     "metadata": {},
     "outputs": [
      {
       "output_type": "stream",
       "stream": "stdout",
       "text": [
        "D\n",
        "C\n",
        "D\n"
       ]
      }
     ],
     "prompt_number": 55
    },
    {
     "cell_type": "markdown",
     "metadata": {},
     "source": [
      "<h1> iterator </h1>"
     ]
    },
    {
     "cell_type": "code",
     "collapsed": false,
     "input": [
      "s='abc'\n",
      "it=iter(s)\n",
      "it.next()\n",
      "it.next()\n",
      "it.next()\n",
      "#it.next() # will rise error for end of series"
     ],
     "language": "python",
     "metadata": {},
     "outputs": [
      {
       "metadata": {},
       "output_type": "pyout",
       "prompt_number": 72,
       "text": [
        "'c'"
       ]
      }
     ],
     "prompt_number": 72
    },
    {
     "cell_type": "code",
     "collapsed": false,
     "input": [
      "arr=np.array([1,3,9,12])\n",
      "for index, xx in enumerate(arr):\n",
      "    print index, xx\n",
      "print('\\n')\n",
      "for xx in arr:\n",
      "    print xx"
     ],
     "language": "python",
     "metadata": {},
     "outputs": [
      {
       "output_type": "stream",
       "stream": "stdout",
       "text": [
        "0 1\n",
        "1 3\n",
        "2 9\n",
        "3 12\n",
        "\n",
        "\n",
        "1\n",
        "3\n",
        "9\n",
        "12\n"
       ]
      }
     ],
     "prompt_number": 70
    },
    {
     "cell_type": "markdown",
     "metadata": {},
     "source": [
      "<h1> class to itterate, using next and __iter__ definitions </h1>"
     ]
    },
    {
     "cell_type": "code",
     "collapsed": false,
     "input": [
      "class Reverse:\n",
      "    \"\"\"Iterator for looping over a sequence backwards.\"\"\"\n",
      "    def __init__(self, data):\n",
      "        self.data = data\n",
      "        self.index = len(data)\n",
      "    def __iter__(self):\n",
      "        return self\n",
      "    def next(self):\n",
      "        if self.index == 0:\n",
      "            raise StopIteration\n",
      "        self.index = self.index - 1\n",
      "        return self.data[self.index]"
     ],
     "language": "python",
     "metadata": {},
     "outputs": [],
     "prompt_number": 73
    },
    {
     "cell_type": "code",
     "collapsed": false,
     "input": [
      "rev = Reverse('spam')\n",
      "#iter(rev)\n",
      "for char in rev:\n",
      "    print char"
     ],
     "language": "python",
     "metadata": {},
     "outputs": [
      {
       "output_type": "stream",
       "stream": "stdout",
       "text": [
        "m\n",
        "a\n",
        "p\n",
        "s\n"
       ]
      }
     ],
     "prompt_number": 76
    },
    {
     "cell_type": "markdown",
     "metadata": {},
     "source": [
      "<h1> Generator </h1>"
     ]
    },
    {
     "cell_type": "code",
     "collapsed": false,
     "input": [
      "def reverse(data):\n",
      "    for index in range(len(data)-1, -1, -1):\n",
      "        yield data[index] #yeild returns a value at each itteration"
     ],
     "language": "python",
     "metadata": {},
     "outputs": [],
     "prompt_number": 77
    },
    {
     "cell_type": "code",
     "collapsed": false,
     "input": [
      "reverse('golf')"
     ],
     "language": "python",
     "metadata": {},
     "outputs": [
      {
       "metadata": {},
       "output_type": "pyout",
       "prompt_number": 78,
       "text": [
        "<generator object reverse at 0x1061d9640>"
       ]
      }
     ],
     "prompt_number": 78
    },
    {
     "cell_type": "code",
     "collapsed": false,
     "input": [
      "for char in reverse('golf'):\n",
      "    print char"
     ],
     "language": "python",
     "metadata": {},
     "outputs": [
      {
       "output_type": "stream",
       "stream": "stdout",
       "text": [
        "f\n",
        "l\n",
        "o\n",
        "g\n"
       ]
      }
     ],
     "prompt_number": 79
    },
    {
     "cell_type": "code",
     "collapsed": false,
     "input": [
      "a=[]\n",
      "a.append(1)\n",
      "a.append(2)\n",
      "a\n",
      "a.extend([1,2,3,4])\n",
      "a"
     ],
     "language": "python",
     "metadata": {},
     "outputs": [
      {
       "metadata": {},
       "output_type": "pyout",
       "prompt_number": 86,
       "text": [
        "[1, 2, 1, 2, 3, 4]"
       ]
      }
     ],
     "prompt_number": 86
    },
    {
     "cell_type": "code",
     "collapsed": false,
     "input": [
      "a.index(2)"
     ],
     "language": "python",
     "metadata": {},
     "outputs": [
      {
       "metadata": {},
       "output_type": "pyout",
       "prompt_number": 84,
       "text": [
        "1"
       ]
      }
     ],
     "prompt_number": 84
    },
    {
     "cell_type": "code",
     "collapsed": false,
     "input": [
      "range(10)"
     ],
     "language": "python",
     "metadata": {},
     "outputs": [
      {
       "metadata": {},
       "output_type": "pyout",
       "prompt_number": 89,
       "text": [
        "[0, 1, 2, 3, 4, 5, 6, 7, 8, 9]"
       ]
      }
     ],
     "prompt_number": 89
    },
    {
     "cell_type": "markdown",
     "metadata": {},
     "source": [
      "<h1> Sets in Python, unique elements and not ncessarily sorted </h1>"
     ]
    },
    {
     "cell_type": "code",
     "collapsed": false,
     "input": [
      "basket = ['apple', 'orange', 'apple', 'pear', 'orange', 'banana']\n",
      "fruit = set(basket)               # create a set without duplicates\n",
      "fruit\n",
      "set(['orange', 'pear', 'apple', 'banana'])\n",
      "\n",
      "'orange' in fruit,'crabgrass' in fruit               # fast membership testing\n",
      "\n"
     ],
     "language": "python",
     "metadata": {},
     "outputs": [
      {
       "metadata": {},
       "output_type": "pyout",
       "prompt_number": 91,
       "text": [
        "(True, False)"
       ]
      }
     ],
     "prompt_number": 91
    },
    {
     "cell_type": "code",
     "collapsed": false,
     "input": [
      "# Demonstrate set operations on unique letters from two words\n",
      "\n",
      "a = set('abracadabra')\n",
      "b = set('alacazam')\n",
      "a                                  # unique letters in a\n",
      "#set(['a', 'r', 'b', 'c', 'd'])\n",
      "a - b                              # letters in a but not in b\n",
      "#set(['r', 'd', 'b'])\n",
      "a | b                              # letters in either a or b\n",
      "#set(['a', 'c', 'r', 'd', 'b', 'm', 'z', 'l'])\n",
      "a & b                              # letters in both a and b\n",
      "#set(['a', 'c'])\n",
      "a ^ b                              # letters in a or b but not both\n",
      "#set(['r', 'd', 'b', 'm', 'z', 'l'])"
     ],
     "language": "python",
     "metadata": {},
     "outputs": []
    },
    {
     "cell_type": "code",
     "collapsed": false,
     "input": [
      "basket = ['apple', 'orange', 'apple', 'pear', 'orange', 'banana']\n",
      "for item in sorted(set(basket)):\n",
      "    print item"
     ],
     "language": "python",
     "metadata": {},
     "outputs": [
      {
       "output_type": "stream",
       "stream": "stdout",
       "text": [
        "apple\n",
        "banana\n",
        "orange\n",
        "pear\n"
       ]
      }
     ],
     "prompt_number": 94
    },
    {
     "cell_type": "code",
     "collapsed": false,
     "input": [],
     "language": "python",
     "metadata": {},
     "outputs": []
    }
   ],
   "metadata": {}
  }
 ]
}