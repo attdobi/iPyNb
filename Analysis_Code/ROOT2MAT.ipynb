{
 "cells": [
  {
   "cell_type": "code",
   "execution_count": 1,
   "metadata": {
    "collapsed": true
   },
   "outputs": [],
   "source": [
    "from __future__ import division\n",
    "import sys\n",
    "home_dir=!echo \"$HOME\"\n",
    "sys.path.insert(2,home_dir[0]+'/iPyNb/NERSC_Import') #make sure you have iPyNb checked out from AD\n",
    "from pyROOT_import import *\n",
    "from ROOT import TH2D, TFile, TBranch\n",
    "import numpy as np"
   ]
  },
  {
   "cell_type": "code",
   "execution_count": 2,
   "metadata": {
    "collapsed": false
   },
   "outputs": [],
   "source": [
    "IQ_data=sio.loadmat('Run04_correction_iq.mat')"
   ]
  },
  {
   "cell_type": "code",
   "execution_count": 40,
   "metadata": {
    "collapsed": true
   },
   "outputs": [],
   "source": [
    "def dict_from_mat(mat_data):\n",
    "    a=[]\n",
    "    keys=[]\n",
    "    S=dict()\n",
    "    for key in mat_data.keys():\n",
    "        if key[0]!='_':\n",
    "            a.append(mat_data[key])\n",
    "            keys.append(key)\n",
    "            S.update([(key,mat_data[key])])\n",
    "    keys=array(keys)\n",
    "    \n",
    "    #S=dict([keys,a])\n",
    "    \n",
    "    return S"
   ]
  },
  {
   "cell_type": "code",
   "execution_count": 56,
   "metadata": {
    "collapsed": false
   },
   "outputs": [
    {
     "name": "stdout",
     "output_type": "stream",
     "text": [
      "('s2_y_bins', (1, 68))\n",
      "('s1_xyz_map_bottom', (1, 40))\n",
      "('z_dep_bottom_values', (68, 3))\n",
      "('s1_xyz_map_all', (1, 40))\n",
      "('s1_map_all', (1, 68))\n",
      "('s2_x_bins', (1, 68))\n",
      "('s1_xyz_z_bins', (1, 40))\n",
      "('det_z_center', (1, 68))\n",
      "('s1_xyz_x_bins', (1, 40))\n",
      "('s2xy_iq_times', (1, 68))\n",
      "('s1xyz_iq_times', (1, 40))\n",
      "('s2_map_all', (1, 68))\n",
      "('s2_norm_z_iqs', (1, 68))\n",
      "('s1xy_iq_times', (1, 68))\n",
      "('detcenter_iq_times', (1, 68))\n",
      "('s2_map_bottom', (1, 68))\n",
      "('s1z_iq_times', (1, 68))\n",
      "('det_x_center', (1, 68))\n",
      "('s1_x_bins', (1, 68))\n",
      "('s1_y_bins', (1, 68))\n",
      "('__version__', ())\n",
      "('z_dep_both_values', (68, 3))\n",
      "('s1_xyz_y_bins', (1, 40))\n",
      "('__header__', ())\n",
      "('__globals__', (0,))\n",
      "('s2_norm_iqs', (1, 68))\n",
      "('s2z_iq_times', (1, 68))\n",
      "('s1_map_bottom', (1, 68))\n",
      "('det_y_center', (1, 68))\n"
     ]
    }
   ],
   "source": [
    "for ii,(key,val) in enumerate(IQ_data.iteritems()):\n",
    "    print(key,shape(val))"
   ]
  },
  {
   "cell_type": "code",
   "execution_count": 432,
   "metadata": {
    "collapsed": false
   },
   "outputs": [
    {
     "data": {
      "text/plain": [
       "array([[ 161.4641]])"
      ]
     },
     "execution_count": 432,
     "metadata": {},
     "output_type": "execute_result"
    }
   ],
   "source": [
    "IQ_data['det_z_center'][0][0]"
   ]
  },
  {
   "cell_type": "code",
   "execution_count": 61,
   "metadata": {
    "collapsed": true
   },
   "outputs": [],
   "source": [
    "key_1D=['s2_y_bins','s2_x_bins','det_z_center','s2xy_iq_times','s2_norm_z_iqs','s1xy_iq_times',\n",
    "       'detcenter_iq_times','s1z_iq_times','det_x_center','s1_x_bins','s1_y_bins','s2_norm_iqs',\n",
    "        's2z_iq_times','det_y_center']"
   ]
  },
  {
   "cell_type": "code",
   "execution_count": 41,
   "metadata": {
    "collapsed": false
   },
   "outputs": [
    {
     "data": {
      "text/plain": [
       "1"
      ]
     },
     "execution_count": 41,
     "metadata": {},
     "output_type": "execute_result"
    }
   ],
   "source": [
    "shape(IQ_data['s2_map_all'][0][0])\n",
    "shape(IQ_data['s2_y_bins'][0][0])[0]\n",
    "#shape(IQ_data['s2_map_all'][0][0])"
   ]
  },
  {
   "cell_type": "markdown",
   "metadata": {},
   "source": [
    "<h1> Write array to root </h1>"
   ]
  },
  {
   "cell_type": "code",
   "execution_count": 455,
   "metadata": {
    "collapsed": false
   },
   "outputs": [],
   "source": [
    "f = TFile('Run04_IQs.root', \"recreate\") \n",
    "t = TTree(\"tree\", \"Run04IQs_1D\")\n",
    "n=[]\n",
    "vals=[]\n",
    "ii=0\n",
    "for (key,val) in IQ_data.iteritems():\n",
    "\n",
    "    if (key in key_1D): #only do 1 D\n",
    "        vals.append(val[0])\n",
    "        #n.append(np.array([0],dtype=float64))\n",
    "        n.append(np.zeros((68,size(val[0][0]))))\n",
    "        #print size(val[0][0])\n",
    "        if (size(val[0][0])==1):\n",
    "            t.Branch(key, n[ii], key+'/d') #d is float64\n",
    "        else:\n",
    "            t.Branch(key, n[ii], key+'['+str(size(val[0][0]))+']/d') #d is float64\n",
    "        #t.Branch(key, n[ii], 32000) #d is float64\n",
    "        ii=ii+1\n",
    "\n",
    "\n",
    "num_branches=ii\n",
    "num_elements=size(val)\n",
    "\n",
    "for jj in range(num_elements):\n",
    "    for kk in range(num_branches):\n",
    "        for nn in range(size(vals[kk][jj])):\n",
    "            if (size(vals[kk][jj])==1):\n",
    "                n[kk][jj]=vals[kk][jj]\n",
    "            else:\n",
    "                if (shape(vals[kk][jj])[0]==1):\n",
    "                    n[kk][jj][nn] =vals[kk][jj][0][nn]\n",
    "                else:\n",
    "                     n[kk][jj][nn] =vals[kk][jj][nn]\n",
    "    t.Fill()\n",
    "f.Write()\n",
    "f.Close()\n",
    "    "
   ]
  },
  {
   "cell_type": "markdown",
   "metadata": {},
   "source": [
    "<h1> Test root file </h1>"
   ]
  },
  {
   "cell_type": "code",
   "execution_count": 456,
   "metadata": {
    "collapsed": false
   },
   "outputs": [
    {
     "data": {
      "text/plain": [
       "array([   7.5,   12.5,   17.5,   22.5,   27.5,   32.5,   37.5,   42.5,\n",
       "         47.5,   52.5,   57.5,   62.5,   67.5,   72.5,   77.5,   82.5,\n",
       "         87.5,   92.5,   97.5,  102.5,  107.5,  112.5,  117.5,  122.5,\n",
       "        127.5,  132.5,  137.5,  142.5,  147.5,  152.5,  157.5,  162.5,\n",
       "        167.5,  172.5,  177.5,  182.5,  187.5,  192.5,  197.5,  202.5,\n",
       "        207.5,  212.5,  217.5,  222.5,  227.5,  232.5,  237.5,  242.5,\n",
       "        247.5,  252.5,  257.5,  262.5,  267.5,  272.5,  277.5,  282.5,\n",
       "        287.5,  292.5,  297.5,  302.5,  307.5,  312.5,  317.5,  322.5])"
      ]
     },
     "execution_count": 456,
     "metadata": {},
     "output_type": "execute_result"
    }
   ],
   "source": [
    "rootarr=root2array('Run04_IQs.root')\n",
    "rootarr['det_z_center']\n",
    "#rootarr['s2_y_bins'][60]\n",
    "rootarr['s2_norm_z_iqs'][1]"
   ]
  },
  {
   "cell_type": "code",
   "execution_count": null,
   "metadata": {
    "collapsed": true
   },
   "outputs": [],
   "source": []
  }
 ],
 "metadata": {
  "kernelspec": {
   "display_name": "pyrootnb",
   "language": "python",
   "name": "pyrootnb"
  },
  "language_info": {
   "codemirror_mode": {
    "name": "ipython",
    "version": 2
   },
   "file_extension": ".py",
   "mimetype": "text/x-python",
   "name": "python",
   "nbconvert_exporter": "python",
   "pygments_lexer": "ipython2",
   "version": "2.7.10"
  }
 },
 "nbformat": 4,
 "nbformat_minor": 0
}
