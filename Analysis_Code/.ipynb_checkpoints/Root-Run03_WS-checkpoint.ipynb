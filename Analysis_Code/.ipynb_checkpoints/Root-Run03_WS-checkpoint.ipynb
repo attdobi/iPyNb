{
 "cells": [
  {
   "cell_type": "code",
   "execution_count": 1,
   "metadata": {
    "collapsed": false
   },
   "outputs": [],
   "source": [
    "import sys\n",
    "import os\n",
    "sys.path.insert(2, '/global/project/projectdirs/lux/Tools/root_pdsf/root/lib')\n",
    "from ROOT import TCanvas, TPad, TFile, TPaveText, TChain, TCut, TF1, TH1F, TLine,TLegend\n",
    "from ROOT import gBenchmark, gStyle, gROOT, gPad"
   ]
  },
  {
   "cell_type": "code",
   "execution_count": 2,
   "metadata": {
    "collapsed": true
   },
   "outputs": [],
   "source": [
    "import rootnotes_nersc\n",
    "from rootnotes_nersc import rtshow, clearCanvas\n",
    "from numpy import *\n",
    "import scipy\n",
    "import pylab"
   ]
  },
  {
   "cell_type": "code",
   "execution_count": 4,
   "metadata": {
    "collapsed": false
   },
   "outputs": [
    {
     "data": {
      "text/plain": [
       "3"
      ]
     },
     "execution_count": 4,
     "metadata": {},
     "output_type": "execute_result"
    }
   ],
   "source": [
    "chain5 = TChain('golden')\n",
    "chain5.Add('/project/projectdirs/lux/data/golden/Golden_CH3T_*.root')\n",
    "\n",
    "chain4 = TChain('golden')\n",
    "chain4.Add('/project/projectdirs/lux/data/golden/Golden_DD_*.root')\n",
    "\n",
    "chain3 = TChain('golden')\n",
    "chain3.Add('/project/projectdirs/lux/data/golden/Golden_Cs137_Aug.root')\n",
    "\n",
    "chain2 = TChain('golden')\n",
    "chain2.Add('/project/projectdirs/lux/users/acurrie/Run3_DP2.0/*.root')\n",
    "\n",
    "chain = TChain('golden')\n",
    "chain.Add('/project/projectdirs/lux/data/golden/Golden_XeAct/*.root')"
   ]
  },
  {
   "cell_type": "code",
   "execution_count": 5,
   "metadata": {
    "collapsed": true
   },
   "outputs": [],
   "source": [
    "g1=0.1167\n",
    "g2=12.05\n",
    "\n",
    "g1_D=0.116\n",
    "g2_D=0.473*24.66"
   ]
  },
  {
   "cell_type": "code",
   "execution_count": 5,
   "metadata": {
    "collapsed": false
   },
   "outputs": [],
   "source": [
    "c2 = rootnotes_nersc.default_canvas(name='icanvas2', size=(800, 600))"
   ]
  },
  {
   "cell_type": "code",
   "execution_count": 6,
   "metadata": {
    "collapsed": false
   },
   "outputs": [],
   "source": [
    "fid_vol=TCut('drift>35 && drift<308 && correctedRadius<20')\n",
    "area_cut=TCut('s1area>10**1 && s1area<10**7 && s2area_raw>150 && s2area>10**2 && s2area<10**7')\n",
    "bad_area_cut=TCut('((goodArea<=630 && badArea < 80) || (goodArea>630 && badArea < 80+0.095*(goodArea-630)))')\n",
    "combined_cut=TCut(fid_vol.GetTitle() + '&&'+ area_cut.GetTitle() + '&&' + bad_area_cut.GetTitle());\n",
    "\n",
    "density_plt_hst=TH1F('density_plt_hst','WS;E_com',400,0,1000)\n",
    "density_plt_hst2=TH1F('density_plt_hst2','Aug-Cs;E_com',200,0,1000)\n",
    "density_plt_hst2.SetLineColor(2)\n",
    "n=chain2.Draw('1/73*(s1area/{:g}+s2area/{:g})>>density_plt_hst'.format(g1,g2),combined_cut) # WS is chain2\n",
    "n2=chain3.Draw('1/73*(s1area/{:g}+s2area/{:g})>>density_plt_hst2'.format(g1,g2),combined_cut,\"same\") # Cs is chain3\n",
    "\n",
    "#s2_rec_cor # the s2 saturation corrected variable\n",
    "\n",
    "density_plt_hst.Scale(1./5)\n",
    "\n",
    "#Or just run this without setting up the histogram first\n",
    "#n=chain.Draw('1/73*(s1area/{:g}+s2area/{:g})>>density_plt_hst5,(300,0,1000)'.format(g1,g2),fid_vol+area_cut+bad_area_cut)"
   ]
  },
  {
   "cell_type": "code",
   "execution_count": 7,
   "metadata": {
    "collapsed": true
   },
   "outputs": [],
   "source": [
    "# Add lines to the plot\n",
    "aline=[]\n",
    "Energies=[5.2,41.55,163,207,236.8,410,609,661.6] \n",
    "# [X-ray, 83Kr, 131mXe, 127Xe,129Xe,127Xe,214Bi,127Cs]\n",
    "#Energies=[661.6,969,1173,1311,1461,2204.21,2614.53] \n",
    "\n",
    "for ii, En in enumerate(Energies):\n",
    "    aline.append(TLine(En,0,En,1e5))\n",
    "    aline[ii].SetLineStyle(2)\n",
    "    aline[ii].SetLineColor(1) #black =1\n",
    "    aline[ii].Draw()"
   ]
  },
  {
   "cell_type": "code",
   "execution_count": 8,
   "metadata": {
    "collapsed": false
   },
   "outputs": [],
   "source": [
    "# Add legend\n",
    "Leg=TLegend(.7, .6,.9,.72)\n",
    "Leg.AddEntry(density_plt_hst,'WSdata/100','l')\n",
    "Leg.AddEntry(density_plt_hst2,'Cs-Aug','l')\n",
    "Leg.SetBorderSize(0) \n",
    "Leg.SetFillStyle(0)\n",
    "Leg.Draw()"
   ]
  },
  {
   "cell_type": "code",
   "execution_count": 9,
   "metadata": {
    "collapsed": false
   },
   "outputs": [
    {
     "data": {
      "image/png": "[encoded data removed]",
      "text/plain": [
       "<ROOT.TCanvas object (\"icanvas2\") at 0x46938e0>"
      ]
     },
     "execution_count": 9,
     "metadata": {},
     "output_type": "execute_result"
    }
   ],
   "source": [
    "c2.SetLogy()\n",
    "rtshow(c2)"
   ]
  },
  {
   "cell_type": "markdown",
   "metadata": {},
   "source": [
    "<h1> Convert from root tree into a numpy array </h1>"
   ]
  },
  {
   "cell_type": "code",
   "execution_count": 10,
   "metadata": {
    "collapsed": false
   },
   "outputs": [],
   "source": [
    "E_Doke = ndarray( (n/10,),dtype= float64, buffer=chain2.GetV1())"
   ]
  },
  {
   "cell_type": "code",
   "execution_count": 11,
   "metadata": {
    "collapsed": false
   },
   "outputs": [],
   "source": [
    "n_Doke, xedges = histogram(E_Doke,arange(0,1000,10))"
   ]
  },
  {
   "cell_type": "code",
   "execution_count": 12,
   "metadata": {
    "collapsed": false
   },
   "outputs": [
    {
     "data": {
      "text/plain": [
       "204313"
      ]
     },
     "execution_count": 12,
     "metadata": {},
     "output_type": "execute_result"
    }
   ],
   "source": [
    "E_Doke.size"
   ]
  },
  {
   "cell_type": "code",
   "execution_count": 13,
   "metadata": {
    "collapsed": false
   },
   "outputs": [],
   "source": [
    "bin_center=(xedges[1:]+xedges[:-1])/2"
   ]
  },
  {
   "cell_type": "code",
   "execution_count": 14,
   "metadata": {
    "collapsed": false
   },
   "outputs": [
    {
     "name": "stdout",
     "output_type": "stream",
     "text": [
      "Populating the interactive namespace from numpy and matplotlib\n"
     ]
    },
    {
     "name": "stderr",
     "output_type": "stream",
     "text": [
      "WARNING: pylab import has clobbered these variables: ['pylab']\n",
      "`%matplotlib` prevents importing * from pylab and numpy\n"
     ]
    }
   ],
   "source": [
    "from matplotlib import pyplot as plt\n",
    "%pylab inline  \n",
    "#always do this for plotting...  don't ask why\n",
    "#now set the size of figures to display in window\n",
    "pylab.rcParams['figure.figsize'] = (10.0, 8.0) # set size of figures"
   ]
  },
  {
   "cell_type": "code",
   "execution_count": 15,
   "metadata": {
    "collapsed": false
   },
   "outputs": [],
   "source": [
    "#cut=~isnan(E_Gold) & (E_Gold>1)& (E_Gold<1000)\n",
    "cut_Doke=~isnan(E_Doke) & (E_Doke>1)& (E_Doke<1000)"
   ]
  },
  {
   "cell_type": "code",
   "execution_count": 16,
   "metadata": {
    "collapsed": false,
    "scrolled": true
   },
   "outputs": [
    {
     "data": {
      "text/plain": [
       "<matplotlib.legend.Legend at 0x7f26927c9dd0>"
      ]
     },
     "execution_count": 16,
     "metadata": {},
     "output_type": "execute_result"
    },
    {
     "data": {
      "image/png": "[encoded data removed]",
      "text/plain": [
       "<matplotlib.figure.Figure at 0x7f26c072f9d0>"
      ]
     },
     "metadata": {},
     "output_type": "display_data"
    }
   ],
   "source": [
    "plt.step(bin_center,n_Doke,'r')\n",
    "#plt.step(bin_center,n_Gold)\n",
    "plt.yscale('log')\n",
    "plt.xlabel('Count/keV')\n",
    "plt.ylabel('Combined Energy [keV]')\n",
    "plt.rcParams.update({'font.size': 18}) #increase all fontsizes\n",
    "\n",
    "Energies=[5.2,41.55,163,207,236.8,410,609]\n",
    "for ii, En in enumerate(Energies):\n",
    "    plt.plot([En,En],[10,1e6],'--k')\n",
    "\n",
    "ylim([10,5e5])\n",
    "plt.legend(('Doke','Golden-Doke'))"
   ]
  },
  {
   "cell_type": "markdown",
   "metadata": {
    "collapsed": true
   },
   "source": [
    "<h1> Make a scatter plot of the discrimination band </h1>"
   ]
  },
  {
   "cell_type": "code",
   "execution_count": 10,
   "metadata": {
    "collapsed": true
   },
   "outputs": [],
   "source": [
    "c3 = rootnotes.default_canvas(name='WS')"
   ]
  },
  {
   "cell_type": "code",
   "execution_count": 34,
   "metadata": {
    "collapsed": false
   },
   "outputs": [],
   "source": [
    "fid_vol=TCut('drift>35 && drift<308 && correctedRadius<20') #no radial cut"
   ]
  },
  {
   "cell_type": "code",
   "execution_count": 35,
   "metadata": {
    "collapsed": false
   },
   "outputs": [],
   "source": [
    "area_cut=TCut('spikyS1>0 && spikyS1<50 && s2area_raw>150 && s1area<50 && log10(s2area/spikyS1)>1')"
   ]
  },
  {
   "cell_type": "code",
   "execution_count": 36,
   "metadata": {
    "collapsed": true
   },
   "outputs": [],
   "source": [
    "bad_area_cut=TCut('((goodArea<=630 && badArea < 80) || (goodArea>630 && badArea < 80+0.095*(goodArea-630)))')"
   ]
  },
  {
   "cell_type": "code",
   "execution_count": 37,
   "metadata": {
    "collapsed": false
   },
   "outputs": [
    {
     "data": {
      "text/plain": [
       "1153L"
      ]
     },
     "execution_count": 37,
     "metadata": {},
     "output_type": "execute_result"
    }
   ],
   "source": [
    "chain2.SetMarkerStyle(7)\n",
    "chain2.SetMarkerSize(10)\n",
    "chain2.Draw('log10(s2area/spikyS1):spikyS1',fid_vol+area_cut+bad_area_cut)"
   ]
  },
  {
   "cell_type": "code",
   "execution_count": 38,
   "metadata": {
    "collapsed": true
   },
   "outputs": [],
   "source": [
    "au = 3.2  #use 3.10 for 2 sigma bounds #90% 3.007\n",
    "bu = -0.1158 \n",
    "    \n",
    "al = 2.5; # use 2.592 #90% 2.682\n",
    "bl =-0.1197;\n",
    "\n",
    "fun1 = TF1( 'fun1', '{:g}*x^{:g}'.format(al,bl), 0, 50)\n",
    "fun2 = TF1( 'fun1', '{:g}*x^{:g}'.format(au,bu), 0, 50)\n",
    "fun1.Draw('Same')\n",
    "fun2.Draw('Same')"
   ]
  },
  {
   "cell_type": "code",
   "execution_count": 39,
   "metadata": {
    "collapsed": false
   },
   "outputs": [
    {
     "data": {
      "image/png": "[encoded data removed]",
      "text/plain": [
       "<ROOT.TCanvas object (\"WS\") at 0x5101ed0>"
      ]
     },
     "execution_count": 39,
     "metadata": {},
     "output_type": "execute_result"
    }
   ],
   "source": [
    "c3"
   ]
  },
  {
   "cell_type": "markdown",
   "metadata": {},
   "source": [
    "<h1> Draw the X,Y distribution of the events </h1>"
   ]
  },
  {
   "cell_type": "code",
   "execution_count": 32,
   "metadata": {
    "collapsed": false
   },
   "outputs": [
    {
     "data": {
      "text/plain": [
       "11120L"
      ]
     },
     "execution_count": 32,
     "metadata": {},
     "output_type": "execute_result"
    }
   ],
   "source": [
    "chain2.Draw('corrected_y:corrected_x',fid_vol+area_cut+bad_area_cut)"
   ]
  },
  {
   "cell_type": "code",
   "execution_count": 33,
   "metadata": {
    "collapsed": false
   },
   "outputs": [
    {
     "data": {
      "image/png": "[encoded data removed]",
      "text/plain": [
       "<ROOT.TCanvas object (\"WS\") at 0x5101ed0>"
      ]
     },
     "execution_count": 33,
     "metadata": {},
     "output_type": "execute_result"
    }
   ],
   "source": [
    "c3"
   ]
  },
  {
   "cell_type": "markdown",
   "metadata": {},
   "source": [
    "<h1> Get the lux stamps of the events </h1>"
   ]
  },
  {
   "cell_type": "code",
   "execution_count": 42,
   "metadata": {
    "collapsed": false
   },
   "outputs": [],
   "source": [
    "cut=fid_vol+area_cut+bad_area_cut\n",
    "#a=chain2.Scan('luxstamp',cut.GetTitle()) #return the cut as a string"
   ]
  },
  {
   "cell_type": "code",
   "execution_count": 43,
   "metadata": {
    "collapsed": false
   },
   "outputs": [],
   "source": [
    "n=chain2.Draw('luxstamp',cut.GetTitle())"
   ]
  },
  {
   "cell_type": "code",
   "execution_count": 44,
   "metadata": {
    "collapsed": false
   },
   "outputs": [],
   "source": [
    "a = ndarray( (n,),dtype= float64, buffer=chain2.GetV1())"
   ]
  },
  {
   "cell_type": "code",
   "execution_count": 45,
   "metadata": {
    "collapsed": false
   },
   "outputs": [
    {
     "data": {
      "text/plain": [
       "21217"
      ]
     },
     "execution_count": 45,
     "metadata": {},
     "output_type": "execute_result"
    }
   ],
   "source": [
    "a.size"
   ]
  },
  {
   "cell_type": "code",
   "execution_count": 46,
   "metadata": {
    "collapsed": false
   },
   "outputs": [
    {
     "data": {
      "text/plain": [
       "7288802942440472.0"
      ]
     },
     "execution_count": 46,
     "metadata": {},
     "output_type": "execute_result"
    }
   ],
   "source": [
    "a[3]"
   ]
  },
  {
   "cell_type": "markdown",
   "metadata": {},
   "source": [
    "<h1> Get LUX stamps for CH3T data </h1>"
   ]
  },
  {
   "cell_type": "code",
   "execution_count": 12,
   "metadata": {
    "collapsed": true
   },
   "outputs": [],
   "source": [
    "g1=0.1167*0.9937\n",
    "g2=12.05*0.9771\n",
    "\n",
    "au = 3.10  #use 3.10 for 2 sigma bounds #90% 3.007\n",
    "bu = -0.1158 \n",
    "    \n",
    "al = 2.592; # use 2.592  for 2 sigma #90% 2.682\n",
    "bl =-0.1197;\n",
    "\n",
    "er_cut_l=TCut('log10(s2area/spikyS1)>{:g}*spikyS1^{:g}'.format(al,bl))\n",
    "er_cut_u=TCut('log10(s2area/spikyS1)<{:g}*spikyS1^{:g}'.format(au,bu))\n",
    "\n",
    "fid_vol=TCut('drift>35 && drift<305 && correctedRadius<20') # && luxstamp/10**15>7.86'#add time cut ... 'luxstamp/10**15 ...&& luxstamp/10**15<8.5\n",
    "area_cut=TCut('spikyS1>0 && spikyS1<100 && s1area<100 && s1area>0 && s2area_raw>150 && s2area>200 && s2area<10**6') #spikyS1\n",
    "bad_area_cut=TCut('((goodArea<=630 && badArea < 80) || (goodArea>630 && badArea < 80+0.095*(goodArea-630)))')\n",
    "ercut= er_cut_l.GetTitle() + '&&' + er_cut_u.GetTitle()\n",
    "#energy_cut=TCut('1/73*(spikyS1/{:g}+s2area/{:g})'.format(g1,g2)+'<4 &&1/73*(spikyS1/{:g}+s2area/{:g})'.format(g1,g2)+'>1.5' )\n",
    "combined_cut=TCut(fid_vol.GetTitle() + '&&'+ area_cut.GetTitle() + '&&' + bad_area_cut.GetTitle() + '&&' + ercut);\n",
    "\n",
    "energy_cut=TCut('1/73*(spikyS1/{:g}+s2area/{:g})>{:g} && 1/73*(spikyS1/{:g}+s2area/{:g})<{:g}'\n",
    "               .format(g1,g2,2,g1,g2,3))\n",
    "\n",
    "n=chain5.Draw('luxstamp',combined_cut+energy_cut) #s1area"
   ]
  },
  {
   "cell_type": "code",
   "execution_count": 13,
   "metadata": {
    "collapsed": false
   },
   "outputs": [
    {
     "data": {
      "text/plain": [
       "18624L"
      ]
     },
     "execution_count": 13,
     "metadata": {},
     "output_type": "execute_result"
    }
   ],
   "source": [
    "n"
   ]
  },
  {
   "cell_type": "code",
   "execution_count": 14,
   "metadata": {
    "collapsed": false
   },
   "outputs": [
    {
     "name": "stdout",
     "output_type": "stream",
     "text": [
      "8258094274320394,\n",
      "8258101547236187,\n",
      "8258106098191756,\n",
      "8258108244532941,\n",
      "8258116306541022,\n",
      "8258126888259184,\n",
      "8258130911970431,\n",
      "8258134464099531,\n",
      "8258143327731768,\n",
      "8258146147829511,\n",
      "8258152987352269,\n",
      "8258157637657406,\n",
      "8258171096452233,\n",
      "8258172657670715,\n",
      "8258176854622033,\n",
      "8258182710955306,\n",
      "8258182919914420,\n",
      "8258191688240670,\n",
      "8258193814085858,\n",
      "8258207846971391,\n"
     ]
    }
   ],
   "source": [
    "stamps= ndarray( (20,),dtype= float64, buffer=chain5.GetV1())\n",
    "for ii in range(0,stamps.size):\n",
    "    print(\"{:.0f},\".format(stamps[ii]))"
   ]
  },
  {
   "cell_type": "code",
   "execution_count": null,
   "metadata": {
    "collapsed": true
   },
   "outputs": [],
   "source": []
  }
 ],
 "metadata": {
  "kernelspec": {
   "display_name": "Python 2",
   "language": "python",
   "name": "python2"
  },
  "language_info": {
   "codemirror_mode": {
    "name": "ipython",
    "version": 2
   },
   "file_extension": ".py",
   "mimetype": "text/x-python",
   "name": "python",
   "nbconvert_exporter": "python",
   "pygments_lexer": "ipython2",
   "version": "2.7.10"
  }
 },
 "nbformat": 4,
 "nbformat_minor": 0
}
