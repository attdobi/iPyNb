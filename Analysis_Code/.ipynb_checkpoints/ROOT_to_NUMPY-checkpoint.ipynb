{
 "cells": [
  {
   "cell_type": "code",
<<<<<<< HEAD
   "execution_count": null,
=======
   "execution_count": 17,
>>>>>>> origin/master
   "metadata": {
    "collapsed": false
   },
   "outputs": [],
   "source": [
    "from ROOT import TCanvas, TPad, TFile, TPaveText, TChain, TCut, TF1, TH1F, TLine,TLegend,TH2F, TText,TLatex\n",
    "from ROOT import gBenchmark, gStyle, gROOT\n",
    "from root_numpy import root2array, root2rec, tree2rec, list_structures"
   ]
  },
  {
   "cell_type": "code",
<<<<<<< HEAD
   "execution_count": null,
   "metadata": {
    "collapsed": false
   },
   "outputs": [],
=======
   "execution_count": 2,
   "metadata": {
    "collapsed": false
   },
   "outputs": [
    {
     "name": "stdout",
     "output_type": "stream",
     "text": [
      "Populating the interactive namespace from numpy and matplotlib\n"
     ]
    },
    {
     "name": "stderr",
     "output_type": "stream",
     "text": [
      "WARNING: pylab import has clobbered these variables: ['pylab']\n",
      "`%matplotlib` prevents importing * from pylab and numpy\n"
     ]
    }
   ],
>>>>>>> origin/master
   "source": [
    "import rootnotes\n",
    "from numpy import *\n",
    "import scipy\n",
    "import pylab\n",
    "from dateutil import parser\n",
    "from matplotlib import pyplot as plt\n",
    "import matplotlib.dates as md\n",
    "import scipy.io as sio\n",
    "\n",
    "import sys\n",
    "sys.path.insert(2, '//global/project/projectdirs/lux/data')\n",
    "import aLib\n",
    "\n",
    "from __future__ import division\n",
    "\n",
    "from matplotlib import pyplot as plt\n",
    "%pylab inline  \n",
<<<<<<< HEAD
    "#always do this for plotting...  \n",
=======
    "#always do this for plotting...  don't ask why\n",
>>>>>>> origin/master
    "#now set the size of figures to display in window\n",
    "pylab.rcParams['figure.figsize'] = (10, 8) # set size of figures"
   ]
  },
  {
   "cell_type": "code",
<<<<<<< HEAD
   "execution_count": null,
   "metadata": {
    "collapsed": false
   },
   "outputs": [],
=======
   "execution_count": 3,
   "metadata": {
    "collapsed": false
   },
   "outputs": [
    {
     "data": {
      "text/plain": [
       "9"
      ]
     },
     "execution_count": 3,
     "metadata": {},
     "output_type": "execute_result"
    }
   ],
>>>>>>> origin/master
   "source": [
    "chain1 = TChain('golden')\n",
    "chain1.Add('/project/projectdirs/lux/data/golden/Golden_CH3T_Dec.root ')\n",
    "\n",
    "chain2 = TChain('golden')\n",
    "chain2.Add('/project/projectdirs/lux/data/golden/Golden_CH3T_Aug.root ')\n",
    "\n",
    "chain = TChain('golden')\n",
    "chain.Add('/project/projectdirs/lux/data/golden/Golden_Run03/Golden_150303_WS*.root')"
   ]
  },
  {
   "cell_type": "markdown",
   "metadata": {},
   "source": [
    "<h1> Example, go straight into a numpy array.... dictionary structure </h1>"
   ]
  },
  {
   "cell_type": "code",
<<<<<<< HEAD
   "execution_count": null,
=======
   "execution_count": 12,
>>>>>>> origin/master
   "metadata": {
    "collapsed": false
   },
   "outputs": [],
   "source": [
    "arr = root2array('/project/projectdirs/lux/data/golden/Golden_Run03/Golden_150303_WS*.root','golden')"
   ]
  },
  {
   "cell_type": "code",
<<<<<<< HEAD
   "execution_count": null,
   "metadata": {
    "collapsed": false
   },
   "outputs": [],
=======
   "execution_count": 72,
   "metadata": {
    "collapsed": false
   },
   "outputs": [
    {
     "data": {
      "text/plain": [
       "array([7288620696844843, 7288620895265950, 7288621195916423, ...,\n",
       "       8421020637325744, 8421020885147606, 8421020988793003], dtype=uint64)"
      ]
     },
     "execution_count": 72,
     "metadata": {},
     "output_type": "execute_result"
    }
   ],
>>>>>>> origin/master
   "source": [
    "arr['luxstamp']"
   ]
  },
  {
   "cell_type": "code",
<<<<<<< HEAD
   "execution_count": null,
=======
   "execution_count": 24,
>>>>>>> origin/master
   "metadata": {
    "collapsed": false
   },
   "outputs": [],
   "source": [
    "a=list_structures('/project/projectdirs/lux/data/golden/Golden_Run03/Golden_150303_WS1.root')"
   ]
  },
  {
   "cell_type": "code",
<<<<<<< HEAD
   "execution_count": null,
=======
   "execution_count": 82,
>>>>>>> origin/master
   "metadata": {
    "collapsed": false
   },
   "outputs": [],
   "source": [
    "S=dict()\n",
    "for (key, value) in a.items():        \n",
    "    S.update(dict([(key, arr[key])]))"
   ]
  },
  {
   "cell_type": "code",
<<<<<<< HEAD
   "execution_count": null,
=======
   "execution_count": 84,
>>>>>>> origin/master
   "metadata": {
    "collapsed": false
   },
   "outputs": [],
   "source": [
    "sio.savemat('Run03_Golden_numpy', S)"
   ]
  }
 ],
 "metadata": {
  "kernelspec": {
   "display_name": "Python 2",
   "language": "python",
   "name": "python2"
  },
  "language_info": {
   "codemirror_mode": {
    "name": "ipython",
    "version": 2
   },
   "file_extension": ".py",
   "mimetype": "text/x-python",
   "name": "python",
   "nbconvert_exporter": "python",
   "pygments_lexer": "ipython2",
<<<<<<< HEAD
   "version": "2.7.10"
=======
   "version": "2.7.9"
>>>>>>> origin/master
  }
 },
 "nbformat": 4,
 "nbformat_minor": 0
}
