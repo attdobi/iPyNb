{
 "cells": [
  {
   "cell_type": "markdown",
   "metadata": {},
   "source": [
    "<h1> Convert from root to matfile </h1>"
   ]
  },
  {
   "cell_type": "code",
   "execution_count": 31,
   "metadata": {
    "collapsed": true
   },
   "outputs": [],
   "source": [
    "import sys\n",
    "sys.path.insert(2,'/global/project/projectdirs/lux/Tools/root_pdsf/root/lib')\n",
    "sys.path.insert(2,'/global/project/projectdirs/lux/Tools/anaconda/lib/python2.7/site-packages')\n",
    "from ROOT import TCanvas, TPad, TFile, TPaveText, TChain, TCut, TF1, TH1F, TLine,TLegend,TH2F, TText,TLatex, TTree\n",
    "from ROOT import gBenchmark, gStyle, gROOT, gSystem, gROOT\n",
    "from root_numpy import root2array, root2rec, tree2rec, list_structures\n",
    "import root_numpy\n",
    "import scipy.io as sio\n",
    "from numpy import *"
   ]
  },
  {
   "cell_type": "markdown",
   "metadata": {},
   "source": [
    "<h1> Platinum cuts </h1>"
   ]
  },
  {
   "cell_type": "code",
   "execution_count": 37,
   "metadata": {
    "collapsed": true
   },
   "outputs": [],
   "source": [
    "fid_vol=TCut('drift>35 && drift<308 && correctedRadius<20')\n",
    "area_cut=TCut('s1area>0 && s1area<150 && s2area_raw>150 && s2area>100 && s2area<2*10**4')\n",
    "bad_area_cut=TCut('((goodArea<=630 && badArea < 80) || (goodArea>630 && badArea < 80+0.095*(goodArea-630)))')\n",
    "exclusion_cut=TCut('partner==0 && excluded==0 ')\n",
    "close2End_cut=TCut('close2End==0')\n",
    "combined_cut=TCut(fid_vol.GetTitle() + '&&'+ area_cut.GetTitle() + '&&' + bad_area_cut.GetTitle() + '&&' + exclusion_cut.GetTitle() \n",
    "                 + '&&' + close2End_cut.GetTitle() )"
   ]
  },
  {
   "cell_type": "markdown",
   "metadata": {},
   "source": [
    "<h1> convert root into an array, then dictionary structrure to save as a mat file </h1>"
   ]
  },
  {
   "cell_type": "markdown",
   "metadata": {},
   "source": [
    "<h3> Dec 2013 tritium data </h3>"
   ]
  },
  {
   "cell_type": "code",
   "execution_count": 38,
   "metadata": {
    "collapsed": false
   },
   "outputs": [],
   "source": [
    "arr = root2array('/project/projectdirs/lux/data/golden/Alex/Golden_CH3T_Dec.root','golden',selection=combined_cut.GetTitle())\n",
    "a=list_structures('/project/projectdirs/lux/data/golden/Alex/Golden_CH3T_Dec.root','golden')\n",
    "\n",
    "S=dict()\n",
    "for (key, value) in a.items():        \n",
    "    S.update(dict([(key, arr[key])]))\n",
    "\n",
    "sio.savemat('/project/projectdirs/lux/data/golden/Alex/Platinum_CH3T_Dec', S)"
   ]
  },
  {
   "cell_type": "markdown",
   "metadata": {},
   "source": [
    "<h3> Aug2013 tritium data </h3>"
   ]
  },
  {
   "cell_type": "code",
   "execution_count": 10,
   "metadata": {
    "collapsed": true
   },
   "outputs": [],
   "source": [
    "arr = root2array('/project/projectdirs/lux/data/golden/Alex/Golden_CH3T_Aug.root','golden',selection=combined_cut.GetTitle())\n",
    "a=list_structures('/project/projectdirs/lux/data/golden/Alex/Golden_CH3T_Aug.root','golden')\n",
    "\n",
    "S=dict()\n",
    "for (key, value) in a.items():        \n",
    "    S.update(dict([(key, arr[key])]))\n",
    "\n",
    "sio.savemat('/project/projectdirs/lux/data/golden/Alex/Platinum_CH3T_Aug', S)"
   ]
  },
  {
   "cell_type": "code",
   "execution_count": null,
   "metadata": {
    "collapsed": true
   },
   "outputs": [],
   "source": []
  }
 ],
 "metadata": {
  "kernelspec": {
   "display_name": "pyrootnb",
   "language": "python",
   "name": "pyrootnb"
  },
  "language_info": {
   "codemirror_mode": {
    "name": "ipython",
    "version": 2
   },
   "file_extension": ".py",
   "mimetype": "text/x-python",
   "name": "python",
   "nbconvert_exporter": "python",
   "pygments_lexer": "ipython2",
   "version": "2.7.10"
  }
 },
 "nbformat": 4,
 "nbformat_minor": 0
}
