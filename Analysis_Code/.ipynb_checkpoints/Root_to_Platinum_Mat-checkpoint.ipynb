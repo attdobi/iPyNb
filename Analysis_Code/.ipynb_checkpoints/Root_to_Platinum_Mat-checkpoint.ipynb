{
 "cells": [
  {
   "cell_type": "markdown",
   "metadata": {},
   "source": [
    "<h1> Convert from root to matfile </h1>"
   ]
  },
  {
   "cell_type": "markdown",
   "metadata": {},
   "source": [
    "<h2> Import pyroot and root_numpy libraries </h2>"
   ]
  },
  {
   "cell_type": "code",
   "execution_count": 5,
   "metadata": {
    "collapsed": false
   },
   "outputs": [],
   "source": [
    "import sys\n",
    "home_dir=!echo \"$HOME\"\n",
    "sys.path.insert(2,home_dir[0]+'/iPyNb/NERSC_Import') \n",
    "#or point to your iPyNb/NERSC_Import folder. It should be in your home directory for easy setup\n",
    "from pyROOT_import import *"
   ]
  },
  {
   "cell_type": "markdown",
   "metadata": {},
   "source": [
    "<h1> Platinum cuts </h1>"
   ]
  },
  {
   "cell_type": "code",
   "execution_count": 6,
   "metadata": {
    "collapsed": false
   },
   "outputs": [],
   "source": [
    "fid_vol=TCut('drift>35 && drift<308 && correctedRadius<20')\n",
    "area_cut=TCut('s1area>0 && s1area<150 && s2area_raw>150 && s2area>100 && s2area<2*10**4')\n",
    "bad_area_cut=TCut('((goodArea<=630 && badArea < 80) || (goodArea>630 && badArea < 80+0.095*(goodArea-630)))')\n",
    "exclusion_cut=TCut('partner==0 && excluded==0 ')\n",
    "close2End_cut=TCut('close2End==0')\n",
    "combined_cut=TCut(fid_vol.GetTitle() + '&&'+ area_cut.GetTitle() + '&&' + bad_area_cut.GetTitle() + '&&' + exclusion_cut.GetTitle() \n",
    "                 + '&&' + close2End_cut.GetTitle() )"
   ]
  },
  {
   "cell_type": "markdown",
   "metadata": {},
   "source": [
    "<h1> convert root into a matfile, applying platinum cuts </h1>"
   ]
  },
  {
   "cell_type": "markdown",
   "metadata": {},
   "source": [
    "<h3> Dec 2013 tritium data </h3>"
   ]
  },
  {
   "cell_type": "code",
   "execution_count": 38,
   "metadata": {
    "collapsed": false
   },
   "outputs": [],
   "source": [
    "arr = root2array('/project/projectdirs/lux/data/golden/Alex/Golden_CH3T_Dec.root','golden',selection=combined_cut.GetTitle())\n",
    "a=list_structures('/project/projectdirs/lux/data/golden/Alex/Golden_CH3T_Dec.root','golden')\n",
    "\n",
    "S=dict()\n",
    "for (key, value) in a.items():        \n",
    "    S.update(dict([(key, arr[key])]))\n",
    "\n",
    "sio.savemat('/project/projectdirs/lux/data/golden/Alex/Platinum_CH3T_Dec', S)"
   ]
  },
  {
   "cell_type": "markdown",
   "metadata": {},
   "source": [
    "<h3> Aug2013 tritium data </h3>"
   ]
  },
  {
   "cell_type": "code",
   "execution_count": 7,
   "metadata": {
    "collapsed": true
   },
   "outputs": [],
   "source": [
    "arr = root2array('/project/projectdirs/lux/data/golden/Alex/Golden_CH3T_Aug.root','golden',selection=combined_cut.GetTitle())\n",
    "a=list_structures('/project/projectdirs/lux/data/golden/Alex/Golden_CH3T_Aug.root','golden')\n",
    "\n",
    "S=dict()\n",
    "for (key, value) in a.items():        \n",
    "    S.update(dict([(key, arr[key])]))\n",
    "\n",
    "sio.savemat('/project/projectdirs/lux/data/golden/Alex/Platinum_CH3T_Aug', S)"
   ]
  },
  {
   "cell_type": "markdown",
   "metadata": {
    "collapsed": true
   },
   "source": [
    "<h3> Run03 WS data </h3>"
   ]
  },
  {
   "cell_type": "code",
   "execution_count": 8,
   "metadata": {
    "collapsed": true
   },
   "outputs": [],
   "source": [
    "arr = root2array('/project/projectdirs/lux/data/golden/Golden_Run03/Golden_150303*.root','golden',selection=combined_cut.GetTitle())\n",
    "a=list_structures('/project/projectdirs/lux/data/golden/Golden_Run03/Golden_150303_WS1.root','golden')\n",
    "\n",
    "S=dict()\n",
    "for (key, value) in a.items():        \n",
    "    S.update(dict([(key, arr[key])]))\n",
    "\n",
    "sio.savemat('/project/projectdirs/lux/data/golden/Alex/Platinum_Run03_WS', S)"
   ]
  },
  {
   "cell_type": "code",
   "execution_count": null,
   "metadata": {
    "collapsed": true
   },
   "outputs": [],
   "source": []
  }
 ],
 "metadata": {
  "kernelspec": {
   "display_name": "pyrootnb",
   "language": "python",
   "name": "pyrootnb"
  },
  "language_info": {
   "codemirror_mode": {
    "name": "ipython",
    "version": 2
   },
   "file_extension": ".py",
   "mimetype": "text/x-python",
   "name": "python",
   "nbconvert_exporter": "python",
   "pygments_lexer": "ipython2",
   "version": "2.7.10"
  }
 },
 "nbformat": 4,
 "nbformat_minor": 0
}
