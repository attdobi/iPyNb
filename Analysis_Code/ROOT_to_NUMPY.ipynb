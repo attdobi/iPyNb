{
 "cells": [
  {
   "cell_type": "code",
<<<<<<< HEAD
   "execution_count": 1,
=======
   "execution_count": 17,
>>>>>>> origin/master
   "metadata": {
    "collapsed": false
   },
   "outputs": [],
   "source": [
<<<<<<< HEAD
    "import sys\n",
    "sys.path.insert(2,'/global/project/projectdirs/lux/Tools/root_pdsf/root/lib')\n",
    "sys.path.insert(2,'/global/project/projectdirs/lux/Tools/anaconda/lib/python2.7/site-packages')\n",
    "from ROOT import TCanvas, TPad, TFile, TPaveText, TChain, TCut, TF1, TH1F, TLine,TLegend,TH2F, TText,TLatex, TTree\n",
    "from ROOT import gBenchmark, gStyle, gROOT, gSystem, gROOT, gInterpreter\n",
    "from root_numpy import root2array, root2rec, tree2rec, list_structures\n",
    "import scipy.io as sio\n",
    "import root_numpy"
=======
    "from ROOT import TCanvas, TPad, TFile, TPaveText, TChain, TCut, TF1, TH1F, TLine,TLegend,TH2F, TText,TLatex\n",
    "from ROOT import gBenchmark, gStyle, gROOT\n",
    "from root_numpy import root2array, root2rec, tree2rec, list_structures"
>>>>>>> origin/master
   ]
  },
  {
   "cell_type": "code",
   "execution_count": 2,
   "metadata": {
    "collapsed": false
   },
<<<<<<< HEAD
   "outputs": [],
   "source": [
    "gROOT.ProcessLine(\".x /global/project/projectdirs/lux/data/golden/Filter_Class/enableC++11.macro\");"
   ]
  },
  {
   "cell_type": "code",
   "execution_count": 3,
   "metadata": {
    "collapsed": false
   },
   "outputs": [
    {
     "name": "stderr",
     "output_type": "stream",
     "text": [
      "ACLiC:0: RuntimeWarning: Failed to generate the dependency file for /global/project/projectdirs/lux/data/golden/Filter_Class/LUX_Filter_C.so\n"
     ]
    }
   ],
   "source": [
    "gROOT.ProcessLine(\".L /global/project/projectdirs/lux/data/golden/Filter_Class/LUX_Filter.C++\");"
   ]
  },
  {
   "cell_type": "code",
   "execution_count": 6,
   "metadata": {
    "collapsed": false
   },
   "outputs": [
    {
     "data": {
      "text/plain": [
       "<ROOT.TClass object at 0x(nil)>"
      ]
     },
     "execution_count": 6,
     "metadata": {},
     "output_type": "execute_result"
    }
   ],
   "source": [
    "gROOT.GetClass('LUX_S1')"
   ]
  },
  {
   "cell_type": "code",
   "execution_count": 62,
   "metadata": {
    "collapsed": false
   },
   "outputs": [
    {
     "ename": "RuntimeError",
     "evalue": "(file \"/global/project/projectdirs/lux/data/golden/Filter_Class/LUX_Filter_C.so\", line -1) Failed to load Dynamic link library /global/project/projectdirs/lux/data/golden/Filter_Class/LUX_Filter_C.so",
     "output_type": "error",
     "traceback": [
      "\u001b[1;31m---------------------------------------------------------------------------\u001b[0m",
      "\u001b[1;31mRuntimeError\u001b[0m                              Traceback (most recent call last)",
      "\u001b[1;32m<ipython-input-62-84132b1f53a6>\u001b[0m in \u001b[0;36m<module>\u001b[1;34m()\u001b[0m\n\u001b[1;32m----> 1\u001b[1;33m \u001b[0mgSystem\u001b[0m\u001b[1;33m.\u001b[0m\u001b[0mLoad\u001b[0m\u001b[1;33m(\u001b[0m\u001b[1;34m'/global/project/projectdirs/lux/data/golden/Filter_Class/LUX_Filter_C.so'\u001b[0m\u001b[1;33m)\u001b[0m\u001b[1;33m\u001b[0m\u001b[0m\n\u001b[0m\u001b[0;32m      2\u001b[0m \u001b[1;31m#from ROOT import LUX_S1\u001b[0m\u001b[1;33m\u001b[0m\u001b[1;33m\u001b[0m\u001b[0m\n",
      "\u001b[1;31mRuntimeError\u001b[0m: (file \"/global/project/projectdirs/lux/data/golden/Filter_Class/LUX_Filter_C.so\", line -1) Failed to load Dynamic link library /global/project/projectdirs/lux/data/golden/Filter_Class/LUX_Filter_C.so"
=======
   "outputs": [
    {
     "name": "stdout",
     "output_type": "stream",
     "text": [
      "Populating the interactive namespace from numpy and matplotlib\n"
     ]
    },
    {
     "name": "stderr",
     "output_type": "stream",
     "text": [
      "WARNING: pylab import has clobbered these variables: ['pylab']\n",
      "`%matplotlib` prevents importing * from pylab and numpy\n"
>>>>>>> origin/master
     ]
    }
   ],
   "source": [
<<<<<<< HEAD
    "gSystem.Load('/global/project/projectdirs/lux/data/golden/Filter_Class/LUX_Filter_C.so')\n",
    "#from ROOT import LUX_S1"
   ]
  },
  {
   "cell_type": "code",
   "execution_count": 7,
   "metadata": {
    "collapsed": true
   },
   "outputs": [],
   "source": [
    "gROOT.ProcessLine(\".L /gobal/project/projectdirs/lux/data/golden/Filter_Class/LUX_Filter.C++\");"
=======
    "import rootnotes\n",
    "from numpy import *\n",
    "import scipy\n",
    "import pylab\n",
    "from dateutil import parser\n",
    "from matplotlib import pyplot as plt\n",
    "import matplotlib.dates as md\n",
    "import scipy.io as sio\n",
    "\n",
    "import sys\n",
    "sys.path.insert(2, '//global/project/projectdirs/lux/data')\n",
    "import aLib\n",
    "\n",
    "from __future__ import division\n",
    "\n",
    "from matplotlib import pyplot as plt\n",
    "%pylab inline  \n",
    "#always do this for plotting...  don't ask why\n",
    "#now set the size of figures to display in window\n",
    "pylab.rcParams['figure.figsize'] = (10, 8) # set size of figures"
>>>>>>> origin/master
   ]
  },
  {
   "cell_type": "code",
<<<<<<< HEAD
   "execution_count": 18,
=======
   "execution_count": 3,
>>>>>>> origin/master
   "metadata": {
    "collapsed": false
   },
   "outputs": [
    {
     "data": {
      "text/plain": [
<<<<<<< HEAD
       "<ROOT.TClass object at 0x(nil)>"
      ]
     },
     "execution_count": 18,
=======
       "9"
      ]
     },
     "execution_count": 3,
>>>>>>> origin/master
     "metadata": {},
     "output_type": "execute_result"
    }
   ],
   "source": [
<<<<<<< HEAD
    "gROOT.LoadClass( '/global/project/projectdirs/lux/data/golden/Filter_Class/LUX_Filter_C.so' )"
   ]
  },
  {
   "cell_type": "code",
   "execution_count": 25,
   "metadata": {
    "collapsed": false
   },
   "outputs": [],
   "source": [
    "aa=gROOT.LoadMacro( '/global/project/projectdirs/lux/data/golden/Fileter_Class/LUX_Filter' )"
   ]
  },
  {
   "cell_type": "code",
   "execution_count": 26,
   "metadata": {
    "collapsed": false
   },
   "outputs": [
    {
     "ename": "AttributeError",
     "evalue": "'int' object has no attribute 'GetClass'",
     "output_type": "error",
     "traceback": [
      "\u001b[1;31m---------------------------------------------------------------------------\u001b[0m",
      "\u001b[1;31mAttributeError\u001b[0m                            Traceback (most recent call last)",
      "\u001b[1;32m<ipython-input-26-ebd063b22e63>\u001b[0m in \u001b[0;36m<module>\u001b[1;34m()\u001b[0m\n\u001b[1;32m----> 1\u001b[1;33m \u001b[0maa\u001b[0m\u001b[1;33m.\u001b[0m\u001b[0mGetClass\u001b[0m\u001b[1;33m(\u001b[0m\u001b[1;34m'LUX_S1'\u001b[0m\u001b[1;33m)\u001b[0m\u001b[1;33m\u001b[0m\u001b[0m\n\u001b[0m",
      "\u001b[1;31mAttributeError\u001b[0m: 'int' object has no attribute 'GetClass'"
     ]
    }
   ],
   "source": [
    "aa.GetClass('LUX_S1')"
   ]
  },
  {
   "cell_type": "code",
   "execution_count": 47,
   "metadata": {
    "collapsed": false
   },
   "outputs": [
    {
     "ename": "ImportError",
     "evalue": "cannot import name S1",
     "output_type": "error",
     "traceback": [
      "\u001b[1;31m---------------------------------------------------------------------------\u001b[0m",
      "\u001b[1;31mImportError\u001b[0m                               Traceback (most recent call last)",
      "\u001b[1;32m<ipython-input-47-101b80da9d11>\u001b[0m in \u001b[0;36m<module>\u001b[1;34m()\u001b[0m\n\u001b[1;32m----> 1\u001b[1;33m \u001b[1;32mfrom\u001b[0m \u001b[0mROOT\u001b[0m \u001b[1;32mimport\u001b[0m \u001b[0mS1\u001b[0m\u001b[1;33m\u001b[0m\u001b[0m\n\u001b[0m",
      "\u001b[1;31mImportError\u001b[0m: cannot import name S1"
     ]
    }
   ],
   "source": [
    "from ROOT import S1"
   ]
  },
  {
   "cell_type": "code",
   "execution_count": null,
   "metadata": {
    "collapsed": false
   },
   "outputs": [],
   "source": [
=======
>>>>>>> origin/master
    "chain1 = TChain('golden')\n",
    "chain1.Add('/project/projectdirs/lux/data/golden/Golden_CH3T_Dec.root ')\n",
    "\n",
    "chain2 = TChain('golden')\n",
    "chain2.Add('/project/projectdirs/lux/data/golden/Golden_CH3T_Aug.root ')\n",
    "\n",
    "chain = TChain('golden')\n",
    "chain.Add('/project/projectdirs/lux/data/golden/Golden_Run03/Golden_150303_WS*.root')"
   ]
  },
  {
<<<<<<< HEAD
   "cell_type": "code",
   "execution_count": 8,
   "metadata": {
    "collapsed": true
   },
   "outputs": [],
   "source": [
    "path='/project/projectdirs/lux/data/golden/CH3T_Dec2013/'\n",
    "filename='CH3T_Dec2013_1S1_1S2'"
   ]
  },
  {
=======
>>>>>>> origin/master
   "cell_type": "markdown",
   "metadata": {},
   "source": [
    "<h1> Example, go straight into a numpy array.... dictionary structure </h1>"
   ]
  },
  {
   "cell_type": "code",
<<<<<<< HEAD
   "execution_count": 76,
   "metadata": {
    "collapsed": false
   },
   "outputs": [
    {
     "name": "stderr",
     "output_type": "stream",
     "text": [
      "/global/project/projectdirs/lux/Tools/anaconda/lib/python2.7/site-packages/root_numpy/_tree.py:205: RootNumpyUnconvertibleWarning: cannot convert leaf 'S1' of branch 'S1' with type 'LUX_S1' (skipping)\n",
      "  weight_name)\n",
      "/global/project/projectdirs/lux/Tools/anaconda/lib/python2.7/site-packages/root_numpy/_tree.py:205: RootNumpyUnconvertibleWarning: cannot convert leaf 'S2' of branch 'S2' with type 'LUX_S2' (skipping)\n",
      "  weight_name)\n"
     ]
    }
   ],
   "source": [
    "arr = root_numpy.root2array(path+filename+'.root','filter')\n",
    "#arr['luxstamp']\n",
    "a=list_structures(path+filename+'.root','filter')"
   ]
  },
  {
   "cell_type": "code",
   "execution_count": 74,
   "metadata": {
    "collapsed": false
   },
   "outputs": [
    {
     "data": {
      "text/plain": [
       "OrderedDict([('S1', [('S1', u'LUX_S1')]), ('S2', [('S2', u'LUX_S2')]), ('luxstamp', [('luxstamp', u'unsigned long long')]), ('goodArea', [('goodArea', u'float')]), ('badArea', [('badArea', u'float')]), ('nS1', [('nS1', u'int')]), ('nS2', [('nS2', u'int')]), ('excluded', [('excluded', u'int')]), ('close2End', [('close2End', u'int')])])"
      ]
     },
     "execution_count": 74,
     "metadata": {},
     "output_type": "execute_result"
    }
   ],
   "source": [
    "a"
   ]
  },
  {
   "cell_type": "code",
   "execution_count": 26,
   "metadata": {
    "collapsed": false
   },
   "outputs": [
    {
     "ename": "ValueError",
     "evalue": "field named S1 not found",
     "output_type": "error",
     "traceback": [
      "\u001b[1;31m---------------------------------------------------------------------------\u001b[0m",
      "\u001b[1;31mValueError\u001b[0m                                Traceback (most recent call last)",
      "\u001b[1;32m<ipython-input-26-586ebbea07aa>\u001b[0m in \u001b[0;36m<module>\u001b[1;34m()\u001b[0m\n\u001b[0;32m      1\u001b[0m \u001b[0mS\u001b[0m\u001b[1;33m=\u001b[0m\u001b[0mdict\u001b[0m\u001b[1;33m(\u001b[0m\u001b[1;33m)\u001b[0m\u001b[1;33m\u001b[0m\u001b[0m\n\u001b[0;32m      2\u001b[0m \u001b[1;32mfor\u001b[0m \u001b[1;33m(\u001b[0m\u001b[0mkey\u001b[0m\u001b[1;33m,\u001b[0m \u001b[0mvalue\u001b[0m\u001b[1;33m)\u001b[0m \u001b[1;32min\u001b[0m \u001b[0ma\u001b[0m\u001b[1;33m.\u001b[0m\u001b[0mitems\u001b[0m\u001b[1;33m(\u001b[0m\u001b[1;33m)\u001b[0m\u001b[1;33m:\u001b[0m\u001b[1;33m\u001b[0m\u001b[0m\n\u001b[1;32m----> 3\u001b[1;33m     \u001b[0mS\u001b[0m\u001b[1;33m.\u001b[0m\u001b[0mupdate\u001b[0m\u001b[1;33m(\u001b[0m\u001b[0mdict\u001b[0m\u001b[1;33m(\u001b[0m\u001b[1;33m[\u001b[0m\u001b[1;33m(\u001b[0m\u001b[0mkey\u001b[0m\u001b[1;33m,\u001b[0m \u001b[0marr\u001b[0m\u001b[1;33m[\u001b[0m\u001b[0mkey\u001b[0m\u001b[1;33m]\u001b[0m\u001b[1;33m)\u001b[0m\u001b[1;33m]\u001b[0m\u001b[1;33m)\u001b[0m\u001b[1;33m)\u001b[0m\u001b[1;33m\u001b[0m\u001b[0m\n\u001b[0m\u001b[0;32m      4\u001b[0m \u001b[0msio\u001b[0m\u001b[1;33m.\u001b[0m\u001b[0msavemat\u001b[0m\u001b[1;33m(\u001b[0m\u001b[0mpath\u001b[0m\u001b[1;33m+\u001b[0m\u001b[0mfilename\u001b[0m\u001b[1;33m,\u001b[0m \u001b[0mS\u001b[0m\u001b[1;33m)\u001b[0m\u001b[1;33m\u001b[0m\u001b[0m\n",
      "\u001b[1;32m/global/project/projectdirs/lux/Tools/anaconda/lib/python2.7/site-packages/numpy/core/records.pyc\u001b[0m in \u001b[0;36m__getitem__\u001b[1;34m(self, indx)\u001b[0m\n\u001b[0;32m    456\u001b[0m \u001b[1;33m\u001b[0m\u001b[0m\n\u001b[0;32m    457\u001b[0m     \u001b[1;32mdef\u001b[0m \u001b[0m__getitem__\u001b[0m\u001b[1;33m(\u001b[0m\u001b[0mself\u001b[0m\u001b[1;33m,\u001b[0m \u001b[0mindx\u001b[0m\u001b[1;33m)\u001b[0m\u001b[1;33m:\u001b[0m\u001b[1;33m\u001b[0m\u001b[0m\n\u001b[1;32m--> 458\u001b[1;33m         \u001b[0mobj\u001b[0m \u001b[1;33m=\u001b[0m \u001b[0mndarray\u001b[0m\u001b[1;33m.\u001b[0m\u001b[0m__getitem__\u001b[0m\u001b[1;33m(\u001b[0m\u001b[0mself\u001b[0m\u001b[1;33m,\u001b[0m \u001b[0mindx\u001b[0m\u001b[1;33m)\u001b[0m\u001b[1;33m\u001b[0m\u001b[0m\n\u001b[0m\u001b[0;32m    459\u001b[0m         \u001b[1;32mif\u001b[0m \u001b[1;33m(\u001b[0m\u001b[0misinstance\u001b[0m\u001b[1;33m(\u001b[0m\u001b[0mobj\u001b[0m\u001b[1;33m,\u001b[0m \u001b[0mndarray\u001b[0m\u001b[1;33m)\u001b[0m \u001b[1;32mand\u001b[0m \u001b[0mobj\u001b[0m\u001b[1;33m.\u001b[0m\u001b[0mdtype\u001b[0m\u001b[1;33m.\u001b[0m\u001b[0misbuiltin\u001b[0m\u001b[1;33m)\u001b[0m\u001b[1;33m:\u001b[0m\u001b[1;33m\u001b[0m\u001b[0m\n\u001b[0;32m    460\u001b[0m             \u001b[1;32mreturn\u001b[0m \u001b[0mobj\u001b[0m\u001b[1;33m.\u001b[0m\u001b[0mview\u001b[0m\u001b[1;33m(\u001b[0m\u001b[0mndarray\u001b[0m\u001b[1;33m)\u001b[0m\u001b[1;33m\u001b[0m\u001b[0m\n",
      "\u001b[1;31mValueError\u001b[0m: field named S1 not found"
     ]
    }
   ],
   "source": [
    "S=dict()\n",
    "for (key, value) in a.items():        \n",
    "    S.update(dict([(key, arr[key])]))\n",
    "#sio.savemat(path+filename, S)"
   ]
  },
  {
   "cell_type": "code",
   "execution_count": 77,
=======
   "execution_count": 12,
>>>>>>> origin/master
   "metadata": {
    "collapsed": false
   },
   "outputs": [],
   "source": [
<<<<<<< HEAD
    "rfile = TFile(path+filename+'.root')\n",
    "intree = rfile.Get('filter')"
   ]
  },
  {
   "cell_type": "code",
   "execution_count": 50,
   "metadata": {
    "collapsed": false
   },
   "outputs": [
    {
     "ename": "AttributeError",
     "evalue": "'TTree' object has no attribute 'Get'",
     "output_type": "error",
     "traceback": [
      "\u001b[1;31m---------------------------------------------------------------------------\u001b[0m",
      "\u001b[1;31mAttributeError\u001b[0m                            Traceback (most recent call last)",
      "\u001b[1;32m<ipython-input-50-09217afcdc24>\u001b[0m in \u001b[0;36m<module>\u001b[1;34m()\u001b[0m\n\u001b[1;32m----> 1\u001b[1;33m \u001b[0mbranch\u001b[0m\u001b[1;33m=\u001b[0m\u001b[0mintree\u001b[0m\u001b[1;33m.\u001b[0m\u001b[0mGet\u001b[0m\u001b[1;33m(\u001b[0m\u001b[1;34m'S1'\u001b[0m\u001b[1;33m)\u001b[0m\u001b[1;33m\u001b[0m\u001b[0m\n\u001b[0m",
      "\u001b[1;31mAttributeError\u001b[0m: 'TTree' object has no attribute 'Get'"
     ]
    }
   ],
   "source": [
    "branch=intree.Get('S1')"
=======
    "arr = root2array('/project/projectdirs/lux/data/golden/Golden_Run03/Golden_150303_WS*.root','golden')"
>>>>>>> origin/master
   ]
  },
  {
   "cell_type": "code",
<<<<<<< HEAD
   "execution_count": 9,
   "metadata": {
    "collapsed": false
   },
   "outputs": [
    {
     "name": "stdout",
     "output_type": "stream",
     "text": [
      "<ROOT.TBranchElement object (\"S1\") at 0x288bc90>\n",
      "<ROOT.TBranchElement object (\"S2\") at 0x28cf7d0>\n",
      "<ROOT.TBranch object (\"luxstamp\") at 0x28d50d0>\n",
      "<ROOT.TBranch object (\"goodArea\") at 0x28d6b30>\n",
      "<ROOT.TBranch object (\"badArea\") at 0x28d8340>\n",
      "<ROOT.TBranch object (\"nS1\") at 0x28d89b0>\n",
      "<ROOT.TBranch object (\"nS2\") at 0x28da1c0>\n",
      "<ROOT.TBranch object (\"excluded\") at 0x28da830>\n",
      "<ROOT.TBranch object (\"close2End\") at 0x28daea0>\n",
      "<ROOT.TObject object at 0x(nil)>\n",
      "<ROOT.TObject object at 0x(nil)>\n",
      "<ROOT.TObject object at 0x(nil)>\n",
      "<ROOT.TObject object at 0x(nil)>\n",
      "<ROOT.TObject object at 0x(nil)>\n",
      "<ROOT.TObject object at 0x(nil)>\n",
      "<ROOT.TObject object at 0x(nil)>\n"
     ]
    }
   ],
   "source": [
    "a=intree.GetListOfBranches()\n",
    "for ii in range(0,a.GetSize()):\n",
    "    print(a[ii])"
   ]
  },
  {
   "cell_type": "code",
   "execution_count": 10,
   "metadata": {
    "collapsed": false
   },
   "outputs": [
    {
     "ename": "AttributeError",
     "evalue": "'TBranchElement' object has no attribute 'Items'",
     "output_type": "error",
     "traceback": [
      "\u001b[1;31m---------------------------------------------------------------------------\u001b[0m",
      "\u001b[1;31mAttributeError\u001b[0m                            Traceback (most recent call last)",
      "\u001b[1;32m<ipython-input-10-41cdb4adcdb4>\u001b[0m in \u001b[0;36m<module>\u001b[1;34m()\u001b[0m\n\u001b[1;32m----> 1\u001b[1;33m \u001b[0mbranch\u001b[0m\u001b[1;33m.\u001b[0m\u001b[0mItems\u001b[0m\u001b[1;33m(\u001b[0m\u001b[1;33m)\u001b[0m\u001b[1;33m\u001b[0m\u001b[0m\n\u001b[0m",
      "\u001b[1;31mAttributeError\u001b[0m: 'TBranchElement' object has no attribute 'Items'"
     ]
    }
   ],
   "source": []
  },
  {
   "cell_type": "code",
   "execution_count": 51,
=======
   "execution_count": 72,
>>>>>>> origin/master
   "metadata": {
    "collapsed": false
   },
   "outputs": [
    {
     "data": {
      "text/plain": [
<<<<<<< HEAD
       "['filter', 'live']"
      ]
     },
     "execution_count": 51,
=======
       "array([7288620696844843, 7288620895265950, 7288621195916423, ...,\n",
       "       8421020637325744, 8421020885147606, 8421020988793003], dtype=uint64)"
      ]
     },
     "execution_count": 72,
>>>>>>> origin/master
     "metadata": {},
     "output_type": "execute_result"
    }
   ],
   "source": [
<<<<<<< HEAD
    "root_numpy.list_trees(path+filename+'.root')"
=======
    "arr['luxstamp']"
>>>>>>> origin/master
   ]
  },
  {
   "cell_type": "code",
<<<<<<< HEAD
   "execution_count": 56,
   "metadata": {
    "collapsed": false
   },
   "outputs": [
    {
     "data": {
      "text/plain": [
       "['S1',\n",
       " 'S2',\n",
       " 'luxstamp',\n",
       " 'goodArea',\n",
       " 'badArea',\n",
       " 'nS1',\n",
       " 'nS2',\n",
       " 'excluded',\n",
       " 'close2End']"
      ]
     },
     "execution_count": 56,
     "metadata": {},
     "output_type": "execute_result"
    }
   ],
   "source": [
    "root_numpy.list_branches(path+filename+'.root',treename='filter')"
   ]
  },
  {
   "cell_type": "code",
   "execution_count": 60,
   "metadata": {
    "collapsed": false
   },
   "outputs": [
    {
     "ename": "TypeError",
     "evalue": "expected string or Unicode object, TFile found",
     "output_type": "error",
     "traceback": [
      "\u001b[1;31m---------------------------------------------------------------------------\u001b[0m",
      "\u001b[1;31mTypeError\u001b[0m                                 Traceback (most recent call last)",
      "\u001b[1;32m<ipython-input-60-e2350dca1a07>\u001b[0m in \u001b[0;36m<module>\u001b[1;34m()\u001b[0m\n\u001b[1;32m----> 1\u001b[1;33m \u001b[0mlist_structures\u001b[0m\u001b[1;33m(\u001b[0m\u001b[0mrfile\u001b[0m\u001b[1;33m,\u001b[0m\u001b[1;34m'filter'\u001b[0m\u001b[1;33m)\u001b[0m\u001b[1;33m\u001b[0m\u001b[0m\n\u001b[0m",
      "\u001b[1;32m/global/project/projectdirs/lux/Tools/anaconda/lib/python2.7/site-packages/root_numpy/_tree.pyc\u001b[0m in \u001b[0;36mlist_structures\u001b[1;34m(filename, treename)\u001b[0m\n\u001b[0;32m     91\u001b[0m \u001b[1;33m\u001b[0m\u001b[0m\n\u001b[0;32m     92\u001b[0m     \"\"\"\n\u001b[1;32m---> 93\u001b[1;33m     \u001b[1;32mreturn\u001b[0m \u001b[0m_librootnumpy\u001b[0m\u001b[1;33m.\u001b[0m\u001b[0mlist_structures\u001b[0m\u001b[1;33m(\u001b[0m\u001b[0mfilename\u001b[0m\u001b[1;33m,\u001b[0m \u001b[0mtreename\u001b[0m\u001b[1;33m)\u001b[0m\u001b[1;33m\u001b[0m\u001b[0m\n\u001b[0m\u001b[0;32m     94\u001b[0m \u001b[1;33m\u001b[0m\u001b[0m\n\u001b[0;32m     95\u001b[0m \u001b[1;33m\u001b[0m\u001b[0m\n",
      "\u001b[1;32mtree.pyx\u001b[0m in \u001b[0;36m_librootnumpy.list_structures (root_numpy/src/_librootnumpy.cpp:31)\u001b[1;34m()\u001b[0m\n",
      "\u001b[1;31mTypeError\u001b[0m: expected string or Unicode object, TFile found"
     ]
    }
   ],
   "source": [
    "list_structures(path+filename+'.root','filter')"
   ]
  },
  {
   "cell_type": "code",
   "execution_count": null,
   "metadata": {
    "collapsed": true
   },
   "outputs": [],
   "source": []
  },
  {
   "cell_type": "code",
   "execution_count": 20,
   "metadata": {
    "collapsed": false
   },
   "outputs": [],
   "source": [
    "rec = tree2rec(intree, branches=['S1.fArea'])"
   ]
  },
  {
   "cell_type": "code",
   "execution_count": 11,
   "metadata": {
    "collapsed": false
   },
   "outputs": [
    {
     "name": "stderr",
     "output_type": "stream",
     "text": [
      "/global/project/projectdirs/lux/Tools/anaconda/lib/python2.7/site-packages/root_numpy/_tree.py:296: RootNumpyUnconvertibleWarning: cannot convert leaf 'S1' of branch 'S1' with type 'LUX_S1' (skipping)\n",
      "  weight_name)\n",
      "/global/project/projectdirs/lux/Tools/anaconda/lib/python2.7/site-packages/root_numpy/_tree.py:296: RootNumpyUnconvertibleWarning: cannot convert leaf 'S2' of branch 'S2' with type 'LUX_S2' (skipping)\n",
      "  weight_name)\n"
     ]
    }
   ],
   "source": [
    "rec = tree2rec(intree)"
   ]
  },
  {
   "cell_type": "code",
   "execution_count": 106,
   "metadata": {
    "collapsed": false
   },
   "outputs": [
    {
     "ename": "AttributeError",
     "evalue": "'TBranchElement' object has no attribute 'GetLeaves'",
     "output_type": "error",
     "traceback": [
      "\u001b[1;31m---------------------------------------------------------------------------\u001b[0m",
      "\u001b[1;31mAttributeError\u001b[0m                            Traceback (most recent call last)",
      "\u001b[1;32m<ipython-input-106-d87787729b81>\u001b[0m in \u001b[0;36m<module>\u001b[1;34m()\u001b[0m\n\u001b[1;32m----> 1\u001b[1;33m \u001b[0maa\u001b[0m\u001b[1;33m=\u001b[0m\u001b[0ma\u001b[0m\u001b[1;33m.\u001b[0m\u001b[0mGetLeaves\u001b[0m\u001b[1;33m(\u001b[0m\u001b[1;33m)\u001b[0m\u001b[1;33m\u001b[0m\u001b[0m\n\u001b[0m",
      "\u001b[1;31mAttributeError\u001b[0m: 'TBranchElement' object has no attribute 'GetLeaves'"
     ]
    }
   ],
   "source": [
    "aa=a.GetLeaves()"
=======
   "execution_count": 24,
   "metadata": {
    "collapsed": false
   },
   "outputs": [],
   "source": [
    "a=list_structures('/project/projectdirs/lux/data/golden/Golden_Run03/Golden_150303_WS1.root')"
>>>>>>> origin/master
   ]
  },
  {
   "cell_type": "code",
<<<<<<< HEAD
   "execution_count": 105,
   "metadata": {
    "collapsed": false
   },
   "outputs": [
    {
     "data": {
      "text/plain": [
       "<ROOT.TLeafElement object (\"S1\") at 0x4215680>"
      ]
     },
     "execution_count": 105,
     "metadata": {},
     "output_type": "execute_result"
    }
   ],
   "source": [
    "aa[0]"
   ]
  },
  {
   "cell_type": "code",
   "execution_count": 86,
   "metadata": {
    "collapsed": false,
    "scrolled": true
   },
   "outputs": [
    {
     "ename": "TypeError",
     "evalue": "cannot convert leaf 'S1' of branch 'S1' with type 'LUX_S1'",
     "output_type": "error",
     "traceback": [
      "\u001b[1;31m---------------------------------------------------------------------------\u001b[0m",
      "\u001b[1;31mTypeError\u001b[0m                                 Traceback (most recent call last)",
      "\u001b[1;32m<ipython-input-86-c458e24e468a>\u001b[0m in \u001b[0;36m<module>\u001b[1;34m()\u001b[0m\n\u001b[1;32m----> 1\u001b[1;33m \u001b[0mrec\u001b[0m \u001b[1;33m=\u001b[0m \u001b[0mtree2rec\u001b[0m\u001b[1;33m(\u001b[0m\u001b[0mintree\u001b[0m\u001b[1;33m,\u001b[0m\u001b[0mbranches\u001b[0m\u001b[1;33m=\u001b[0m\u001b[1;34m'S1'\u001b[0m\u001b[1;33m)\u001b[0m\u001b[1;33m\u001b[0m\u001b[0m\n\u001b[0m",
      "\u001b[1;32m/global/project/projectdirs/lux/Tools/anaconda/lib/python2.7/site-packages/root_numpy/_tree.pyc\u001b[0m in \u001b[0;36mtree2rec\u001b[1;34m(tree, branches, selection, start, stop, step, include_weight, weight_name)\u001b[0m\n\u001b[0;32m    330\u001b[0m                       \u001b[0mstep\u001b[0m\u001b[1;33m=\u001b[0m\u001b[0mstep\u001b[0m\u001b[1;33m,\u001b[0m\u001b[1;33m\u001b[0m\u001b[0m\n\u001b[0;32m    331\u001b[0m                       \u001b[0minclude_weight\u001b[0m\u001b[1;33m=\u001b[0m\u001b[0minclude_weight\u001b[0m\u001b[1;33m,\u001b[0m\u001b[1;33m\u001b[0m\u001b[0m\n\u001b[1;32m--> 332\u001b[1;33m                       weight_name=weight_name).view(np.recarray)\n\u001b[0m\u001b[0;32m    333\u001b[0m \u001b[1;33m\u001b[0m\u001b[0m\n\u001b[0;32m    334\u001b[0m \u001b[1;33m\u001b[0m\u001b[0m\n",
      "\u001b[1;32m/global/project/projectdirs/lux/Tools/anaconda/lib/python2.7/site-packages/root_numpy/_tree.pyc\u001b[0m in \u001b[0;36mtree2array\u001b[1;34m(tree, branches, selection, start, stop, step, include_weight, weight_name)\u001b[0m\n\u001b[0;32m    294\u001b[0m         \u001b[0mstart\u001b[0m\u001b[1;33m,\u001b[0m \u001b[0mstop\u001b[0m\u001b[1;33m,\u001b[0m \u001b[0mstep\u001b[0m\u001b[1;33m,\u001b[0m\u001b[1;33m\u001b[0m\u001b[0m\n\u001b[0;32m    295\u001b[0m         \u001b[0minclude_weight\u001b[0m\u001b[1;33m,\u001b[0m\u001b[1;33m\u001b[0m\u001b[0m\n\u001b[1;32m--> 296\u001b[1;33m         weight_name)\n\u001b[0m\u001b[0;32m    297\u001b[0m \u001b[1;33m\u001b[0m\u001b[0m\n\u001b[0;32m    298\u001b[0m     \u001b[1;32mif\u001b[0m \u001b[0mflatten\u001b[0m\u001b[1;33m:\u001b[0m\u001b[1;33m\u001b[0m\u001b[0m\n",
      "\u001b[1;32mtree.pyx\u001b[0m in \u001b[0;36m_librootnumpy.root2array_fromCObj (root_numpy/src/_librootnumpy.cpp:367)\u001b[1;34m()\u001b[0m\n",
      "\u001b[1;32mtree.pyx\u001b[0m in \u001b[0;36m_librootnumpy.tree2array (root_numpy/src/_librootnumpy.cpp:232)\u001b[1;34m()\u001b[0m\n",
      "\u001b[1;31mTypeError\u001b[0m: cannot convert leaf 'S1' of branch 'S1' with type 'LUX_S1'"
     ]
    }
   ],
   "source": [
    "rec = tree2rec(intree,branches='S1')"
   ]
  },
  {
   "cell_type": "code",
   "execution_count": 65,
   "metadata": {
    "collapsed": false
   },
   "outputs": [
    {
     "data": {
      "text/plain": [
       "rec.array([(42.72051239013672,), (291.44683837890625,), (55.5775032043457,),\n",
       "       ..., (2098.81884765625,), (3060.50927734375,), (989.0181884765625,)], \n",
       "      dtype=[('S1.fArea', '<f8')])"
      ]
     },
     "execution_count": 65,
     "metadata": {},
     "output_type": "execute_result"
    }
   ],
   "source": [
    "rec"
   ]
  },
  {
   "cell_type": "code",
   "execution_count": 10,
   "metadata": {
    "collapsed": false
   },
   "outputs": [
    {
     "data": {
      "text/plain": [
       "1"
      ]
     },
     "execution_count": 10,
     "metadata": {},
     "output_type": "execute_result"
    }
   ],
   "source": [
    "chain = TChain('filter')\n",
    "chain.Add(path+filename+'.root')"
   ]
  },
  {
   "cell_type": "code",
   "execution_count": 9,
=======
   "execution_count": 82,
>>>>>>> origin/master
   "metadata": {
    "collapsed": false
   },
   "outputs": [],
   "source": [
<<<<<<< HEAD
    "t = rfile.Get(\"filter\")\n",
    "b=t.GetEntry(0)"
   ]
  },
  {
   "cell_type": "code",
   "execution_count": 7,
   "metadata": {
    "collapsed": false
   },
   "outputs": [
    {
     "data": {
      "text/plain": [
       "280"
      ]
     },
     "execution_count": 7,
     "metadata": {},
     "output_type": "execute_result"
    }
   ],
   "source": [
    "b"
   ]
  },
  {
   "cell_type": "code",
   "execution_count": 45,
   "metadata": {
    "collapsed": false
   },
   "outputs": [
    {
     "ename": "AttributeError",
     "evalue": "'TObject' object has no attribute 'GetListOfBranches'",
     "output_type": "error",
     "traceback": [
      "\u001b[1;31m---------------------------------------------------------------------------\u001b[0m",
      "\u001b[1;31mAttributeError\u001b[0m                            Traceback (most recent call last)",
      "\u001b[1;32m<ipython-input-45-3483c852d30c>\u001b[0m in \u001b[0;36m<module>\u001b[1;34m()\u001b[0m\n\u001b[1;32m----> 1\u001b[1;33m \u001b[0mShowBranches\u001b[0m\u001b[1;33m(\u001b[0m\u001b[0mintree\u001b[0m\u001b[1;33m)\u001b[0m\u001b[1;33m\u001b[0m\u001b[0m\n\u001b[0m",
      "\u001b[1;32m/global/u2/a/adobi/iPyNb/Analysis_Code/rootnotes_nersc.pyc\u001b[0m in \u001b[0;36mShowBranches\u001b[1;34m(chain)\u001b[0m\n\u001b[0;32m     71\u001b[0m \u001b[1;33m\u001b[0m\u001b[0m\n\u001b[0;32m     72\u001b[0m \u001b[1;32mdef\u001b[0m \u001b[0mShowBranches\u001b[0m\u001b[1;33m(\u001b[0m\u001b[0mchain\u001b[0m\u001b[1;33m)\u001b[0m\u001b[1;33m:\u001b[0m\u001b[1;33m\u001b[0m\u001b[0m\n\u001b[1;32m---> 73\u001b[1;33m     \u001b[0ma\u001b[0m\u001b[1;33m=\u001b[0m\u001b[0mchain\u001b[0m\u001b[1;33m.\u001b[0m\u001b[0mGetListOfBranches\u001b[0m\u001b[1;33m(\u001b[0m\u001b[1;33m)\u001b[0m\u001b[1;33m\u001b[0m\u001b[0m\n\u001b[0m\u001b[0;32m     74\u001b[0m     \u001b[1;32mfor\u001b[0m \u001b[0mii\u001b[0m \u001b[1;32min\u001b[0m \u001b[0mrange\u001b[0m\u001b[1;33m(\u001b[0m\u001b[1;36m0\u001b[0m\u001b[1;33m,\u001b[0m\u001b[0ma\u001b[0m\u001b[1;33m.\u001b[0m\u001b[0mGetSize\u001b[0m\u001b[1;33m(\u001b[0m\u001b[1;33m)\u001b[0m\u001b[1;33m)\u001b[0m\u001b[1;33m:\u001b[0m\u001b[1;33m\u001b[0m\u001b[0m\n\u001b[0;32m     75\u001b[0m         \u001b[1;32mprint\u001b[0m\u001b[1;33m(\u001b[0m\u001b[0ma\u001b[0m\u001b[1;33m[\u001b[0m\u001b[0mii\u001b[0m\u001b[1;33m]\u001b[0m\u001b[1;33m)\u001b[0m\u001b[1;33m\u001b[0m\u001b[0m\n",
      "\u001b[1;31mAttributeError\u001b[0m: 'TObject' object has no attribute 'GetListOfBranches'"
     ]
    }
   ],
   "source": [
    "ShowBranches(intree)"
   ]
  },
  {
   "cell_type": "code",
   "execution_count": 140,
   "metadata": {
    "collapsed": false
   },
   "outputs": [],
   "source": [
    "from rootnotes_nersc import rtshow, clearCanvas, default_canvas, ShowBranches"
   ]
  },
  {
   "cell_type": "code",
   "execution_count": 38,
   "metadata": {
    "collapsed": true
   },
   "outputs": [],
   "source": [
    "c1=default_canvas('c2')"
=======
    "S=dict()\n",
    "for (key, value) in a.items():        \n",
    "    S.update(dict([(key, arr[key])]))"
>>>>>>> origin/master
   ]
  },
  {
   "cell_type": "code",
<<<<<<< HEAD
   "execution_count": 41,
=======
   "execution_count": 84,
>>>>>>> origin/master
   "metadata": {
    "collapsed": false
   },
   "outputs": [],
   "source": [
<<<<<<< HEAD
    "chain.Draw(\"luxstamp\")"
   ]
  },
  {
   "cell_type": "code",
   "execution_count": 42,
   "metadata": {
    "collapsed": false
   },
   "outputs": [
    {
     "data": {
      "text/html": [
       "<iframe src=tmpNB/tmpHJPjg1.pdf width=800 height=600></iframe>"
      ],
      "text/latex": [
       "\\includegraphics[width=1.0\\textwidth]{tmpNB/tmpHJPjg1.pdf}"
      ],
      "text/plain": [
       "<rootnotes_nersc.PDF at 0x2b346ae361d0>"
      ]
     },
     "execution_count": 42,
     "metadata": {},
     "output_type": "execute_result"
    }
   ],
   "source": [
    "rtshow(chain)"
   ]
  },
  {
   "cell_type": "code",
   "execution_count": null,
   "metadata": {
    "collapsed": true
   },
   "outputs": [],
   "source": []
=======
    "sio.savemat('Run03_Golden_numpy', S)"
   ]
>>>>>>> origin/master
  }
 ],
 "metadata": {
  "kernelspec": {
<<<<<<< HEAD
   "display_name": "pyrootnb",
   "language": "python",
   "name": "pyrootnb"
=======
   "display_name": "Python 2",
   "language": "python",
   "name": "python2"
>>>>>>> origin/master
  },
  "language_info": {
   "codemirror_mode": {
    "name": "ipython",
    "version": 2
   },
   "file_extension": ".py",
   "mimetype": "text/x-python",
   "name": "python",
   "nbconvert_exporter": "python",
   "pygments_lexer": "ipython2",
<<<<<<< HEAD
   "version": "2.7.10"
=======
   "version": "2.7.9"
>>>>>>> origin/master
  }
 },
 "nbformat": 4,
 "nbformat_minor": 0
}
