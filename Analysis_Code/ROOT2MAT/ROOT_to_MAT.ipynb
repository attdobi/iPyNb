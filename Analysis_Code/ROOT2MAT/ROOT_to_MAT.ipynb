{
 "cells": [
  {
   "cell_type": "markdown",
   "metadata": {
    "collapsed": false
   },
   "source": [
    "<h1> Convert golden root files into golden mat files </h1>"
   ]
  },
  {
   "cell_type": "code",
   "execution_count": 2,
   "metadata": {
    "collapsed": false
   },
   "outputs": [],
   "source": [
    "import sys\n",
    "home_dir=!echo \"$HOME\"\n",
    "sys.path.insert(2,home_dir[0]+'/iPyNb/NERSC_Import')#or point to your iPyNb/NERSC_Import folder. It should be in your home directory for easy setup\n",
    "from pyROOT_import import *"
   ]
  },
  {
   "cell_type": "markdown",
   "metadata": {},
   "source": [
    "<h1> Run04 Platinum test file </h1>"
   ]
  },
  {
   "cell_type": "code",
   "execution_count": 9,
   "metadata": {
    "collapsed": false
   },
   "outputs": [],
   "source": [
    "arr = root2array('/global/projecta/projectdirs/lux/data/golden/for_limits_group/sampleUCSBLimitFile.root')\n",
    "a=list_structures('/global/projecta/projectdirs/lux/data/golden/for_limits_group/sampleUCSBLimitFile.root')\n",
    "\n",
    "S=dict()\n",
    "for (key, value) in a.items():        \n",
    "    S.update(dict([(key, arr[key])]))\n",
    "sio.savemat('sampleUCSBLimitFile', S)"
   ]
  },
  {
   "cell_type": "code",
   "execution_count": 8,
   "metadata": {
    "collapsed": false
   },
   "outputs": [
    {
     "data": {
      "text/plain": [
       "OrderedDict([('luxstamp', [('luxstamp', u'unsigned long long')]), ('log10S2', [('log10S2', u'float')]), ('S1', [('S1', u'float')]), ('rawS2', [('rawS2', u'float')]), ('r_raw', [('r_raw', u'float')]), ('phi_raw', [('phi_raw', u'float')]), ('r_cor', [('r_cor', u'float')]), ('phi_cor', [('phi_cor', u'float')]), ('drift', [('drift', u'float')]), ('timeBin', [('timeBin', u'int')]), ('z_cm', [('z_cm', u'float')])])"
      ]
     },
     "execution_count": 8,
     "metadata": {},
     "output_type": "execute_result"
    }
   ],
   "source": [
    "a"
   ]
  },
  {
   "cell_type": "markdown",
   "metadata": {},
   "source": [
    "<h1> Kurt's Run04 corrections </h1>"
   ]
  },
  {
   "cell_type": "code",
   "execution_count": 13,
   "metadata": {
    "collapsed": false
   },
   "outputs": [],
   "source": [
    "arr = root2array('/global/project/projectdirs/lux/users/nehrkorn/planB_thresholdFix_WSdata/corrected_files/*.root','platinum')\n",
    "a=list_structures('/global/project/projectdirs/lux/users/nehrkorn/planB_thresholdFix_WSdata/corrected_files/uncor_positions_properS1threshold_1_Corrected.root')\n",
    "\n",
    "S=dict()\n",
    "for (key, value) in a.items():        \n",
    "    S.update(dict([(key, arr[key])]))\n",
    "sio.savemat('sample_Run04_Curt', S)"
   ]
  },
  {
   "cell_type": "code",
   "execution_count": 14,
   "metadata": {
    "collapsed": false
   },
   "outputs": [
    {
     "data": {
      "text/plain": [
       "OrderedDict([('luxstamp', [('luxstamp', u'unsigned long long')]), ('log10S2', [('log10S2', u'float')]), ('S1', [('S1', u'float')]), ('rawS2', [('rawS2', u'float')]), ('r', [('r', u'float')]), ('phi', [('phi', u'float')]), ('z', [('z', u'float')]), ('timeBin', [('timeBin', u'int')])])"
      ]
     },
     "execution_count": 14,
     "metadata": {},
     "output_type": "execute_result"
    }
   ],
   "source": [
    "a"
   ]
  },
  {
   "cell_type": "markdown",
   "metadata": {},
   "source": [
    "<h1> Evan. Raw Mercury </h1>"
   ]
  },
  {
   "cell_type": "code",
   "execution_count": 16,
   "metadata": {
    "collapsed": true
   },
   "outputs": [],
   "source": [
    "arr = root2array('/project/projectdirs/lux/users/epease/uncor_positions_properS1threshold_*.root','platinum')\n",
    "a=list_structures('/project/projectdirs/lux/users/epease/uncor_positions_properS1threshold_1.root')\n",
    "\n",
    "S=dict()\n",
    "for (key, value) in a.items():        \n",
    "    S.update(dict([(key, arr[key])]))\n",
    "sio.savemat('sample_Run04_Evan_rawMerc', S)"
   ]
  },
  {
   "cell_type": "code",
   "execution_count": 15,
   "metadata": {
    "collapsed": false
   },
   "outputs": [
    {
     "data": {
      "text/plain": [
       "OrderedDict([('luxstamp', [('luxstamp', u'unsigned long long')]), ('log10S2', [('log10S2', u'float')]), ('S1', [('S1', u'float')]), ('rawS2', [('rawS2', u'float')]), ('x', [('x', u'float')]), ('y', [('y', u'float')]), ('drift', [('drift', u'float')]), ('timeBin', [('timeBin', u'int')])])"
      ]
     },
     "execution_count": 15,
     "metadata": {},
     "output_type": "execute_result"
    }
   ],
   "source": [
    "a=list_structures('/project/projectdirs/lux/users/epease/uncor_positions_properS1threshold_1.root')\n",
    "a"
   ]
  },
  {
   "cell_type": "markdown",
   "metadata": {},
   "source": [
    "<h2> Run03 golden WS used in 2015 PRL </h2>"
   ]
  },
  {
   "cell_type": "code",
   "execution_count": 21,
   "metadata": {
    "collapsed": false
   },
   "outputs": [],
   "source": [
    "arr = root2array('/project/projectdirs/lux/data/golden/root/Golden_Run03/Golden_150303_WS*.root','golden')\n",
    "a=list_structures('/project/projectdirs/lux/data/golden/root/Golden_Run03/Golden_150303_WS1.root')\n",
    "S=dict()\n",
    "for (key, value) in a.items():        \n",
    "    S.update(dict([(key, arr[key])]))\n",
    "sio.savemat('/project/projectdirs/lux/data/golden/mat/Platinum_Run03', S)"
   ]
  },
  {
   "cell_type": "markdown",
   "metadata": {},
   "source": [
    "<h2> March-April 2013 Xe-Act data </h2>"
   ]
  },
  {
   "cell_type": "code",
   "execution_count": 3,
   "metadata": {
    "collapsed": true
   },
   "outputs": [],
   "source": [
    "arr = root2array('/project/projectdirs/lux/data/golden/root/preRun03_Golden_XeAct/*.root','golden')\n",
    "a=list_structures('/project/projectdirs/lux/data/golden/root/preRun03_Golden_XeAct/Golden_XeAct_1.root')\n",
    "S=dict()\n",
    "for (key, value) in a.items():        \n",
    "    S.update(dict([(key, arr[key])]))\n",
    "sio.savemat('2013_XeAct_Golden', S)"
   ]
  },
  {
   "cell_type": "markdown",
   "metadata": {},
   "source": [
    "<h2> Aug 2013 Run03 Cs137 Calibration </h2>"
   ]
  },
  {
   "cell_type": "code",
   "execution_count": 2,
   "metadata": {
    "collapsed": true
   },
   "outputs": [],
   "source": [
    "arr = root2array('/project/projectdirs/lux/data/golden/root/Cs_Run03/Golden_Cs137_Aug.root','golden')\n",
    "a=list_structures('/project/projectdirs/lux/data/golden/root/Cs_Run03/Golden_Cs137_Aug.root')\n",
    "S=dict()\n",
    "for (key, value) in a.items():        \n",
    "    S.update(dict([(key, arr[key])]))\n",
    "sio.savemat('/project/projectdirs/lux/data/golden/mat/Golden_Cs137_Aug2013', S)"
   ]
  },
  {
   "cell_type": "markdown",
   "metadata": {},
   "source": [
    "<h2> 2013-Run03 DD neutron generator calibration</h2>"
   ]
  },
  {
   "cell_type": "code",
   "execution_count": 6,
   "metadata": {
    "collapsed": false
   },
   "outputs": [],
   "source": [
    "arr = root2array('/project/projectdirs/lux/data/golden/root/DD_Run03/Golden_DD_*.root','golden')\n",
    "a=list_structures('/project/projectdirs/lux/data/golden/root/DD_Run03/Golden_DD_1.root')\n",
    "S=dict()\n",
    "for (key, value) in a.items():        \n",
    "    S.update(dict([(key, arr[key])]))\n",
    "sio.savemat('DD_2013_Golden', S)"
   ]
  },
  {
   "cell_type": "markdown",
   "metadata": {},
   "source": [
    "<h2> 2013 Post DD activiation data </h2>"
   ]
  },
  {
   "cell_type": "code",
   "execution_count": 8,
   "metadata": {
    "collapsed": true
   },
   "outputs": [],
   "source": [
    "arr = root2array('/project/projectdirs/lux/data/golden/root/DD_Run03/Golden_PostDD_Run03.root','golden')\n",
    "a=list_structures('/project/projectdirs/lux/data/golden/root/DD_Run03/Golden_PostDD_Run03.root')\n",
    "S=dict()\n",
    "for (key, value) in a.items():        \n",
    "    S.update(dict([(key, arr[key])]))\n",
    "sio.savemat('post_DD_2013_Golden', S)"
   ]
  },
  {
   "cell_type": "markdown",
   "metadata": {},
   "source": [
    "<h2> Aug 2013 Run03 Tritium Data </h2>"
   ]
  },
  {
   "cell_type": "code",
   "execution_count": 2,
   "metadata": {
    "collapsed": false
   },
   "outputs": [],
   "source": [
    "arr = root2array('/project/projectdirs/lux/data/golden/root/CH3T_Run03/Golden_CH3T_Aug.root','golden')\n",
    "arrlive = root2array('/project/projectdirs/lux/data/golden/root/CH3T_Run03/Golden_CH3T_Aug.root','golive')\n",
    "a=list_structures('/project/projectdirs/lux/data/golden/root/CH3T_Run03/Golden_CH3T_Aug.root','golden')\n",
    "alive=list_structures('/project/projectdirs/lux/data/golden/root/CH3T_Run03/Golden_CH3T_Aug.root','golive')\n",
    "S=dict()\n",
    "for (key, value) in a.items():        \n",
    "    S.update(dict([(key, arr[key])]))\n",
    "for (key, value) in alive.items():        \n",
    "    S.update(dict([(key, arrlive[key])]))\n",
    "sio.savemat('/project/projectdirs/lux/data/golden/mat/Golden_CH3T_Aug', S)"
   ]
  },
  {
   "cell_type": "markdown",
   "metadata": {},
   "source": [
    "<h2> Dec 2013 Run03 Tritium Data </h2>"
   ]
  },
  {
   "cell_type": "code",
   "execution_count": 19,
   "metadata": {
    "collapsed": true
   },
   "outputs": [],
   "source": [
    "arr = root2array('/project/projectdirs/lux/data/golden/root/CH3T_Run03/Golden_CH3T_Dec.root','golden')\n",
    "arrlive = root2array('/project/projectdirs/lux/data/golden/root/CH3T_Run03/Golden_CH3T_Dec.root','golive')\n",
    "a=list_structures('/project/projectdirs/lux/data/golden/root/CH3T_Run03/Golden_CH3T_Dec.root','golden')\n",
    "alive=list_structures('/project/projectdirs/lux/data/golden/root/CH3T_Run03/Golden_CH3T_Dec.root','golive')\n",
    "S=dict()\n",
    "for (key, value) in a.items():        \n",
    "    S.update(dict([(key, arr[key])]))\n",
    "for (key, value) in alive.items():        \n",
    "    S.update(dict([(key, arrlive[key])]))\n",
    "sio.savemat('/project/projectdirs/lux/data/golden/mat/Golden_CH3T_Dec', S)"
   ]
  },
  {
   "cell_type": "markdown",
   "metadata": {},
   "source": [
    "<h2> Run04 WS data </h2>"
   ]
  },
  {
   "cell_type": "code",
   "execution_count": 20,
   "metadata": {
    "collapsed": true
   },
   "outputs": [],
   "source": [
    "arr = root2array('/project/projectdirs/lux/data/golden/root/Golden_Run04/Golden_Run04/*.root','golden')\n",
    "a=list_structures('/project/projectdirs/lux/data/golden/root/Golden_Run04/Golden_Run04_Apr02_2015_r7179.root')\n",
    "S=dict()\n",
    "for (key, value) in a.items():        \n",
    "    S.update(dict([(key, arr[key])]))\n",
    "sio.savemat('/project/projectdirs/lux/data/golden/mat/Golden_Run04', S)"
   ]
  },
  {
   "cell_type": "markdown",
   "metadata": {},
   "source": [
    "<h2> Run03 Cs calibration </h2>"
   ]
  },
  {
   "cell_type": "code",
   "execution_count": 4,
   "metadata": {
    "collapsed": false
   },
   "outputs": [],
   "source": [
    "arr = root2array('/project/projectdirs/lux/data/golden/root/Cs_Run04/Run04_Cs.root','golden')\n",
    "a=list_structures('/project/projectdirs/lux/data/golden/root/Cs_Run04/Run04_Cs.root')\n",
    "S=dict()\n",
    "for (key, value) in a.items():        \n",
    "    S.update(dict([(key, arr[key])]))\n",
    "sio.savemat('/project/projectdirs/lux/data/golden/mat/Golden_Cs137_Run04-2015', S)"
   ]
  },
  {
   "cell_type": "markdown",
   "metadata": {
    "collapsed": true
   },
   "source": [
    "<h1> Run04 WS m-filter data </h1>"
   ]
  },
  {
   "cell_type": "code",
   "execution_count": null,
   "metadata": {
    "collapsed": false
   },
   "outputs": [],
   "source": [
    "arr=root2array('/global/project/projectdirs/lux/data/golden/root/Golden_Run04/outp_R4_1S1_1S2_111015.root','filter')\n",
    "a=list_structures('/global/project/projectdirs/lux/data/golden/root/Golden_Run04/outp_R4_1S1_1S2_111015.root','filter')\n",
    "S=dict()\n",
    "for (key, value) in a.items():        \n",
    "    S.update(dict([(key, arr[key])]))\n",
    "\n",
    "arr=root2array('/global/project/projectdirs/lux/data/golden/root/Golden_Run04/outp_R4_1S1_1S2_111015.root','live')\n",
    "a=list_structures('/global/project/projectdirs/lux/data/golden/root/Golden_Run04/outp_R4_1S1_1S2_111015.root','live')\n",
    "for (key, value) in a.items():        \n",
    "    S.update(dict([(key, arr[key])]))\n",
    "\n",
    "sio.savemat('/project/projectdirs/lux/data/golden/mat/Golden_Run04_M-Filter', S)"
   ]
  }
 ],
 "metadata": {
  "kernelspec": {
   "display_name": "pyrootnb",
   "language": "python",
   "name": "pyrootnb"
  },
  "language_info": {
   "codemirror_mode": {
    "name": "ipython",
    "version": 2
   },
   "file_extension": ".py",
   "mimetype": "text/x-python",
   "name": "python",
   "nbconvert_exporter": "python",
   "pygments_lexer": "ipython2",
   "version": "2.7.10"
  }
 },
 "nbformat": 4,
 "nbformat_minor": 0
}
