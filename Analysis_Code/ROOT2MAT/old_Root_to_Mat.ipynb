{
 "cells": [
  {
   "cell_type": "code",
   "execution_count": 1,
   "metadata": {
    "collapsed": false
   },
   "outputs": [],
   "source": [
    "import sys\n",
    "import os\n",
    "sys.path.insert(2, '/global/project/projectdirs/lux/Tools/root_pdsf/root/lib')\n",
    "from ROOT import TCanvas, TPad, TFile, TPaveText, TChain, TCut, TF1, TH1F, TLine,TLegend,TH2F, TText,TLatex\n",
    "from ROOT import gBenchmark, gStyle, gROOT"
   ]
  },
  {
   "cell_type": "code",
   "execution_count": 56,
   "metadata": {
    "collapsed": false
   },
   "outputs": [
    {
     "data": {
      "text/plain": [
       "9"
      ]
     },
     "execution_count": 56,
     "metadata": {},
     "output_type": "execute_result"
    }
   ],
   "source": [
    "chain1 = TChain('golden')\n",
    "chain1.Add('/project/projectdirs/lux/data/golden/Golden_CH3T_Dec.root ')\n",
    "\n",
    "chain1a = TChain('golden')\n",
    "chain1a.Add('/project/projectdirs/lux/data/golden/Golden_CH3T_Dec.root ')\n",
    "\n",
    "chain2 = TChain('golden')\n",
    "chain2.Add('/project/projectdirs/lux/data/golden/Golden_CH3T_Aug.root ')\n",
    "\n",
    "chain2a = TChain('golden')\n",
    "chain2a.Add('/project/projectdirs/lux/data/golden/Golden_CH3T_Aug.root ')\n",
    "\n",
    "chain3 = TChain('golden')\n",
    "chain3.Add('/project/projectdirs/lux/users/acurrie/Run3_DP2.0/*.root')"
   ]
  },
  {
   "cell_type": "code",
   "execution_count": 8,
   "metadata": {
    "collapsed": false
   },
   "outputs": [
    {
     "data": {
      "text/plain": [
       "1"
      ]
     },
     "execution_count": 8,
     "metadata": {},
     "output_type": "execute_result"
    }
   ],
   "source": [
    "chain_sim= TChain('golden')\n",
    "chain_sim.Add('/project/projectdirs/lux/data/golden/Golden_CH3T_SIM_cp17091.root')\n",
    "\n",
    "chain_sim2= TChain('golden')\n",
    "chain_sim2.Add('/project/projectdirs/lux/data/golden/Golden_CH3T_SIM_cp17091.root')"
   ]
  },
  {
   "cell_type": "code",
   "execution_count": 4,
   "metadata": {
    "collapsed": true
   },
   "outputs": [],
   "source": [
    "import rootnotes\n",
    "from numpy import *\n",
    "import scipy\n",
    "import pylab\n",
    "from dateutil import parser\n",
    "from matplotlib import pyplot as plt\n",
    "import matplotlib.dates as md\n",
    "import scipy.io as sio\n",
    "\n",
    "import sys\n",
    "sys.path.insert(2, '//global/project/projectdirs/lux/data')\n",
    "import aLib"
   ]
  },
  {
   "cell_type": "code",
   "execution_count": 6,
   "metadata": {
    "collapsed": false
   },
   "outputs": [
    {
     "name": "stdout",
     "output_type": "stream",
     "text": [
      "Populating the interactive namespace from numpy and matplotlib\n"
     ]
    },
    {
     "name": "stderr",
     "output_type": "stream",
     "text": [
      "WARNING: pylab import has clobbered these variables: ['pylab']\n",
      "`%matplotlib` prevents importing * from pylab and numpy\n"
     ]
    }
   ],
   "source": [
    "from matplotlib import pyplot as plt\n",
    "%pylab inline  \n",
    "#always do this for plotting...  don't ask why\n",
    "#now set the size of figures to display in window\n",
    "pylab.rcParams['figure.figsize'] = (10, 8) # set size of figures"
   ]
  },
  {
   "cell_type": "code",
   "execution_count": 10,
   "metadata": {
    "collapsed": true
   },
   "outputs": [],
   "source": [
    "g1=0.1167\n",
    "g2=12.05\n",
    "\n",
    "g1DD=g1*0.982\n",
    "g2DD=g2*0.954\n"
   ]
  },
  {
   "cell_type": "markdown",
   "metadata": {},
   "source": [
    "<h1> Save the December tritium data with WS cuts </h1>"
   ]
  },
  {
   "cell_type": "code",
   "execution_count": 11,
   "metadata": {
    "collapsed": false
   },
   "outputs": [],
   "source": [
    "c1 = rootnotes.default_canvas(name='icanvas1', size=(800, 600))"
   ]
  },
  {
   "cell_type": "code",
   "execution_count": 62,
   "metadata": {
    "collapsed": false
   },
   "outputs": [],
   "source": [
    "fid_vol=TCut('drift>35 && drift<308 && correctedRadius<20')\n",
    "area_cut=TCut('s1area>0 && s1area<150 && s2area_raw>150 && s2area>100 && s2area<10**4')\n",
    "bad_area_cut=TCut('((goodArea<=630 && badArea < 80) || (goodArea>630 && badArea < 80+0.095*(goodArea-630)))')\n",
    "exclusion_cut=TCut('partner==0 && excluded==0 ')\n",
    "combined_cut=TCut(fid_vol.GetTitle() + '&&'+ area_cut.GetTitle() + '&&' + bad_area_cut.GetTitle() + '&&' + exclusion_cut.GetTitle() );\n",
    "\n",
    "#density_plt_hst=TH1F('density_plt_hst','WS;E_com',40,0,10)\n",
    "#density_plt_hst2.SetOption(\"E\")\n",
    "\n",
    "n=chain1.Draw('spikyS1:s2area:s1area:luxstamp',combined_cut) \n",
    "\n",
    "spikyS1 = ndarray((n,),dtype= float64, buffer=chain1.GetV1())\n",
    "s2area = ndarray((n,),dtype= float64, buffer=chain1.GetV2())\n",
    "s1area = ndarray((n,),dtype= float64, buffer=chain1.GetV3())\n",
    "luxstamp = ndarray((n,),dtype= float64, buffer=chain1.GetV4())\n",
    "\n",
    "\n",
    "n=chain1a.Draw('s1area_raw:s2area_raw:corrected_x:corrected_y',combined_cut) \n",
    "\n",
    "s1area_raw = ndarray((n,),dtype= float64, buffer=chain1a.GetV1())\n",
    "s2area_raw = ndarray((n,),dtype= float64, buffer=chain1a.GetV2())\n",
    "x_corr = ndarray((n,),dtype= float64, buffer=chain1a.GetV3())\n",
    "y_corr = ndarray((n,),dtype= float64, buffer=chain1a.GetV4())\n"
   ]
  },
  {
   "cell_type": "code",
   "execution_count": 73,
   "metadata": {
    "collapsed": false
   },
   "outputs": [],
   "source": [
    "S= dict([('spikyS1', spikyS1), ('s2area', s2area), ('s1area',s1area),\n",
    "         ('luxstamp', luxstamp), ('s1area_raw', s1area_raw), ('s2area_raw',s2area_raw),\n",
    "        ('x_corr', x_corr), ('y_corr', y_corr)])"
   ]
  },
  {
   "cell_type": "code",
   "execution_count": 75,
   "metadata": {
    "collapsed": false
   },
   "outputs": [],
   "source": [
    "sio.savemat('Run03_Dec_Golden_CH3T', S)"
   ]
  },
  {
   "cell_type": "markdown",
   "metadata": {},
   "source": [
    "<h1> Save the August Tritium Data </h1>"
   ]
  },
  {
   "cell_type": "code",
   "execution_count": 76,
   "metadata": {
    "collapsed": true
   },
   "outputs": [],
   "source": [
    "n=chain2.Draw('spikyS1:s2area:s1area:luxstamp',combined_cut) \n",
    "\n",
    "spikyS1 = ndarray((n,),dtype= float64, buffer=chain2.GetV1())\n",
    "s2area = ndarray((n,),dtype= float64, buffer=chain2.GetV2())\n",
    "s1area = ndarray((n,),dtype= float64, buffer=chain2.GetV3())\n",
    "luxstamp = ndarray((n,),dtype= float64, buffer=chain2.GetV4())\n",
    "\n",
    "\n",
    "n=chain2a.Draw('s1area_raw:s2area_raw:corrected_x:corrected_y',combined_cut) \n",
    "\n",
    "s1area_raw = ndarray((n,),dtype= float64, buffer=chain2a.GetV1())\n",
    "s2area_raw = ndarray((n,),dtype= float64, buffer=chain2a.GetV2())\n",
    "x_corr = ndarray((n,),dtype= float64, buffer=chain2a.GetV3())\n",
    "y_corr = ndarray((n,),dtype= float64, buffer=chain2a.GetV4())\n",
    "\n",
    "S_Aug= dict([('spikyS1', spikyS1), ('s2area', s2area), ('s1area',s1area),\n",
    "         ('luxstamp', luxstamp), ('s1area_raw', s1area_raw), ('s2area_raw',s2area_raw),\n",
    "        ('x_corr', x_corr), ('y_corr', y_corr)])"
   ]
  },
  {
   "cell_type": "code",
   "execution_count": 77,
   "metadata": {
    "collapsed": true
   },
   "outputs": [],
   "source": [
    "sio.savemat('Run03_Dec_Golden_CH3T', S_Aug)"
   ]
  },
  {
   "cell_type": "markdown",
   "metadata": {
    "collapsed": true
   },
   "source": [
    "<h1> Save Tritium Aug SIM to mat file, after platinum cut </h1>"
   ]
  },
  {
   "cell_type": "code",
   "execution_count": 9,
   "metadata": {
    "collapsed": false
   },
   "outputs": [],
   "source": [
    "fid_vol=TCut('drift>35 && drift<308 && correctedRadius<20')\n",
    "area_cut=TCut('s1area>0 && s1area<150 && s2area_raw>150 && s2area>100 && s2area<10**4')\n",
    "bad_area_cut=TCut('((goodArea<=630 && badArea < 80) || (goodArea>630 && badArea < 80+0.095*(goodArea-630)))')\n",
    "exclusion_cut=TCut('partner==0 && excluded==0 ')\n",
    "combined_cut=TCut(fid_vol.GetTitle() + '&&'+ area_cut.GetTitle() + '&&' + bad_area_cut.GetTitle() + '&&' + exclusion_cut.GetTitle() );\n",
    "\n",
    "\n",
    "n=chain_sim.Draw('spikyS1:s2area:s1area:luxstamp',combined_cut) \n",
    "\n",
    "spikyS1 = ndarray((n,),dtype= float64, buffer=chain_sim.GetV1())\n",
    "s2area = ndarray((n,),dtype= float64, buffer=chain_sim.GetV2())\n",
    "s1area = ndarray((n,),dtype= float64, buffer=chain_sim.GetV3())\n",
    "luxstamp = ndarray((n,),dtype= float64, buffer=chain_sim.GetV4())\n",
    "\n",
    "\n",
    "n=chain_sim2.Draw('s1area_raw:s2area_raw:corrected_x:corrected_y',combined_cut) \n",
    "\n",
    "s1area_raw = ndarray((n,),dtype= float64, buffer=chain_sim2.GetV1())\n",
    "s2area_raw = ndarray((n,),dtype= float64, buffer=chain_sim2.GetV2())\n",
    "x_corr = ndarray((n,),dtype= float64, buffer=chain_sim2.GetV3())\n",
    "y_corr = ndarray((n,),dtype= float64, buffer=chain_sim2.GetV4())\n",
    "\n",
    "S_Sim= dict([('spikyS1', spikyS1), ('s2area', s2area), ('s1area',s1area),\n",
    "         ('luxstamp', luxstamp), ('s1area_raw', s1area_raw), ('s2area_raw',s2area_raw),\n",
    "        ('x_corr', x_corr), ('y_corr', y_corr)])"
   ]
  },
  {
   "cell_type": "code",
   "execution_count": 12,
   "metadata": {
    "collapsed": true
   },
   "outputs": [],
   "source": [
    "sio.savemat('CH3T_Aug_PlatinumSim_cp17091', S_Sim)"
   ]
  },
  {
   "cell_type": "code",
   "execution_count": 10,
   "metadata": {
    "collapsed": false
   },
   "outputs": [
    {
     "data": {
      "text/plain": [
       "2464.5668736308558"
      ]
     },
     "execution_count": 10,
     "metadata": {},
     "output_type": "execute_result"
    }
   ],
   "source": [
    "mean(s2area)"
   ]
  },
  {
   "cell_type": "code",
   "execution_count": null,
   "metadata": {
    "collapsed": true
   },
   "outputs": [],
   "source": []
  }
 ],
 "metadata": {
  "kernelspec": {
   "display_name": "pyrootnb",
   "language": "python",
   "name": "pyrootnb"
  },
  "language_info": {
   "codemirror_mode": {
    "name": "ipython",
    "version": 2
   },
   "file_extension": ".py",
   "mimetype": "text/x-python",
   "name": "python",
   "nbconvert_exporter": "python",
   "pygments_lexer": "ipython2",
   "version": "2.7.10"
  }
 },
 "nbformat": 4,
 "nbformat_minor": 0
}
