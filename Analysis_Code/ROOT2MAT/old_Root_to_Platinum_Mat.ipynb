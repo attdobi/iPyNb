{
 "cells": [
  {
   "cell_type": "code",
   "execution_count": 1,
   "metadata": {
    "collapsed": false
   },
   "outputs": [],
   "source": [
    "import sys\n",
    "sys.path.insert(2,'/global/project/projectdirs/lux/Tools/root_pdsf/root/lib')\n",
    "sys.path.insert(2,'/global/project/projectdirs/lux/Tools/anaconda/lib/python2.7/site-packages')\n",
    "from ROOT import TCanvas, TPad, TFile, TPaveText, TChain, TCut, TF1, TH1F, TLine,TLegend,TH2F, TText,TLatex, TTree\n",
    "from ROOT import gBenchmark, gStyle, gROOT, gSystem, gROOT\n",
    "from root_numpy import root2array, root2rec, tree2rec, list_structures\n",
    "import scipy.io as sio\n",
    "import root_numpy"
   ]
  },
  {
   "cell_type": "code",
   "execution_count": null,
   "metadata": {
    "collapsed": false
   },
   "outputs": [],
   "source": [
    "import rootnotes\n",
    "from numpy import *\n",
    "import scipy\n",
    "import pylab\n",
    "from dateutil import parser\n",
    "from matplotlib import pyplot as plt\n",
    "import matplotlib.dates as md\n",
    "import scipy.io as sio\n",
    "\n",
    "import sys\n",
    "sys.path.insert(2, '//global/project/projectdirs/lux/data')\n",
    "import aLib\n",
    "\n",
    "from __future__ import division\n",
    "\n",
    "from matplotlib import pyplot as plt\n",
    "%pylab inline  \n",
    "#always do this for plotting...  don't ask why\n",
    "#now set the size of figures to display in window\n",
    "pylab.rcParams['figure.figsize'] = (10, 8) # set size of figures"
   ]
  },
  {
   "cell_type": "code",
   "execution_count": 2,
   "metadata": {
    "collapsed": false
   },
   "outputs": [
    {
     "data": {
      "text/plain": [
       "9"
      ]
     },
     "execution_count": 2,
     "metadata": {},
     "output_type": "execute_result"
    }
   ],
   "source": [
    "chain1 = TChain('golden')\n",
    "chain1.Add('/project/projectdirs/lux/data/golden/Alex/Golden_CH3T_Dec.root ')\n",
    "\n",
    "chain2 = TChain('golden')\n",
    "chain2.Add('/project/projectdirs/lux/data/golden/Alex/Golden_CH3T_Aug.root ')\n",
    "\n",
    "chain = TChain('golden')\n",
    "chain.Add('/project/projectdirs/lux/data/golden/Golden_Run03/Golden_150303_WS*.root')"
   ]
  },
  {
   "cell_type": "markdown",
   "metadata": {},
   "source": [
    "<h1> Example, go straight into a numpy array.... dictionary structure </h1>"
   ]
  },
  {
   "cell_type": "code",
   "execution_count": 3,
   "metadata": {
    "collapsed": false
   },
   "outputs": [],
   "source": [
    "arr = root2array('/project/projectdirs/lux/data/golden/Alex/Golden_CH3T_Dec.root','golden')"
   ]
  },
  {
   "cell_type": "code",
   "execution_count": 119,
   "metadata": {
    "collapsed": false
   },
   "outputs": [
    {
     "data": {
      "text/plain": [
       "9343734384065274"
      ]
     },
     "execution_count": 119,
     "metadata": {},
     "output_type": "execute_result"
    }
   ],
   "source": [
    "arr['luxstamp'][2]"
   ]
  },
  {
   "cell_type": "markdown",
   "metadata": {},
   "source": [
    "<h1> Save the December tritium data with WS cuts </h1>"
   ]
  },
  {
   "cell_type": "code",
   "execution_count": 4,
   "metadata": {
    "collapsed": false
   },
   "outputs": [],
   "source": [
    "fid_vol=TCut('drift>35 && drift<308 && correctedRadius<20')\n",
    "area_cut=TCut('s1area>0 && s1area<150 && s2area_raw>150 && s2area>100 && s2area<2*10**4')\n",
    "bad_area_cut=TCut('((goodArea<=630 && badArea < 80) || (goodArea>630 && badArea < 80+0.095*(goodArea-630)))')\n",
    "exclusion_cut=TCut('partner==0 && excluded==0 ')\n",
    "close2End_cut=TCut('close2End==0')\n",
    "combined_cut=TCut(fid_vol.GetTitle() + '&&'+ area_cut.GetTitle() + '&&' + bad_area_cut.GetTitle() + '&&' + exclusion_cut.GetTitle() \n",
    "                 + '&&' + close2End_cut.GetTitle() )\n",
    "\n",
    "# Old way, fails for LUX stamps\n",
    "#n=chain1.Draw('spikyS1:s2area:s1area:luxstamp',combined_cut) \n",
    "#spikyS1 = ndarray((n,),dtype= float64, buffer=chain1.GetV1())\n",
    "#s2area = ndarray((n,),dtype= float64, buffer=chain1.GetV2())\n",
    "#s1area = ndarray((n,),dtype= float64, buffer=chain1.GetV3())\n",
    "#luxstamp = ndarray((n,),dtype=float64, buffer=chain1.GetV4())\n",
    "\n",
    "spikyS1 = tree2rec(chain1,'spikyS1',selection=combined_cut.GetTitle())\n",
    "s2area = tree2rec(chain1,'s2area',selection=combined_cut.GetTitle())\n",
    "s1area = tree2rec(chain1,'s1area',selection=combined_cut.GetTitle())\n",
    "luxstamp = tree2rec(chain1,'luxstamp',selection=combined_cut.GetTitle())\n",
    "s1area_raw = tree2rec(chain1,'s1area_raw',selection=combined_cut.GetTitle())\n",
    "s2area_raw = tree2rec(chain1,'s2area_raw',selection=combined_cut.GetTitle())\n",
    "x_corr = tree2rec(chain1,'corrected_x',selection=combined_cut.GetTitle())\n",
    "y_corr = tree2rec(chain1,'corrected_y',selection=combined_cut.GetTitle())\n",
    "drift = tree2rec(chain1,'drift',selection=combined_cut.GetTitle())\n",
    "#close2End = tree2rec(chain1,'close2End',selection=combined_cut.GetTitle())"
   ]
  },
  {
   "cell_type": "code",
   "execution_count": 6,
   "metadata": {
    "collapsed": false
   },
   "outputs": [],
   "source": [
    "S= dict([('spikyS1', spikyS1), ('s2area', s2area), ('s1area',s1area),\n",
    "        ('luxstamp', luxstamp), ('s1area_raw', s1area_raw), ('s2area_raw',s2area_raw),\n",
    "        ('x_corr', x_corr), ('y_corr', y_corr), ('drift', drift)])\n",
    "\n",
    "sio.savemat('Run03_Dec_Golden_CH3T', S)"
   ]
  },
  {
   "cell_type": "markdown",
   "metadata": {},
   "source": [
    "<h1> Save the August Tritium Data </h1>"
   ]
  },
  {
   "cell_type": "code",
   "execution_count": 7,
   "metadata": {
    "collapsed": false
   },
   "outputs": [],
   "source": [
    "#n=chain2.Draw('spikyS1:s2area:s1area:luxstamp',combined_cut) \n",
    "\n",
    "spikyS1 = tree2rec(chain2,'spikyS1',selection=combined_cut.GetTitle())\n",
    "s2area = tree2rec(chain2,'s2area',selection=combined_cut.GetTitle())\n",
    "s1area = tree2rec(chain2,'s1area',selection=combined_cut.GetTitle())\n",
    "luxstamp = tree2rec(chain2,'luxstamp',selection=combined_cut.GetTitle())\n",
    "s1area_raw = tree2rec(chain2,'s1area_raw',selection=combined_cut.GetTitle())\n",
    "s2area_raw = tree2rec(chain2,'s2area_raw',selection=combined_cut.GetTitle())\n",
    "x_corr = tree2rec(chain2,'corrected_x',selection=combined_cut.GetTitle())\n",
    "y_corr = tree2rec(chain2,'corrected_y',selection=combined_cut.GetTitle())\n",
    "drift = tree2rec(chain2,'drift',selection=combined_cut.GetTitle())\n",
    "\n",
    "\n",
    "S_Aug= dict([('spikyS1', spikyS1), ('s2area', s2area), ('s1area',s1area),\n",
    "         ('luxstamp', luxstamp), ('s1area_raw', s1area_raw), ('s2area_raw',s2area_raw),\n",
    "        ('x_corr', x_corr), ('y_corr', y_corr), ('drift', drift)])\n",
    "\n",
    "sio.savemat('Run03_Aug_Golden_CH3T', S_Aug)"
   ]
  },
  {
   "cell_type": "code",
   "execution_count": 23,
   "metadata": {
    "collapsed": true
   },
   "outputs": [],
   "source": []
  },
  {
   "cell_type": "markdown",
   "metadata": {
    "collapsed": true
   },
   "source": [
    "<h1> Save WS data </h1>"
   ]
  },
  {
   "cell_type": "code",
   "execution_count": 8,
   "metadata": {
    "collapsed": true
   },
   "outputs": [],
   "source": [
    "#n=chain3.Draw('spikyS1:s2area:s1area:luxstamp',combined_cut) \n",
    "\n",
    "spikyS1 = tree2rec(chain3,'spikyS1',selection=combined_cut.GetTitle())\n",
    "s2area = tree2rec(chain3,'s2area',selection=combined_cut.GetTitle())\n",
    "s1area = tree2rec(chain3,'s1area',selection=combined_cut.GetTitle())\n",
    "luxstamp = tree2rec(chain3,'luxstamp',selection=combined_cut.GetTitle())\n",
    "s1area_raw = tree2rec(chain3,'s1area_raw',selection=combined_cut.GetTitle())\n",
    "s2area_raw = tree2rec(chain3,'s2area_raw',selection=combined_cut.GetTitle())\n",
    "x_corr = tree2rec(chain3,'corrected_x',selection=combined_cut.GetTitle())\n",
    "y_corr = tree2rec(chain3,'corrected_y',selection=combined_cut.GetTitle())\n",
    "drift = tree2rec(chain3,'drift',selection=combined_cut.GetTitle())\n",
    "\n",
    "S_WS= dict([('spikyS1', spikyS1), ('s2area', s2area), ('s1area',s1area),\n",
    "         ('luxstamp', luxstamp), ('s1area_raw', s1area_raw), ('s2area_raw',s2area_raw),\n",
    "        ('x_corr', x_corr), ('y_corr', y_corr), ('drift', drift)])\n",
    "\n",
    "sio.savemat('Run03_WS', S_WS)"
   ]
  },
  {
   "cell_type": "code",
   "execution_count": 11,
   "metadata": {
    "collapsed": false
   },
   "outputs": [
    {
     "data": {
      "text/plain": [
       "rec.array([9343949691992668, 9343950128426137, 9343951764043658,\n",
       "       9343952077398676, 9343952377338166, 9343952573557070,\n",
       "       9343953405976346, 9343953605216896, 9343953809416692], dtype=uint64)"
      ]
     },
     "execution_count": 11,
     "metadata": {},
     "output_type": "execute_result"
    }
   ],
   "source": [
    "luxstamp[0:9]"
   ]
  },
  {
   "cell_type": "code",
   "execution_count": null,
   "metadata": {
    "collapsed": true
   },
   "outputs": [],
   "source": []
  }
 ],
 "metadata": {
  "kernelspec": {
   "display_name": "pyrootnb",
   "language": "python",
   "name": "pyrootnb"
  },
  "language_info": {
   "codemirror_mode": {
    "name": "ipython",
    "version": 2
   },
   "file_extension": ".py",
   "mimetype": "text/x-python",
   "name": "python",
   "nbconvert_exporter": "python",
   "pygments_lexer": "ipython2",
   "version": "2.7.10"
  }
 },
 "nbformat": 4,
 "nbformat_minor": 0
}
