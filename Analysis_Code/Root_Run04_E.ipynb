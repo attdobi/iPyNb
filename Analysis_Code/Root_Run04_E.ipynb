{
 "cells": [
  {
   "cell_type": "code",
   "execution_count": 1,
   "metadata": {
    "collapsed": false
   },
   "outputs": [],
   "source": [
    "import sys\n",
    "import os\n",
    "sys.path.insert(2, '/global/project/projectdirs/lux/Tools/root_pdsf/root/lib')\n",
    "from ROOT import TCanvas, TPad, TFile, TPaveText, TChain, TCut, TF1, TH1F, TH2F, TCutG, TText, TLatex, TLine\n",
    "from ROOT import gBenchmark, gStyle, gROOT, TBrowser"
   ]
  },
  {
   "cell_type": "code",
   "execution_count": 2,
   "metadata": {
    "collapsed": false
   },
   "outputs": [],
   "source": [
    "import rootnotes_nersc\n",
    "from rootnotes_nersc import rtshow, clearCanvas, ShowBranches\n",
    "import rootnotes\n",
    "from numpy import *\n",
    "import scipy\n",
    "import pylab\n",
    "import matplotlib.pyplot as plt # plotting libraries from matlab\n",
    "from scipy.stats import multivariate_normal\n",
    "from dateutil import parser\n",
    "from matplotlib import pyplot as plt\n",
    "import matplotlib.dates as md"
   ]
  },
  {
   "cell_type": "code",
   "execution_count": 3,
   "metadata": {
    "collapsed": false
   },
   "outputs": [
    {
     "name": "stdout",
     "output_type": "stream",
     "text": [
      "Populating the interactive namespace from numpy and matplotlib\n"
     ]
    },
    {
     "name": "stderr",
     "output_type": "stream",
     "text": [
      "WARNING: pylab import has clobbered these variables: ['pylab', 'multivariate_normal']\n",
      "`%matplotlib` prevents importing * from pylab and numpy\n"
     ]
    }
   ],
   "source": [
    "%pylab inline  \n",
    "#always do this for plotting...  don't ask why\n",
    "#now set the size of figures to display in window\n",
    "pylab.rcParams['figure.figsize'] = (10.0, 8.0) # set size of figures"
   ]
  },
  {
   "cell_type": "code",
   "execution_count": 4,
   "metadata": {
    "collapsed": true
   },
   "outputs": [],
   "source": [
    "import sys\n",
    "sys.path.insert(2, '//global/project/projectdirs/lux/data')\n",
    "import aLib"
   ]
  },
  {
   "cell_type": "code",
   "execution_count": 6,
   "metadata": {
    "collapsed": true
   },
   "outputs": [],
   "source": [
    "g1=0.1167\n",
    "g2=12.05\n",
    "\n",
    "g1=0.1167\n",
    "g2=15\n",
    "\n",
    "g1DD=g1*0.982\n",
    "g2DD=g2*0.954"
   ]
  },
  {
   "cell_type": "markdown",
   "metadata": {},
   "source": [
    "<h1> 2D Normal fitting  </h1>"
   ]
  },
  {
   "cell_type": "code",
   "execution_count": 7,
   "metadata": {
    "collapsed": true
   },
   "outputs": [],
   "source": [
    "import scipy.optimize as opt\n",
    "import numpy as np\n",
    "\n",
    "def twoD_Gaussian((x, y), amplitude, xo, yo, sigma_x, sigma_y, theta, offset):\n",
    "    xo = float(xo)\n",
    "    yo = float(yo)    \n",
    "    a = (np.cos(theta)**2)/(2*sigma_x**2) + (np.sin(theta)**2)/(2*sigma_y**2)\n",
    "    b = -(np.sin(2*theta))/(4*sigma_x**2) + (np.sin(2*theta))/(4*sigma_y**2)\n",
    "    c = (np.sin(theta)**2)/(2*sigma_x**2) + (np.cos(theta)**2)/(2*sigma_y**2)\n",
    "    g = offset + amplitude*np.exp( - (a*((x-xo)**2) + 2*b*(x-xo)*(y-yo) \n",
    "                            + c*((y-yo)**2)))\n",
    "    return g.ravel()"
   ]
  },
  {
   "cell_type": "code",
   "execution_count": 8,
   "metadata": {
    "collapsed": true
   },
   "outputs": [],
   "source": [
    "#c1 = rootnotes.default_canvas(size=(400,300)) # use TCanvas\n",
    "#c1.SetGridx()\n",
    "#c1.SetGridy()"
   ]
  },
  {
   "cell_type": "markdown",
   "metadata": {},
   "source": [
    "<h1> Load in all the LUX Run03 WIMP Search Data </h1>"
   ]
  },
  {
   "cell_type": "code",
   "execution_count": 5,
   "metadata": {
    "collapsed": false
   },
   "outputs": [
    {
     "data": {
      "text/plain": [
       "1"
      ]
     },
     "execution_count": 5,
     "metadata": {},
     "output_type": "execute_result"
    }
   ],
   "source": [
    "'''\n",
    "chain6 = TChain('golden')\n",
    "chain5.Add('/project/projectdirs/lux/data/golden/Golden_CH3T_*.root')\n",
    "\n",
    "chain5 = TChain('golden')\n",
    "chain4.Add('/project/projectdirs/lux/data/golden/Golden_DD_*.root')\n",
    "\n",
    "chain4 = TChain('golden')\n",
    "chain3.Add('/project/projectdirs/lux/data/golden/Golden_Cs137_Aug.root')\n",
    "\n",
    "chain3 = TChain('golden')\n",
    "chain2.Add('/project/projectdirs/lux/data/golden/Golden_XeAct/*.root')\n",
    "\n",
    "chain2 = TChain('golden')\n",
    "chain.Add('/project/projectdirs/lux/users/acurrie/Run3_DP2.0/*.root')\n",
    "\n",
    "chain = TChain('golden')\n",
    "chain.Add('/project/projectdirs/lux/data/golden/Golden_Run04/*.root')\n",
    "\n",
    "'''\n",
    "\n",
    "chain = TChain('golden')\n",
    "chain.Add('/project/projectdirs/lux/data/golden/Run04_Cs.root')"
   ]
  },
  {
   "cell_type": "code",
   "execution_count": 6,
   "metadata": {
    "collapsed": false
   },
   "outputs": [
    {
     "name": "stdout",
     "output_type": "stream",
     "text": [
      "<ROOT.TBranch object (\"s1\") at 0x3abac50>\n",
      "<ROOT.TBranch object (\"s2\") at 0x3acd070>\n",
      "<ROOT.TBranch object (\"luxstamp\") at 0x3acd560>\n",
      "<ROOT.TBranch object (\"s1area_raw\") at 0x3acf3d0>\n",
      "<ROOT.TBranch object (\"s1area\") at 0x3ad0e90>\n",
      "<ROOT.TBranch object (\"s2area_raw\") at 0x3ad1380>\n",
      "<ROOT.TBranch object (\"s2area\") at 0x3ad18a0>\n",
      "<ROOT.TBranch object (\"s2area_bot\") at 0x3ad1dc0>\n",
      "<ROOT.TBranch object (\"s2_rec_cor\") at 0x3ad2300>\n",
      "<ROOT.TBranch object (\"goodArea\") at 0x3ad2840>\n",
      "<ROOT.TBranch object (\"badArea\") at 0x3ad2d80>\n",
      "<ROOT.TBranch object (\"spikyS1\") at 0x3ad32c0>\n",
      "<ROOT.TBranch object (\"spikyS1_raw\") at 0x3ad3800>\n",
      "<ROOT.TBranch object (\"spikyS2\") at 0x3ad3d40>\n",
      "<ROOT.TBranch object (\"spikyS2_raw\") at 0x3ad4280>\n",
      "<ROOT.TBranch object (\"drift\") at 0x3ad47c0>\n",
      "<ROOT.TBranch object (\"x\") at 0x3ad4d00>\n",
      "<ROOT.TBranch object (\"y\") at 0x3ad5240>\n",
      "<ROOT.TBranch object (\"radius\") at 0x3ad5780>\n",
      "<ROOT.TBranch object (\"corrected_x\") at 0x3ad5cc0>\n",
      "<ROOT.TBranch object (\"corrected_y\") at 0x3ad6200>\n",
      "<ROOT.TBranch object (\"correctedRadius\") at 0x3ad6740>\n",
      "<ROOT.TBranch object (\"q2\") at 0x3ad6d10>\n",
      "<ROOT.TBranch object (\"dof\") at 0x3ad7250>\n",
      "<ROOT.TBranch object (\"sd_Rsup\") at 0x3ad8eb0>\n",
      "<ROOT.TBranch object (\"sd_Rinf\") at 0x3ad93a0>\n",
      "<ROOT.TBranch object (\"sdPhi\") at 0x3ad98c0>\n",
      "<ROOT.TBranch object (\"taxy_x\") at 0x3ad9de0>\n",
      "<ROOT.TBranch object (\"taxy_y\") at 0x3ada320>\n",
      "<ROOT.TBranch object (\"taxy_radius\") at 0x3ada860>\n",
      "<ROOT.TBranch object (\"taxy_x_cor\") at 0x3adada0>\n",
      "<ROOT.TBranch object (\"taxy_y_cor\") at 0x3adb2e0>\n",
      "<ROOT.TBranch object (\"taxy_correctedRadius\") at 0x3adb820>\n",
      "<ROOT.TBranch object (\"taxy_xy_sigma\") at 0x3adbe20>\n",
      "<ROOT.TBranch object (\"elife_correction\") at 0x3adc380>\n",
      "<ROOT.TBranch object (\"s1xyz_correction\") at 0x3adc980>\n",
      "<ROOT.TBranch object (\"s2xy_correction\") at 0x3adcf80>\n",
      "<ROOT.TBranch object (\"tb_asymmetry\") at 0x3add550>\n",
      "<ROOT.TBranch object (\"s1pf\") at 0x3adda90>\n",
      "<ROOT.TBranch object (\"s2pf\") at 0x3addfd0>\n",
      "<ROOT.TBranch object (\"s1eFitTauFall\") at 0x3ade510>\n",
      "<ROOT.TBranch object (\"s2eFitTauFall\") at 0x3adea70>\n",
      "<ROOT.TBranch object (\"close2End\") at 0x3adefd0>\n",
      "<ROOT.TBranch object (\"partner\") at 0x3adf510>\n",
      "<ROOT.TBranch object (\"se_before_s1\") at 0x3adfa50>\n"
     ]
    }
   ],
   "source": [
    "ShowBranches(chain)"
   ]
  },
  {
   "cell_type": "markdown",
   "metadata": {},
   "source": [
    "<h1> Define the S1 and S2 cuts to seperate the islands of energy (see later plots) </h1>"
   ]
  },
  {
   "cell_type": "code",
   "execution_count": 9,
   "metadata": {
    "collapsed": false
   },
   "outputs": [],
   "source": [
    "Energies=[2.8]\n",
    "NamesE=[\"2.8 keV, 5.2 keV X-ray, 41.55 keV\"]\n",
    "cutsE=array([[1.8, 3.5],\n",
    "           [3.8,6.5],[35,50]])\n",
    "\n",
    "\n",
    "mean_s2=zeros(len(Energies))\n",
    "mean_s2_sig=zeros(len(Energies))\n",
    "mean_s1=zeros(len(Energies))\n",
    "mean_s1_sig=zeros(len(Energies))"
   ]
  },
  {
   "cell_type": "markdown",
   "metadata": {},
   "source": [
    "<h1> 2.8 and 5.2 keV lines in the WS data </h1>"
   ]
  },
  {
   "cell_type": "markdown",
   "metadata": {},
   "source": [
    "<h3> First plot the WS data, with 3 sigma ER band as per the tiritum calibration </h3>"
   ]
  },
  {
   "cell_type": "code",
   "execution_count": 118,
   "metadata": {
    "collapsed": true
   },
   "outputs": [],
   "source": [
    "c1.Clear()"
   ]
  },
  {
   "cell_type": "code",
   "execution_count": 119,
   "metadata": {
    "collapsed": true
   },
   "outputs": [],
   "source": [
    "c1 = rootnotes.default_canvas(name='icanvas7', size=(800, 600))"
   ]
  },
  {
   "cell_type": "code",
   "execution_count": 122,
   "metadata": {
    "collapsed": false
   },
   "outputs": [
    {
     "name": "stderr",
     "output_type": "stream",
     "text": [
      "TROOT::Append:0: RuntimeWarning: Replacing existing TH1: density_plt_hst (Potential memory leak).\n"
     ]
    },
    {
     "data": {
      "image/png": "[encoded data removed]",
      "text/plain": [
       "<ROOT.TCanvas object (\"icanvas7\") at 0x5d7d0a0>"
      ]
     },
     "execution_count": 122,
     "metadata": {},
     "output_type": "execute_result"
    }
   ],
   "source": [
    "#95% ER bounds from tritium\n",
    "\n",
    "au = 3.15  #use 3.10 for 2 sigma bounds #90% 3.007\n",
    "bu = -0.1158 \n",
    "    \n",
    "al = 2.9; # use 2.592 #90% 2.682\n",
    "bl =-0.1197;\n",
    "\n",
    "er_cut_l=TCut('log10(s2area/spikyS1)>{:g}*spikyS1^{:g}'.format(al,bl))\n",
    "er_cut_u=TCut('log10(s2area/spikyS1)<{:g}*spikyS1^{:g}'.format(au,bu))\n",
    "\n",
    "\n",
    "fid_vol=TCut('drift>30 && drift<90 && radius<20 && luxstamp/10**15>12.5')\n",
    "area_cut=TCut('spikyS1>0 && s1area<100 && spikyS1<100 && s2area_raw>150 && s2area>100 && s2area<10**5')\n",
    "bad_area_cut=TCut('((goodArea<=630 && badArea < 80) || (goodArea>630 && badArea < 80+0.095*(goodArea-630)))')\n",
    "combined_cut=TCut(fid_vol.GetTitle() + '&&'+ area_cut.GetTitle() + '&&' + bad_area_cut.GetTitle()); # + '&&' + er_cut_l.GetTitle() + '&&' + er_cut_u.GetTitle() \n",
    "\n",
    "density_plt_hst=TH2F('density_plt_hst','Run04 WS;spikyS1;log10(s2area/spikyS1)',50,0,50,50,1,3)\n",
    "#density_plt_hst=TH2F('density_plt_hst','Run04 WS;spikyS1;s2area)',30,0,50,30,800,5000)\n",
    "\n",
    "#chain2.SetMarkerStyle(6)\n",
    "#chain2.SetMarkerSize(10)\n",
    "n=chain.Draw('log10(s2area/spikyS1):spikyS1>>density_plt_hst',combined_cut,'colz') # WS is chain, chain2 is XeAct, chain3 is Cs137, 4 is DD\n",
    "#n=chain.Draw('s2area:spikyS1>>density_plt_hst',combined_cut,'colz') # WS is chain, chain2 is XeAct, chain3 is Cs137, 4 is DD\n",
    "\n",
    "\n",
    "\n",
    "fun1 = TF1( 'fun1', '{:g}*x^{:g}'.format(al,bl), 0, 50)\n",
    "fun2 = TF1( 'fun1', '{:g}*x^{:g}'.format(au,bu), 0, 50)\n",
    "fun1.Draw('Same')\n",
    "fun2.Draw('Same')\n",
    "\n",
    "c1"
   ]
  },
  {
   "cell_type": "markdown",
   "metadata": {},
   "source": [
    "<h1> Make a cut around 10 hours of each Kr83 calibration </h1>"
   ]
  },
  {
   "cell_type": "code",
   "execution_count": 12,
   "metadata": {
    "collapsed": false
   },
   "outputs": [],
   "source": [
    "Kr_files=array([['lux10_20130422T2031'],\n",
    "       ['lux10_20130424T1406'],\n",
    "       ['lux10_20130424T1740'],\n",
    "       ['lux10_20130425T1047'],\n",
    "       ['lux10_20130426T0951'],\n",
    "       ['lux10_20130426T1019'],\n",
    "       ['lux10_20130429T1433'],\n",
    "       ['lux10_20130429T1447'],\n",
    "       ['lux10_20130501T1508'],\n",
    "       ['lux10_20130503T1457'],\n",
    "       ['lux10_20130506T1328'],\n",
    "       ['lux10_20130510T1250'],\n",
    "       ['lux10_20130510T1607'],\n",
    "       ['lux10_20130510T2008'],\n",
    "       ['lux10_20130511T0014'],\n",
    "       ['lux10_20130513T1438'],\n",
    "       ['lux10_20130517T1508'],\n",
    "       ['lux10_20130517T1542'],\n",
    "       ['lux10_20130517T1810'],\n",
    "       ['lux10_20130520T1444'],\n",
    "       ['lux10_20130520T1504'],\n",
    "       ['lux10_20130520T1742'],\n",
    "       ['lux10_20130520T1758'],\n",
    "       ['lux10_20130520T1909'],\n",
    "       ['lux10_20130524T1503'],\n",
    "       ['lux10_20130524T1537'],\n",
    "       ['lux10_20130524T1829'],\n",
    "       ['lux10_20130528T1304'],\n",
    "       ['lux10_20130528T1546'],\n",
    "       ['lux10_20130529T1517'],\n",
    "       ['lux10_20130529T1547'],\n",
    "       ['lux10_20130529T2003'],\n",
    "       ['lux10_20130531T1403'],\n",
    "       ['lux10_20130531T1421'],\n",
    "       ['lux10_20130604T1421'],\n",
    "       ['lux10_20130604T1737'],\n",
    "       ['lux10_20130604T2137'],\n",
    "       ['lux10_20130604T2334'],\n",
    "       ['lux10_20130607T1512'],\n",
    "       ['lux10_20130610T1518'],\n",
    "       ['lux10_20130614T1623'],\n",
    "       ['lux10_20130617T1457'],\n",
    "       ['lux10_20130621T1533'],\n",
    "       ['lux10_20130626T1028'],\n",
    "       ['lux10_20130626T1517'],\n",
    "       ['lux10_20130628T1444'],\n",
    "       ['lux10_20130701T1451'],\n",
    "       ['lux10_20130701T1646'],\n",
    "       ['lux10_20130701T2257'],\n",
    "       ['lux10_20130705T1530'],\n",
    "       ['lux10_20130709T1009'],\n",
    "       ['lux10_20130709T1811'],\n",
    "       ['lux10_20130712T1427'],\n",
    "       ['lux10_20130712T2232'],\n",
    "       ['lux10_20130717T1424'],\n",
    "       ['lux10_20130717T2212'],\n",
    "       ['lux10_20130720T1045'],\n",
    "       ['lux10_20130720T1908'],\n",
    "       ['lux10_20130723T1452'],\n",
    "       ['lux10_20130723T2205'],\n",
    "       ['lux10_20130726T1224'],\n",
    "       ['lux10_20130726T1431'],\n",
    "       ['lux10_20130726T1819'],\n",
    "       ['lux10_20130727T0000'],\n",
    "       ['lux10_20130729T1004'],\n",
    "       ['lux10_20130729T1752'],\n",
    "       ['lux10_20130729T2337'],\n",
    "       ['lux10_20130807T1035'],\n",
    "       ['lux10_20130807T1403'],\n",
    "       ['lux10_20130807T2233'],\n",
    "       ['lux10_20130812T1530'],\n",
    "       ['lux10_20130812T1546'],\n",
    "       ['lux10_20130812T2259'],\n",
    "       ['lux10_20130813T0652'],\n",
    "       ['lux10_20130823T0953'],\n",
    "       ['lux10_20130823T1717'],\n",
    "       ['lux10_20130823T2119'],\n",
    "       ['lux10_20130829T1005']\n",
    "               ])\n",
    "\n",
    "Kr_file_dates=[]\n",
    "for ii in range(0,Kr_files.size):\n",
    "    Kr_file_dates.append(parser.parse(Kr_files[ii,0][6:]))\n",
    "\n",
    "Kr_file_dates=array(Kr_file_dates)\n",
    "\n",
    "lux_epoch=md.datestr2num('Jan 1st 2011 at 00:00')\n",
    "Kr_lux_stamps=(md.date2num(Kr_file_dates)-lux_epoch)*24*3600*10**8"
   ]
  },
  {
   "cell_type": "code",
   "execution_count": 13,
   "metadata": {
    "collapsed": false
   },
   "outputs": [],
   "source": [
    "start_delay=1*3600*10**8\n",
    "end_delay=24*3600*10**8\n",
    "kr_time_cut_all=TCut('')\n",
    "\n",
    "for ii in range(0,Kr_lux_stamps.size):\n",
    "    kr_time_cut=TCut('(luxstamp>{:.0f} && luxstamp<{:.0f})'.format(Kr_lux_stamps[ii]-start_delay,Kr_lux_stamps[ii]+end_delay))\n",
    "    if ii==0:\n",
    "        kr_time_cut_all=TCut(kr_time_cut.GetTitle());\n",
    "    else:\n",
    "        #kr_time_cut_all=kr_time_cut_all+kr_time_cut\n",
    "        kr_time_cut_all=TCut(kr_time_cut_all.GetTitle() +'||'+ kr_time_cut.GetTitle());"
   ]
  },
  {
   "cell_type": "markdown",
   "metadata": {},
   "source": [
    "<h1> Now histogram the ER events at low energy (around 3 sigma as defined by tritium) </h1>"
   ]
  },
  {
   "cell_type": "code",
   "execution_count": 125,
   "metadata": {
    "collapsed": false
   },
   "outputs": [],
   "source": [
    "c2.Clear()"
   ]
  },
  {
   "cell_type": "code",
   "execution_count": 126,
   "metadata": {
    "collapsed": true
   },
   "outputs": [],
   "source": [
    "c2 = rootnotes.default_canvas(name='icanvas22', size=(800, 600))"
   ]
  },
  {
   "cell_type": "code",
   "execution_count": 137,
   "metadata": {
    "collapsed": false,
    "scrolled": false
   },
   "outputs": [
    {
     "name": "stderr",
     "output_type": "stream",
     "text": [
      "TROOT::Append:0: RuntimeWarning: Replacing existing TH1: density_plt_hst (Potential memory leak).\n"
     ]
    },
    {
     "data": {
      "image/png": "[encoded data removed]",
      "text/plain": [
       "<ROOT.TCanvas object (\"icanvas22\") at 0x574db60>"
      ]
     },
     "execution_count": 137,
     "metadata": {},
     "output_type": "execute_result"
    }
   ],
   "source": [
    "g1=0.11\n",
    "g2=14.3\n",
    "\n",
    "au = 3.2 #use 3.10 for 2 sigma bounds #90% 3.007\n",
    "bu = -0.1158 \n",
    "    \n",
    "al = 2.75; # use 2.592 #90% 2.682\n",
    "bl =-0.1197;\n",
    "\n",
    "er_cut_l=TCut('log10(s2area/spikyS1)>{:g}*spikyS1^{:g}'.format(al,bl))\n",
    "er_cut_u=TCut('log10(s2area/spikyS1)<{:g}*spikyS1^{:g}'.format(au,bu))\n",
    "\n",
    "fid_vol=TCut('drift>30 && drift<90 && radius<23 && luxstamp/10**15<12.5') #add time cut ... 'luxstamp/10**15 ...&& luxstamp/10**15<8.5\n",
    "area_cut=TCut('spikyS1>0 && spikyS1<150 && s1area<150 && s2area_raw>150 && s2area>100 && s2area<10**6') #spikyS1\n",
    "bad_area_cut=TCut('((goodArea<=630 && badArea < 80) || (goodArea>630 && badArea < 80+0.095*(goodArea-630)))')\n",
    "ercut= er_cut_l.GetTitle() + '&&' + er_cut_u.GetTitle()\n",
    "#energy_cut=TCut('1/73*(spikyS1/{:g}+s2area/{:g})'.format(g1,g2)+'<4 &&1/73*(spikyS1/{:g}+s2area/{:g})'.format(g1,g2)+'>1.5' )\n",
    "combined_cut=TCut(fid_vol.GetTitle() + '&&'+ area_cut.GetTitle() + '&&' + bad_area_cut.GetTitle() + '&&' + ercut);\n",
    "\n",
    "density_plt_hst=TH1F('density_plt_hst','WS;E_combined',20,0,10)\n",
    "n=chain.Draw('1/73*(s1area/{:g}+s2area/{:g})>>density_plt_hst'.format(g1,g2),combined_cut) # WS is chain2 #  Cs is chain3\n",
    "density_plt_hst.SetOption(\"EH\")\n",
    "\n",
    "aline=[]\n",
    "Energies=[1.1,2.8,5.2] \n",
    "\n",
    "for ii, En in enumerate(Energies):\n",
    "    aline.append(TLine(En,0,En,360))\n",
    "    aline[ii].SetLineStyle(2)\n",
    "    aline[ii].SetLineColor(1) #black =1\n",
    "    aline[ii].Draw()\n",
    "\n",
    "Thresh=TLine(1.5,0,1.5,360)#energy threshold\n",
    "Thresh.SetLineColor(2)\n",
    "Thresh.Draw()\n",
    "\n",
    "amps=[]\n",
    "means=[]\n",
    "sigmas=[]\n",
    "Texts=[]\n",
    "'''\n",
    "density_plt_hst.Fit(\"gaus\",\"\",\"\",cutsE[0,0],cutsE[0,1]);\n",
    "amps.append(density_plt_hst.GetFunction(\"gaus\").GetParameter(0) )\n",
    "means.append(density_plt_hst.GetFunction(\"gaus\").GetParameter(1) )\n",
    "sigmas.append(density_plt_hst.GetFunction(\"gaus\").GetParameter(2) )\n",
    "\n",
    "density_plt_hst.Fit(\"gaus\",\"\",\"\",cutsE[1,0],cutsE[1,1]);\n",
    "amps.append(density_plt_hst.GetFunction(\"gaus\").GetParameter(0) )\n",
    "means.append(density_plt_hst.GetFunction(\"gaus\").GetParameter(1) )\n",
    "sigmas.append(density_plt_hst.GetFunction(\"gaus\").GetParameter(2) )\n",
    "\n",
    "\n",
    "Fit1=TF1(\"g1\",\"gauss\",cutsE[0,0],cutsE[0,1])\n",
    "Fit2=TF1(\"g2\",\"gaus\",cutsE[1,0],cutsE[1,1])\n",
    "#total = TF1(\"total\",\"gaus(0)+gaus(1)\",1,8)\n",
    "#total.SetLineColor(2)\n",
    "                   \n",
    "density_plt_hst.Fit(Fit1,\"R\");\n",
    "density_plt_hst.Fit(Fit2,\"R+\");   \n",
    "par=Fit1.GetParameters();\n",
    "par2=Fit2.GetParameters();\n",
    "\n",
    "par[3]=par2[0]\n",
    "par[4]=par2[1]\n",
    "par[5]=par2[2]\n",
    "#par_tot=array([par[0],par[1],par[2],par2[0],par2[1],par2[2]])\n",
    "\n",
    "#total.SetParameters(par);\n",
    "#density_plt_hst.Fit(total,\"R+\");\n",
    "\n",
    "\n",
    "amps=array(amps)\n",
    "means=array(means)\n",
    "sigmas=array(sigmas)\n",
    "\n",
    "for ii, mu in enumerate(means):\n",
    "    Texts.append(TLatex(mu,amps[ii]*0.6,'#splitline{{#mu={:1.2g}}}{{#sigma={:1.2g}}}'.format(means[ii],sigmas[ii]) ))\n",
    "    Texts[ii].SetTextSize(0.03)\n",
    "    Texts[ii].Draw()\n",
    "\n",
    "    \n",
    "density_plt_hst.Fit(\"gaus\",\"\",\"\",cutsE[0,0],cutsE[0,1]);\n",
    "density_plt_hst.Fit(\"gaus\",\"+\",\"\",3.8,6.5);\n",
    "'''\n",
    "gStyle.SetOptFit(0) # superimpose fit results\n",
    "\n",
    "c2"
   ]
  },
  {
   "cell_type": "code",
   "execution_count": 50,
   "metadata": {
    "collapsed": true
   },
   "outputs": [],
   "source": [
    "c3.Clear()"
   ]
  },
  {
   "cell_type": "code",
   "execution_count": 11,
   "metadata": {
    "collapsed": true
   },
   "outputs": [],
   "source": [
    "c3 = rootnotes.default_canvas(name='icanvas3', size=(800, 600))"
   ]
  },
  {
   "cell_type": "code",
   "execution_count": 20,
   "metadata": {
    "collapsed": false
   },
   "outputs": [
    {
     "name": "stderr",
     "output_type": "stream",
     "text": [
      "TROOT::Append:0: RuntimeWarning: Replacing existing TH1: density_plt_hst (Potential memory leak).\n"
     ]
    },
    {
     "data": {
      "image/png": "[encoded data removed]",
      "text/plain": [
       "<ROOT.TCanvas object (\"icanvas3\") at 0x4396950>"
      ]
     },
     "execution_count": 20,
     "metadata": {},
     "output_type": "execute_result"
    }
   ],
   "source": [
    "g1=0.12\n",
    "g2=16\n",
    "\n",
    "au = 3.3  #use 3.10 for 2 sigma bounds #90% 3.007\n",
    "bu = -0.1158 \n",
    "    \n",
    "al = 2.95; # use 2.592 #90% 2.682\n",
    "bl =-0.1197;\n",
    "\n",
    "er_cut_l=TCut('log10(s2area/spikyS1)>{:g}*spikyS1^{:g}'.format(al,bl))\n",
    "er_cut_u=TCut('log10(s2area/spikyS1)<{:g}*spikyS1^{:g}'.format(au,bu))\n",
    "\n",
    "fid_vol=TCut('drift>30 && drift<290 && radius<50') #add time cut ... 'luxstamp/10**15 ...&& luxstamp/10**15<8.5\n",
    "area_cut=TCut('s1area>0 && s1area<10**6 && s2area_raw>150 && s2area>200 && s2area<10**6') #spikyS1\n",
    "bad_area_cut=TCut('((goodArea<=630 && badArea < 80) || (goodArea>630 && badArea < 80+0.095*(goodArea-630)))')\n",
    "ercut= er_cut_l.GetTitle() + '&&' + er_cut_u.GetTitle()\n",
    "#energy_cut=TCut('1/73*(spikyS1/{:g}+s2area/{:g})'.format(g1,g2)+'<4 &&1/73*(spikyS1/{:g}+s2area/{:g})'.format(g1,g2)+'>1.5' )\n",
    "combined_cut=TCut(fid_vol.GetTitle() + '&&'+ area_cut.GetTitle() + '&&' + bad_area_cut.GetTitle() );\n",
    "\n",
    "density_plt_hst=TH1F('density_plt_hst','WS;E_combined',100,0,100)\n",
    "n=chain.Draw('1/73*(s1area/{:g}+s2area/{:g})>>density_plt_hst'.format(g1,g2),combined_cut) # WS is chain2 #  Cs is chain3\n",
    "density_plt_hst.SetOption(\"EH\")\n",
    "\n",
    "aline=[]\n",
    "Energies=[1.1,2.8,5.2,41.55] \n",
    "\n",
    "for ii, En in enumerate(Energies):\n",
    "    aline.append(TLine(En,0,En,360))\n",
    "    aline[ii].SetLineStyle(2)\n",
    "    aline[ii].SetLineColor(1) #black =1\n",
    "    aline[ii].Draw()\n",
    "\n",
    "Thresh=TLine(1.5,0,1.5,360)#energy threshold\n",
    "Thresh.SetLineColor(2)\n",
    "Thresh.Draw()\n",
    "'''\n",
    "amps=[]\n",
    "means=[]\n",
    "sigmas=[]\n",
    "Texts=[]\n",
    "\n",
    "density_plt_hst.Fit(\"gaus\",\"\",\"\",cutsE[2,0],cutsE[2,1]);\n",
    "amps.append(density_plt_hst.GetFunction(\"gaus\").GetParameter(0) )\n",
    "means.append(density_plt_hst.GetFunction(\"gaus\").GetParameter(1) )\n",
    "sigmas.append(density_plt_hst.GetFunction(\"gaus\").GetParameter(2) )\n",
    "\n",
    "density_plt_hst.Fit(\"gaus\",\"\",\"\",cutsE[1,0],cutsE[1,1]);\n",
    "amps.append(density_plt_hst.GetFunction(\"gaus\").GetParameter(0) )\n",
    "means.append(density_plt_hst.GetFunction(\"gaus\").GetParameter(1) )\n",
    "sigmas.append(density_plt_hst.GetFunction(\"gaus\").GetParameter(2) )\n",
    "\n",
    "Fit1=TF1(\"g1\",\"gauss\",cutsE[0,0],cutsE[0,1])\n",
    "Fit2=TF1(\"g2\",\"gaus\",cutsE[1,0],cutsE[1,1])\n",
    "#total = TF1(\"total\",\"gaus(0)+gaus(1)\",1,8)\n",
    "#total.SetLineColor(2)\n",
    "                   \n",
    "density_plt_hst.Fit(Fit1,\"R\");\n",
    "density_plt_hst.Fit(Fit2,\"R+\");   \n",
    "par=Fit1.GetParameters();\n",
    "par2=Fit2.GetParameters();\n",
    "\n",
    "par[3]=par2[0]\n",
    "par[4]=par2[1]\n",
    "par[5]=par2[2]\n",
    "#par_tot=array([par[0],par[1],par[2],par2[0],par2[1],par2[2]])\n",
    "\n",
    "#total.SetParameters(par);\n",
    "#density_plt_hst.Fit(total,\"R+\");\n",
    "'''\n",
    "\n",
    "amps=array(amps)\n",
    "means=array(means)\n",
    "sigmas=array(sigmas)\n",
    "\n",
    "for ii, mu in enumerate(means):\n",
    "    Texts.append(TLatex(mu,amps[ii]*0.6,'#splitline{{#mu={:1.3g}}}{{#sigma={:1.2g}}}'.format(means[ii],sigmas[ii]) ))\n",
    "    Texts[ii].SetTextSize(0.03)\n",
    "    Texts[ii].Draw()\n",
    "\n",
    "    \n",
    "#density_plt_hst.Fit(\"gaus\",\"\",\"\",cutsE[2,0],cutsE[2,1]);\n",
    "#density_plt_hst.Fit(\"gaus\",\"+\",\"\",3.8,6.5);\n",
    "\n",
    "gStyle.SetOptFit(0) # superimpose fit results\n",
    "\n",
    "\n",
    "c3.SetLogy()\n",
    "\n",
    "c3"
   ]
  },
  {
   "cell_type": "markdown",
   "metadata": {
    "collapsed": false
   },
   "source": [
    "<h1> Get luxstamps </h1>"
   ]
  },
  {
   "cell_type": "code",
   "execution_count": 159,
   "metadata": {
    "collapsed": true
   },
   "outputs": [],
   "source": [
    "energy_cut=TCut('1/73*(spikyS1/{:g}+s2area/{:g})>{:g} && 1/73*(spikyS1/{:g}+s2area/{:g})<{:g}'\n",
    "               .format(g1,g2,2.2,g1,g2,3.2))\n",
    "\n",
    "n=chain.Draw('luxstamp',combined_cut+energy_cut+kr_time_cut_all) #s1area\n"
   ]
  },
  {
   "cell_type": "code",
   "execution_count": 160,
   "metadata": {
    "collapsed": false
   },
   "outputs": [
    {
     "data": {
      "text/plain": [
       "132L"
      ]
     },
     "execution_count": 160,
     "metadata": {},
     "output_type": "execute_result"
    }
   ],
   "source": [
    "n"
   ]
  },
  {
   "cell_type": "code",
   "execution_count": 161,
   "metadata": {
    "collapsed": false
   },
   "outputs": [
    {
     "name": "stdout",
     "output_type": "stream",
     "text": [
      "7297012359864954,\n",
      "7301100867255992,\n",
      "7310323903267449,\n",
      "7312893952030765,\n",
      "7318831602676453,\n",
      "7321306442726151,\n",
      "7344633095839987,\n",
      "7346205353617816,\n",
      "7346298214691595,\n",
      "7346477159525679,\n",
      "7348804974050122,\n",
      "7359347954500388,\n",
      "7376265591306356,\n",
      "7379074379166420,\n",
      "7381711645110864,\n",
      "7401546586000088,\n",
      "7403047604628729,\n",
      "7442731413268907,\n",
      "7443842762144963,\n",
      "7444592063419889,\n",
      "7446506820903474,\n",
      "7447511547279118,\n",
      "7464414445567772,\n",
      "7468384861409497,\n",
      "7496178778064000,\n",
      "7500059842872578,\n",
      "7525501900497400,\n",
      "7530538978239391,\n",
      "7556741985702982,\n",
      "7561791358650022,\n",
      "7562846947775242,\n",
      "7563858960804691,\n",
      "7565326964459814,\n",
      "7566445980642502,\n",
      "7592365653601017,\n",
      "7593434564837476,\n",
      "7595135195398816,\n",
      "7595451373702899,\n",
      "7595460451624357,\n",
      "7596653011201861,\n",
      "7597286009729853,\n",
      "7597372267770815,\n",
      "7597735304663132,\n",
      "7599536352054092,\n",
      "7604468469918760,\n",
      "7606803615681443,\n",
      "7609719804457061,\n",
      "7622242338619161,\n",
      "7622313300390636,\n",
      "7622546839272179,\n",
      "7653237550564493,\n",
      "7654116165448917,\n",
      "7654431753022224,\n",
      "7657634961291338,\n",
      "7659155997600341,\n",
      "7661820389184951,\n",
      "7679666744601757,\n",
      "7680291961304182,\n",
      "7680540991621755,\n",
      "7681907598452503,\n",
      "7684340862536226,\n",
      "7685081726886866,\n",
      "7703569405983420,\n",
      "7704389088298090,\n",
      "7705303285142934,\n",
      "7708814904678186,\n",
      "7710692082364256,\n",
      "7711975486920830,\n",
      "7739087930652640,\n",
      "7746317703255899,\n",
      "7800255921048351,\n",
      "7801732545691852,\n",
      "7802601699848817,\n",
      "7802825803426874,\n",
      "7804050205828532,\n",
      "7806671393531164,\n",
      "7807247385604631,\n",
      "7840518668741990,\n",
      "7846213761780331,\n",
      "7847890022487327,\n",
      "7849459809459069,\n",
      "7859226656296006,\n",
      "7887036154755997,\n",
      "7890239969337185,\n",
      "7891189537515905,\n",
      "7892461455557628,\n",
      "7892701478817045,\n",
      "7893487957373494,\n",
      "7895077534593508,\n",
      "7895701048415861,\n",
      "7919476239987515,\n",
      "7927687566532037,\n",
      "7928202130874752,\n",
      "7953962813751101,\n",
      "7954606791231880,\n",
      "7955351766116610,\n",
      "7959183096843655,\n",
      "7991060597486822,\n",
      "8023335791986262,\n",
      "8025077844686474,\n",
      "8025847607129613,\n",
      "8025891281873775,\n",
      "8027396817242357,\n",
      "8034038415309389,\n",
      "8051182732993709,\n",
      "8051792723166957,\n",
      "8052772301238936,\n",
      "8057556262476253,\n",
      "8077948153219062,\n",
      "8078180273220244,\n",
      "8081217130602338,\n",
      "8084804010066461,\n",
      "8084823170316871,\n",
      "8085929635085793,\n",
      "8086044942356076,\n",
      "8103133270721540,\n",
      "8103316530429227,\n",
      "8106425207660187,\n",
      "8107416373702021,\n",
      "8109683883455954,\n",
      "8112025253456136,\n",
      "8126049703603344,\n",
      "8128220621729294,\n",
      "8129551211835302,\n",
      "8205058391526865,\n",
      "8206797774269875,\n",
      "8209081496195307,\n",
      "8342991883186033,\n",
      "8347450841022147,\n",
      "8348718575386077,\n",
      "8353083188964752,\n",
      "8353386621768426,\n"
     ]
    }
   ],
   "source": [
    "stamps= ndarray( (n,),dtype= float64, buffer=chain.GetV1())\n",
    "for ii in range(0,stamps.size):\n",
    "    print(\"{:.0f},\".format(stamps[ii]))"
   ]
  },
  {
   "cell_type": "code",
   "execution_count": null,
   "metadata": {
    "collapsed": true
   },
   "outputs": [],
   "source": [
    "#c3.Clear()"
   ]
  },
  {
   "cell_type": "code",
   "execution_count": 25,
   "metadata": {
    "collapsed": true
   },
   "outputs": [],
   "source": [
    "c3 = rootnotes.default_canvas(name='3keV')"
   ]
  },
  {
   "cell_type": "code",
   "execution_count": 22,
   "metadata": {
    "collapsed": false
   },
   "outputs": [
    {
     "name": "stderr",
     "output_type": "stream",
     "text": [
      "TROOT::Append:0: RuntimeWarning: Replacing existing TH1: density_plt_hst2 (Potential memory leak).\n"
     ]
    },
    {
     "data": {
      "image/png": "[encoded data removed]",
      "text/plain": [
       "<ROOT.TCanvas object (\"3keV\") at 0x4ffaba0>"
      ]
     },
     "execution_count": 22,
     "metadata": {},
     "output_type": "execute_result"
    }
   ],
   "source": [
    "#chain.SetMarkerStyle(7)\n",
    "#chain.SetMarkerSize(10)\n",
    "#setup s2 vs s2 hist to get LY,QY\n",
    "density_plt_hst2=TH2F('density_plt_hst2','2.8 keV WTF 1;S2_{c};spikyS1_{c}',20,100,3500,20,0,50)\n",
    "energy_cut=TCut('1/73*(spikyS1/{:g}+s2area/{:g})>{:g} && 1/73*(spikyS1/{:g}+s2area/{:g})<{:g}'\n",
    "               .format(g1,g2,cutsE[0,0],g1,g2,cutsE[0,1]))\n",
    "\n",
    "\n",
    "n=chain.Draw('spikyS1:s2area>>density_plt_hst2',combined_cut+energy_cut,'colz') #s1area\n",
    "\n",
    "c3"
   ]
  },
  {
   "cell_type": "code",
   "execution_count": 23,
   "metadata": {
    "collapsed": false
   },
   "outputs": [],
   "source": [
    "s1 = ndarray( (n,),dtype= float64, buffer=chain.GetV1())\n",
    "s2 = ndarray( (n,),dtype= float64, buffer=chain.GetV2())\n"
   ]
  },
  {
   "cell_type": "code",
   "execution_count": 24,
   "metadata": {
    "collapsed": false
   },
   "outputs": [
    {
     "data": {
      "text/plain": [
       "759"
      ]
     },
     "execution_count": 24,
     "metadata": {},
     "output_type": "execute_result"
    }
   ],
   "source": [
    "s1.size"
   ]
  },
  {
   "cell_type": "code",
   "execution_count": 25,
   "metadata": {
    "collapsed": false
   },
   "outputs": [],
   "source": [
    "H, xedges, yedges = histogram2d(s2, s1, bins=7, range=None, normed=False)\n",
    "H=H.T\n",
    "x_bin_center=(xedges[:-1]+xedges[1:])/2\n",
    "y_bin_center=(yedges[:-1]+yedges[1:])/2\n",
    "\n",
    "initial_guess = (H.max(), mean(s2), mean(s1), std(s2), std(s1),0,0)\n",
    "x, y = np.meshgrid(x_bin_center, y_bin_center)\n",
    "\n",
    "popt, pcov = opt.curve_fit(twoD_Gaussian, (x, y), H.ravel(), p0=initial_guess)\n",
    "\n",
    "mean_s2[0]=popt[1]\n",
    "mean_s2_sig[0]=sqrt(pcov[1,1])\n",
    "mean_s1[0]=popt[2]\n",
    "mean_s1_sig[0]=sqrt(pcov[2,2])\n",
    "\n"
   ]
  },
  {
   "cell_type": "code",
   "execution_count": null,
   "metadata": {
    "collapsed": true
   },
   "outputs": [],
   "source": [
    "savetxt('Run03_Golden_Doke/fits/3keVfit.txt', popt, fmt='%.18e', delimiter=' ', newline='\\n', header='', footer='', comments='# ')\n",
    "savetxt('Run03_Golden_Doke/fits/3keVcov.txt', pcov, fmt='%.18e', delimiter=' ', newline='\\n', header='', footer='', comments='# ')"
   ]
  },
  {
   "cell_type": "code",
   "execution_count": 26,
   "metadata": {
    "collapsed": false
   },
   "outputs": [
    {
     "data": {
      "text/plain": [
       "<matplotlib.text.Text at 0x7ffb0da2bb10>"
      ]
     },
     "execution_count": 26,
     "metadata": {},
     "output_type": "execute_result"
    },
    {
     "data": {
      "image/png": "[encoded data removed]",
      "text/plain": [
       "<matplotlib.figure.Figure at 0x7ffb0d9b7b90>"
      ]
     },
     "metadata": {},
     "output_type": "display_data"
    }
   ],
   "source": [
    "data_fitted = twoD_Gaussian((x, y), *popt)\n",
    "figure\n",
    "fig, ax = plt.subplots(1,1)\n",
    "ax.hold(True)\n",
    "#ax.imshow(H.reshape(x.shape), cmap=plt.cm.jet, origin='bottom',\n",
    "#    extent=(x.min(), x.max(), y.min(), y.max()))\n",
    "plt.contourf(x_bin_center,y_bin_center,H,10)\n",
    "ax.contour(x, y, data_fitted.reshape(x.shape), 7, colors='w')\n",
    "plt.xlabel('S2_c',fontsize=16)\n",
    "plt.ylabel('S1_c',fontsize=16)\n",
    "plt.xticks(fontsize=16)\n",
    "plt.yticks(fontsize=16)\n",
    "cb=plt.colorbar()\n",
    "cb.set_label('Count',fontsize=16)\n",
    "plt.text(x.min()*1.15,y.max()*.95,'S2={:1.1f} +/- {:1.1f} \\n S1={:1.1f} +/- {:1.1f}'.format(popt[1],sqrt(pcov[1,1]),popt[2],sqrt(pcov[2,2])),\n",
    "         horizontalalignment='center', verticalalignment='center', bbox=dict(facecolor='w', alpha=0.9),fontsize=18)\n",
    "plt.title('2.8 keV WTF')\n",
    "#savefig('Run03_Golden_Doke/5keV_fit.pdf')"
   ]
  },
  {
   "cell_type": "markdown",
   "metadata": {},
   "source": [
    "<h1> Check the R vs Z distribuation of the 2.8 keV events </h1>"
   ]
  },
  {
   "cell_type": "code",
   "execution_count": 27,
   "metadata": {
    "collapsed": true
   },
   "outputs": [],
   "source": [
    "#c4.Clear()\n",
    "c4 = rootnotes.default_canvas(name='Ar_RZ')"
   ]
  },
  {
   "cell_type": "code",
   "execution_count": 28,
   "metadata": {
    "collapsed": false
   },
   "outputs": [
    {
     "data": {
      "image/png": "[encoded data removed]",
      "text/plain": [
       "<ROOT.TCanvas object (\"Ar_RZ\") at 0x4c792b0>"
      ]
     },
     "execution_count": 28,
     "metadata": {},
     "output_type": "execute_result"
    }
   ],
   "source": [
    "chain.SetMarkerStyle(7)\n",
    "chain.SetMarkerSize(10)\n",
    "#density_plt_hst=TH2F('density_plt_hst','5.2 keV x-ray 1;S2_{c};spikyS1_{c}',20,500,3500,20,1,50)\n",
    "#density_plt_hst.Draw()\n",
    "chain.Draw('drift:correctedRadius**2',combined_cut+energy_cut) #s1area\n",
    "\n",
    "linR18=TLine(18**2,35.5,18**2,305)\n",
    "linR18.SetLineColor(2)\n",
    "linR18.SetLineStyle(2)\n",
    "linR18.SetLineWidth(4)\n",
    "linR18.Draw()\n",
    "\n",
    "linR21=TLine(21**2,35.5,21**2,305)\n",
    "linR21.SetLineColor(3)\n",
    "linR21.SetLineStyle(2)\n",
    "linR21.SetLineWidth(4)\n",
    "linR21.Draw()\n",
    "c4"
   ]
  },
  {
   "cell_type": "code",
   "execution_count": 29,
   "metadata": {
    "collapsed": true
   },
   "outputs": [],
   "source": [
    "c5 = rootnotes.default_canvas(name='Ar_XY')"
   ]
  },
  {
   "cell_type": "code",
   "execution_count": 31,
   "metadata": {
    "collapsed": false
   },
   "outputs": [
    {
     "data": {
      "image/png": "[encoded data removed]",
      "text/plain": [
       "<ROOT.TCanvas object (\"Ar_XY\") at 0x4aef320>"
      ]
     },
     "execution_count": 31,
     "metadata": {},
     "output_type": "execute_result"
    }
   ],
   "source": [
    "chain.SetMarkerStyle(7)\n",
    "chain.SetMarkerSize(10)\n",
    "#density_plt_hst=TH2F('density_plt_hst','5.2 keV x-ray 1;S2_{c};spikyS1_{c}',20,500,3500,20,1,50)\n",
    "#density_plt_hst.Draw()\n",
    "chain.Draw('corrected_y:corrected_x',combined_cut+energy_cut) #s1area\n",
    "\n",
    "c5"
   ]
  },
  {
   "cell_type": "code",
   "execution_count": null,
   "metadata": {
    "collapsed": true
   },
   "outputs": [],
   "source": []
  }
 ],
 "metadata": {
  "kernelspec": {
   "display_name": "pyrootnb",
   "language": "python",
   "name": "pyrootnb"
  },
  "language_info": {
   "codemirror_mode": {
    "name": "ipython",
    "version": 2
   },
   "file_extension": ".py",
   "mimetype": "text/x-python",
   "name": "python",
   "nbconvert_exporter": "python",
   "pygments_lexer": "ipython2",
   "version": "2.7.10"
  }
 },
 "nbformat": 4,
 "nbformat_minor": 0
}
