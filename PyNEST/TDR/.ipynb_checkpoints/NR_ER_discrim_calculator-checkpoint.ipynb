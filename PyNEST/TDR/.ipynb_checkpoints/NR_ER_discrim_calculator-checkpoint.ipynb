{
 "cells": [
  {
   "cell_type": "markdown",
   "metadata": {},
   "source": [
    "<h1> LZ Discrimination Calculator </h1>"
   ]
  },
  {
   "cell_type": "code",
   "execution_count": 1,
   "metadata": {
    "collapsed": false
   },
   "outputs": [
    {
     "name": "stdout",
     "output_type": "stream",
     "text": [
      "Populating the interactive namespace from numpy and matplotlib\n"
     ]
    }
   ],
   "source": [
    "from __future__ import division\n",
    "import sys\n",
    "home_dir=!echo \"$HOME\"\n",
    "sys.path.insert(2,home_dir[0]+'/iPyNb/NERSC_Import')#point to iPyNb in $HOME directory\n",
    "from pyNEST import *\n",
    "import time\n",
    "%pylab inline\n",
    "pylab.rcParams['figure.figsize'] = (10.0, 8.0) # set size of figures\"\n",
    "plt.rcParams.update({'font.size': 24})"
   ]
  },
  {
   "cell_type": "code",
   "execution_count": 2,
   "metadata": {
    "collapsed": true
   },
   "outputs": [],
   "source": [
    "#WS cuts\n",
    "S1_min=0\n",
    "S1_max=20\n",
    "S2raw_min=450\n",
    "#NS1_coin_req=3"
   ]
  },
  {
   "cell_type": "code",
   "execution_count": 6,
   "metadata": {
    "collapsed": false,
    "scrolled": true
   },
   "outputs": [
    {
     "name": "stdout",
     "output_type": "stream",
     "text": [
      "(0.05, 50, 99.357460398298159, 99.435652597328811)\n",
      "(0.05, 85, 99.500828051941966, 99.537656155817032)\n",
      "(0.05, 90, 99.533601494652643, 99.540795933224572)\n",
      "(0.05, 100, 99.547553343422095, 99.55610833105051)\n",
      "(0.05, 160, 99.616816740552068, 99.60305125199676)\n",
      "(0.05, 290, 99.691218346621369, 99.5966747665111)\n",
      "(0.05, 630, 99.709498607779707, 99.435997144900071)\n",
      "(0.075, 50, 99.391226604867839, 99.512811670982032)\n",
      "(0.075, 85, 99.484470015238031, 99.582750055429571)\n",
      "(0.075, 90, 99.536353577330814, 99.6058167841433)\n",
      "(0.075, 100, 99.528915998000727, 99.61608263680472)\n",
      "(0.075, 160, 99.588670101203448, 99.655512830758425)\n",
      "(0.075, 290, 99.704895160122675, 99.704608694275493)\n",
      "(0.075, 630, 99.721312753352038, 99.525312503043281)\n",
      "(0.12, 50, 99.656370582250304, 99.722693633944587)\n",
      "(0.12, 85, 99.666172106824931, 99.736851010820999)\n",
      "(0.12, 90, 99.649746527091978, 99.736104923436741)\n",
      "(0.12, 100, 99.675989981960527, 99.743224130842393)\n",
      "(0.12, 160, 99.74870006314282, 99.779400490714139)\n",
      "(0.12, 290, 99.779044626943616, 99.809165501108339)\n",
      "(0.12, 630, 99.829213774862382, 99.736279667247402)\n"
     ]
    }
   ],
   "source": [
    "g1s=[0.05,0.075,0.12]\n",
    "drift_fields=[50,85, 90, 100, 160,290,630]\n",
    "discrim=np.zeros((size(g1s),size(drift_fields)))\n",
    "discrim_gauss=np.zeros((size(g1s),size(drift_fields)))\n",
    "\n",
    "##############################################################################\n",
    "#Generate Flat ER and NR spectra:\n",
    "##############################################################################\n",
    "#LZ\n",
    "\n",
    "for ii, g1 in enumerate(g1s):\n",
    "    for jj, df in enumerate(drift_fields):\n",
    "        NEST=NEST_setup(g1=g1,f_drift=df,custom=True)\n",
    "        S1_bin_cen_n, mean_S2oS1_n, std_S2oS1_n, S1_bin_cen_e, mean_S2oS1_e, std_S2oS1_e, \\\n",
    "        E_bin_cen_e, Eff_e, E_bin_cen_n, Eff_n, num_leak_e, num_total_e, leak_gauss_e, sNR \\\n",
    "        = genBands(NEST=NEST,S2raw_min=S2raw_min,nSim=2e6) #change to 1e5 to speed up\n",
    "\n",
    "        #calculate NR ER discrimination\n",
    "        leak_cut= S1_bin_cen_e<S1_max\n",
    "        discrim[ii,jj]=100*(1-sum(num_leak_e[leak_cut])/sum(num_total_e[leak_cut]))\n",
    "        discrim_gauss[ii,jj]=100*(1-mean(leak_gauss_e[leak_cut]))\n",
    "        \n",
    "        print (g1,df,discrim[ii,jj],discrim_gauss[ii,jj])"
   ]
  },
  {
   "cell_type": "code",
   "execution_count": 8,
   "metadata": {
    "collapsed": false
   },
   "outputs": [
    {
     "data": {
      "text/plain": [
       "array([[ 99.3574604 ,  99.50082805,  99.53360149,  99.54755334,\n",
       "         99.61681674,  99.69121835,  99.70949861],\n",
       "       [ 99.3912266 ,  99.48447002,  99.53635358,  99.528916  ,\n",
       "         99.5886701 ,  99.70489516,  99.72131275],\n",
       "       [ 99.65637058,  99.66617211,  99.64974653,  99.67598998,\n",
       "         99.74870006,  99.77904463,  99.82921377]])"
      ]
     },
     "execution_count": 8,
     "metadata": {},
     "output_type": "execute_result"
    }
   ],
   "source": [
    "discrim"
   ]
  },
  {
   "cell_type": "markdown",
   "metadata": {
    "collapsed": true
   },
   "source": [
    "<h1> Plot discrimnation </h1>"
   ]
  },
  {
   "cell_type": "code",
   "execution_count": 5,
   "metadata": {
    "collapsed": false,
    "scrolled": false
   },
   "outputs": [
    {
     "data": {
      "text/plain": [
       "<matplotlib.text.Text at 0x7fb69372e9d0>"
      ]
     },
     "execution_count": 5,
     "metadata": {},
     "output_type": "execute_result"
    },
    {
     "data": {
      "image/png": "[encoded data removed]",
      "text/plain": [
       "<matplotlib.figure.Figure at 0x7fb6c486de90>"
      ]
     },
     "metadata": {},
     "output_type": "display_data"
    }
   ],
   "source": [
    "plot(S1_bin_cen_e,100*(num_leak_e/num_total_e),'or')\n",
    "xlabel('S1')\n",
    "ylabel('Leakage (%)')"
   ]
  },
  {
   "cell_type": "code",
   "execution_count": 6,
   "metadata": {
    "collapsed": false
   },
   "outputs": [
    {
     "data": {
      "text/plain": [
       "[<matplotlib.lines.Line2D at 0x7fb693600f90>]"
      ]
     },
     "execution_count": 6,
     "metadata": {},
     "output_type": "execute_result"
    },
    {
     "data": {
      "image/png": "[encoded data removed]",
      "text/plain": [
       "<matplotlib.figure.Figure at 0x7fb69367c0d0>"
      ]
     },
     "metadata": {},
     "output_type": "display_data"
    }
   ],
   "source": [
    "#Plot ER, NR mean and NR interpolation\n",
    "\n",
    "#sNR = ip.UnivariateSpline(S1_bin_cen_n, mean_S2oS1_n,s=.002)\n",
    "\n",
    "plot(S1_bin_cen_n,sNR(S1_bin_cen_n),'r')\n",
    "plot(S1_bin_cen_n,mean_S2oS1_n,'o')\n",
    "plot(S1_bin_cen_e,mean_S2oS1_e)"
   ]
  },
  {
   "cell_type": "code",
   "execution_count": 5,
   "metadata": {
    "collapsed": false
   },
   "outputs": [
    {
     "data": {
      "text/plain": [
       "0.15865525393145707"
      ]
     },
     "execution_count": 5,
     "metadata": {},
     "output_type": "execute_result"
    }
   ],
   "source": [
    "nsig=(2-1)/1\n",
    "sp.special.erfc(nsig/sqrt(2))/2"
   ]
  },
  {
   "cell_type": "markdown",
   "metadata": {},
   "source": [
    "<h1> Plot Discrimination vs. WIMP mass </h1>"
   ]
  },
  {
   "cell_type": "code",
   "execution_count": null,
   "metadata": {
    "collapsed": false
   },
   "outputs": [],
   "source": [
    "mWmp=np.logspace(1.35,3,10)\n",
    "discrim=np.zeros_like(mWmp)\n",
    "discrim_gauss=np.zeros_like(mWmp)\n",
    "\n",
    "##############################################################################\n",
    "#Generate Flat ER and NR spectra for given WIMP mass:\n",
    "##############################################################################\n",
    "#LZ\n",
    "NEST=NEST_setup() #defults to LZ nominal parameters\n",
    "\n",
    "for ii, mW in enumerate(mWmp):\n",
    "    if mW<35:\n",
    "        nSim=2e8\n",
    "    else:\n",
    "        nSim=1e6\n",
    "    \n",
    "    S1_bin_cen_n, mean_S2oS1_n, std_S2oS1_n, S1_bin_cen_e, mean_S2oS1_e, std_S2oS1_e, \\\n",
    "    E_bin_cen_e, Eff_e, E_bin_cen_n, Eff_n, num_leak_e, num_total_e, leak_gauss_e, sNR \\\n",
    "    = genBands(NEST=NEST,S2raw_min=S2raw_min,nSim=nSim,mWmp=mW) #change to 1e5 to speed up\n",
    "\n",
    "    #calculate NR ER discrimination\n",
    "    leak_cut= S1_bin_cen_e<S1_max\n",
    "    discrim[ii]=100*(1-sum(num_leak_e[leak_cut])/sum(num_total_e[leak_cut]))\n",
    "    discrim_gauss[ii]=100*(1-mean(leak_gauss_e[leak_cut]))\n",
    "    \n",
    "    print (mW,discrim_gauss[ii])"
   ]
  },
  {
   "cell_type": "code",
   "execution_count": null,
   "metadata": {
    "collapsed": false
   },
   "outputs": [],
   "source": [
    "plt.plot(mWmp,discrim,'--sk',markersize=8)\n",
    "xscale('log')\n",
    "xlabel('WIMP mass (GeV)')\n",
    "ylabel('Background rejection (%) at 50% Signal Acceptance')\n",
    "\n",
    "savefig('figs/Discrim.png')"
   ]
  },
  {
   "cell_type": "code",
   "execution_count": null,
   "metadata": {
    "collapsed": true
   },
   "outputs": [],
   "source": []
  }
 ],
 "metadata": {
  "kernelspec": {
   "display_name": "pyrootnb",
   "language": "python",
   "name": "pyrootnb"
  },
  "language_info": {
   "codemirror_mode": {
    "name": "ipython",
    "version": 2
   },
   "file_extension": ".py",
   "mimetype": "text/x-python",
   "name": "python",
   "nbconvert_exporter": "python",
   "pygments_lexer": "ipython2",
   "version": "2.7.10"
  }
 },
 "nbformat": 4,
 "nbformat_minor": 0
}
