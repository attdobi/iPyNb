{
 "cells": [
  {
   "cell_type": "markdown",
   "metadata": {},
   "source": [
    "<h1> Create Signal and BG PDF for profile likelihood. Using libNEST on LZGit </h1>"
   ]
  },
  {
   "cell_type": "code",
   "execution_count": null,
   "metadata": {
    "collapsed": false,
    "scrolled": true
   },
   "outputs": [
    {
     "name": "stdout",
     "output_type": "stream",
     "text": [
      "Populating the interactive namespace from numpy and matplotlib\n"
     ]
    },
    {
     "name": "stderr",
     "output_type": "stream",
     "text": [
      "TROOT::Append:0: RuntimeWarning: Replacing existing TH1: LCE (Potential memory leak).\n",
      "TROOT::Append:0: RuntimeWarning: Replacing existing TH1: EField (Potential memory leak).\n",
      "TROOT::Append:0: RuntimeWarning: Replacing existing TH1: LCE (Potential memory leak).\n",
      "TROOT::Append:0: RuntimeWarning: Replacing existing TH1: EField (Potential memory leak).\n",
      "WARNING: pylab import has clobbered these variables: ['pylab']\n",
      "`%matplotlib` prevents importing * from pylab and numpy\n"
     ]
    }
   ],
   "source": [
    "from __future__ import division\n",
    "import sys\n",
    "home_dir=!echo \"$HOME\"\n",
    "sys.path.insert(2,home_dir[0]+'/iPyNb/NERSC_Import') \n",
    "from pyROOT_import import *\n",
    "from pyNEST import *\n",
    "from ROOT import TH2D\n",
    "%pylab inline\n",
    "pylab.rcParams['figure.figsize'] = (10.0, 8.0) # set size of figures\""
   ]
  },
  {
   "cell_type": "markdown",
   "metadata": {},
   "source": [
    "<h1> Setup </h1>"
   ]
  },
  {
   "cell_type": "code",
   "execution_count": null,
   "metadata": {
    "collapsed": false
   },
   "outputs": [
    {
     "name": "stderr",
     "output_type": "stream",
     "text": [
      "TROOT::Append:0: RuntimeWarning: Replacing existing TH1: LCE (Potential memory leak).\n",
      "TROOT::Append:0: RuntimeWarning: Replacing existing TH1: EField (Potential memory leak).\n"
     ]
    }
   ],
   "source": [
    "subdir='nominal' #folder to save the outputs and the pdfs generated here\n",
    "g1=0.075 #nominal is 0.075\n",
    "\n",
    "if not(os.path.isdir('root_pdfs/'+subdir)):\n",
    "    os.mkdir('root_pdfs/'+subdir)\n",
    "\n",
    "#options: ParticleType='NR',energy=10,f_drift=-1,xe_density=2.888,drift_time=-1,g1=0.075, nFold=3, eff_extract=0.95,e_lifetime=845, spEff_direct=0.9, Det='LZ'\n",
    "NEST =NEST_setup(Det='LZ', g1=g1, custom=True)\n",
    "\n",
    "S1_min=0\n",
    "S1_max=50\n",
    "S2_max=5e4\n",
    "S2raw_min=450\n",
    "#NS1_coin_req=3"
   ]
  },
  {
   "cell_type": "markdown",
   "metadata": {},
   "source": [
    "<h1> Code to check what 6.5 keVee and 30 keVnr correspond to for a given g1</h1>"
   ]
  },
  {
   "cell_type": "code",
   "execution_count": null,
   "metadata": {
    "collapsed": false
   },
   "outputs": [
    {
     "name": "stdout",
     "output_type": "stream",
     "text": [
      "('NR (30 keV)', 'S1c=', 38.882732524148743, 'S2c=', 14761.305239895883)\n",
      "('ER (6.5 keV)', 'S1c=', 17.336735136061023, 'S2c=', 18539.690137229376)\n"
     ]
    }
   ],
   "source": [
    "#NEST=NEST_setup(g1=g1,custom=True)\n",
    "NEST.SetParticleType(0)\n",
    "#NR\n",
    "NEST.SetEnergy(50)\n",
    "ave_s1=[]\n",
    "ave_s2=[]\n",
    "for ii in range(1000):\n",
    "    NEST.DetectorResponse()\n",
    "    ave_s1.append(NEST.GetS1c())\n",
    "    ave_s2.append(NEST.GetS2c())\n",
    "print('NR (30 keV)', 'S1c=',mean(ave_s1), 'S2c=', mean(ave_s2))\n",
    "\n",
    "#ER\n",
    "NEST.SetParticleType(1)\n",
    "NEST.SetEnergy(6.5)\n",
    "ave_s1=[]\n",
    "ave_s2=[]\n",
    "for ii in range(1000):\n",
    "    NEST.DetectorResponse()\n",
    "    ave_s1.append(NEST.GetS1c())\n",
    "    ave_s2.append(NEST.GetS2c())\n",
    "print('ER (6.5 keV)', 'S1c=',mean(ave_s1), 'S2c=', mean(ave_s2))"
   ]
  },
  {
   "cell_type": "markdown",
   "metadata": {},
   "source": [
    "<h1> ATM nu PDF </h1>"
   ]
  },
  {
   "cell_type": "code",
   "execution_count": null,
   "metadata": {
    "collapsed": false
   },
   "outputs": [],
   "source": [
    "# ATM nu PDF\n",
    "\n",
    "file_path='data/atm_Peter_update.txt' #caught a 2x error in rate\n",
    "ParticleType=0 #'NR'\n",
    "nSim=1e6\n",
    "\n",
    "NEST.SetParticleType(ParticleType)\n",
    "Nph, Ne, S1, S2, S1c, S2c, Rate_evts_kg_day, Det_exposure_factor = dN2S1S2(NEST=NEST, file_path=file_path, nSim=nSim)\n",
    "\n",
    "WS_cut=(S1c>0) & (S2>=S2raw_min)\n",
    "S1_cut=S1c[WS_cut]\n",
    "S2_cut=S2c[WS_cut]\n",
    "\n",
    "hatm=TH2D(\"hatm\",\"atm pdf;S1;S2\",100,S1_min,S1_max,100,0,S2_max) # make a histogram with 100 bins 0 to 100 in S1,and 100 bins 0 to 1e5 in S2\n",
    "for index, S1_val in enumerate(S1_cut):\n",
    "    hatm.Fill(S1_cut[index],S2_cut[index])\n",
    "hatm.Scale(Rate_evts_kg_day/nSim)\n",
    "hatm.SaveAs('root_pdfs/'+subdir+'/atm_pdf.root') #write out to file"
   ]
  },
  {
   "cell_type": "code",
   "execution_count": null,
   "metadata": {
    "collapsed": false
   },
   "outputs": [],
   "source": [
    "hatm.Integral()"
   ]
  },
  {
   "cell_type": "markdown",
   "metadata": {},
   "source": [
    "<h1> B8 </h1>"
   ]
  },
  {
   "cell_type": "code",
   "execution_count": null,
   "metadata": {
    "collapsed": false,
    "scrolled": false
   },
   "outputs": [],
   "source": [
    "# 8B nu PDF\n",
    "\n",
    "file_path='data/B8_Peter.txt'\n",
    "ParticleType=0 #'NR'\n",
    "nSim=1e6\n",
    "\n",
    "NEST.SetParticleType(ParticleType)\n",
    "Nph, Ne, S1, S2, S1c, S2c, Rate_evts_kg_day, Det_exposure_factor = dN2S1S2(NEST=NEST, file_path=file_path, nSim=nSim)\n",
    "\n",
    "WS_cut=(S1c>0) & (S2>=S2raw_min)\n",
    "S1_cut=S1c[WS_cut]\n",
    "S2_cut=S2c[WS_cut]\n",
    "\n",
    "hB8=TH2D(\"hB8\",\"B8 pdf;S1;S2\",100,S1_min,S1_max,100,0,S2_max) \n",
    "for index, S1_val in enumerate(S1_cut):\n",
    "    hB8.Fill(S1_cut[index],S2_cut[index])\n",
    "hB8.Scale(Rate_evts_kg_day/nSim)\n",
    "#hB8.SaveAs('root_pdfs/'+subdir+'/B8_pdf.root') #write out to file"
   ]
  },
  {
   "cell_type": "code",
   "execution_count": null,
   "metadata": {
    "collapsed": false
   },
   "outputs": [],
   "source": [
    "hB8.Integral()*5600*1000"
   ]
  },
  {
   "cell_type": "code",
   "execution_count": null,
   "metadata": {
    "collapsed": false
   },
   "outputs": [],
   "source": [
    "size(S1_cut)/685"
   ]
  },
  {
   "cell_type": "markdown",
   "metadata": {},
   "source": [
    "<h1> HEP </h1>"
   ]
  },
  {
   "cell_type": "code",
   "execution_count": null,
   "metadata": {
    "collapsed": false
   },
   "outputs": [],
   "source": [
    "# 8B nu PDF\n",
    "\n",
    "file_path='data/hep_Peter.txt' \n",
    "ParticleType=0 #'NR'\n",
    "nSim=1e6\n",
    "\n",
    "NEST.SetParticleType(ParticleType)\n",
    "Nph, Ne, S1, S2, S1c, S2c, Rate_evts_kg_day, Det_exposure_factor = dN2S1S2(NEST=NEST, file_path=file_path, nSim=nSim)\n",
    "\n",
    "WS_cut=(S1c>0) & (S2>=S2raw_min)\n",
    "S1_cut=S1c[WS_cut]\n",
    "S2_cut=S2c[WS_cut]\n",
    "\n",
    "hhep=TH2D(\"hhep\",\"hep pdf;S1;S2\",100,S1_min,S1_max,100,0,S2_max) \n",
    "for index, S1_val in enumerate(S1_cut):\n",
    "    hhep.Fill(S1_cut[index],S2_cut[index])\n",
    "hhep.Scale(Rate_evts_kg_day/nSim)\n",
    "hhep.SaveAs('root_pdfs/'+subdir+'/hep_pdf.root') #write out to file"
   ]
  },
  {
   "cell_type": "markdown",
   "metadata": {},
   "source": [
    "<h1> DSN </h1>"
   ]
  },
  {
   "cell_type": "code",
   "execution_count": null,
   "metadata": {
    "collapsed": false
   },
   "outputs": [],
   "source": [
    "file_path='data/DSN_DiffRate.txt' \n",
    "ParticleType=0 #'NR'\n",
    "nSim=1e6\n",
    "\n",
    "NEST.SetParticleType(ParticleType)\n",
    "Nph, Ne, S1, S2, S1c, S2c, Rate_evts_kg_day, Det_exposure_factor = dN2S1S2(NEST=NEST, file_path=file_path, nSim=nSim)\n",
    "\n",
    "WS_cut=(S1c>0) & (S2>=S2raw_min)\n",
    "S1_cut=S1c[WS_cut]\n",
    "S2_cut=S2c[WS_cut]\n",
    "\n",
    "hDSN=TH2D(\"hDSN\",\"DNS pdf;S1;S2\",100,S1_min,S1_max,100,0,S2_max) \n",
    "for index, S1_val in enumerate(S1_cut):\n",
    "    hDSN.Fill(S1_cut[index],S2_cut[index])\n",
    "hDSN.Scale(Rate_evts_kg_day/nSim)\n",
    "hDSN.SaveAs('root_pdfs/'+subdir+'/DSN_pdf.root') #write out to file"
   ]
  },
  {
   "cell_type": "markdown",
   "metadata": {},
   "source": [
    "<h1> PP + 7Be + 13N</h1>"
   ]
  },
  {
   "cell_type": "code",
   "execution_count": null,
   "metadata": {
    "collapsed": false
   },
   "outputs": [],
   "source": [
    "file_path='data/PPsolarNu_Peter.txt' \n",
    "ParticleType=1 #'ER'\n",
    "nSim=1e6\n",
    "\n",
    "NEST.SetParticleType(ParticleType)\n",
    "Nph, Ne, S1, S2, S1c, S2c, Rate_evts_kg_day, Det_exposure_factor = dN2S1S2(NEST=NEST, file_path=file_path, nSim=nSim)\n",
    "\n",
    "WS_cut=(S1c>0) & (S2>=S2raw_min)\n",
    "S1_cut=S1c[WS_cut]\n",
    "S2_cut=S2c[WS_cut]\n",
    "\n",
    "hPP=TH2D(\"hPP\",\"PP pdf;S1;S2\",100,S1_min,S1_max,100,0,S2_max) \n",
    "for index, S1_val in enumerate(S1_cut):\n",
    "    hPP.Fill(S1_cut[index],S2_cut[index])\n",
    "hPP.Scale(Rate_evts_kg_day/nSim*250/271) #patch to match Peter's calculation\n",
    "hPP.SaveAs('root_pdfs/'+subdir+'/PP_pdf.root') #write out to file"
   ]
  },
  {
   "cell_type": "markdown",
   "metadata": {},
   "source": [
    "<h1>2nvBB 136Xe </h1>"
   ]
  },
  {
   "cell_type": "code",
   "execution_count": null,
   "metadata": {
    "collapsed": false
   },
   "outputs": [],
   "source": [
    "file_path='data/twovBB_evt_ton_year_keV_lin.txt' \n",
    "ParticleType=1 #'ER'\n",
    "nSim=1e6\n",
    "\n",
    "NEST.SetParticleType(ParticleType)\n",
    "Nph, Ne, S1, S2, S1c, S2c, Rate_evts_kg_day, Det_exposure_factor = dN2S1S2(NEST=NEST, file_path=file_path, nSim=nSim)\n",
    "\n",
    "WS_cut=(S1c>0) & (S2>=S2raw_min)\n",
    "S1_cut=S1c[WS_cut]\n",
    "S2_cut=S2c[WS_cut]\n",
    "\n",
    "h2vBB=TH2D(\"h2vBB\",\"2vBB pdf;S1;S2\",100,S1_min,S1_max,100,0,S2_max) \n",
    "for index, S1_val in enumerate(S1_cut):\n",
    "    h2vBB.Fill(S1_cut[index],S2_cut[index])\n",
    "h2vBB.Scale(Rate_evts_kg_day/nSim) #patch to match Peter's calculation\n",
    "h2vBB.SaveAs('root_pdfs/'+subdir+'/2vBB_pdf.root') #write out to file"
   ]
  },
  {
   "cell_type": "markdown",
   "metadata": {},
   "source": [
    "<h1> 85Kr </h1>"
   ]
  },
  {
   "cell_type": "code",
   "execution_count": null,
   "metadata": {
    "collapsed": false
   },
   "outputs": [],
   "source": [
    "file_path='data/Kr85_beta_spectrum_LZ_fid.txt' \n",
    "ParticleType=1 #'ER'\n",
    "nSim=1e6\n",
    "\n",
    "NEST.SetParticleType(ParticleType)\n",
    "Nph, Ne, S1, S2, S1c, S2c, Rate_evts_kg_day, Det_exposure_factor = dN2S1S2(NEST=NEST, file_path=file_path, nSim=nSim)\n",
    "\n",
    "WS_cut=(S1c>0) & (S2>=S2raw_min)\n",
    "S1_cut=S1c[WS_cut]\n",
    "S2_cut=S2c[WS_cut]\n",
    "\n",
    "hKr=TH2D(\"hKr\",\"Kr pdf;S1;S2\",100,S1_min,S1_max,100,0,S2_max) \n",
    "for index, S1_val in enumerate(S1_cut):\n",
    "    hKr.Fill(S1_cut[index],S2_cut[index])\n",
    "hKr.Scale(Rate_evts_kg_day/nSim) \n",
    "hKr.SaveAs('root_pdfs/'+subdir+'/Kr_pdf.root') #write out to file"
   ]
  },
  {
   "cell_type": "markdown",
   "metadata": {},
   "source": [
    "<h1> Rn222 </h1>"
   ]
  },
  {
   "cell_type": "code",
   "execution_count": null,
   "metadata": {
    "collapsed": false
   },
   "outputs": [],
   "source": [
    "#scale factor c. LZ has 2 uBq/kg total and 3.57 in the fid\n",
    "c=1*1.91*9.2/6.3 # LZ fiducial with 2 uBq/kg\n",
    "Eee=np.linspace(0.1,100,2e3) # to 100 keV\n",
    "Rn222 = c*3.65*ones(size(Eee))# (0.01 DRU per mBq/kg) #3.65 evts/keV/ton/year per 1 uBq/kg ... now LZ has 2 uBq/kg total\n",
    "dR = Rn222 #evts/keV/ton/year\n",
    "\n",
    "\n",
    "#### Rn222 ... approximate 0.3 evt/keV/Ton/year at 0.1 uBq/kg, LZ has about 0.7 uBq/kg ######## .... LZ now 2 uBq/kg\n",
    "#Rn222_rate= c*20*0.35*100/365 #evt/Ton/year/keV...*100keV/365days to E_max with 0.7 uBq/kg\n",
    "#nSim=ceil(Rn222_rate*1000*5.6)#in 1000 days *5.6 Tons #n in 1 LZ from 0-100 keV\n",
    "\n",
    "np.savetxt('data/Rn222_LZ_fid.txt' ,np.vstack([Eee, dR]).T)\n",
    "\n",
    "file_path='data/Rn222_LZ_fid.txt'\n",
    "ParticleType=1 #'ER'\n",
    "nSim=1e6\n",
    "\n",
    "NEST.SetParticleType(ParticleType)\n",
    "Nph, Ne, S1, S2, S1c, S2c, Rate_evts_kg_day, Det_exposure_factor = dN2S1S2(NEST=NEST, file_path=file_path, nSim=nSim)\n",
    "\n",
    "WS_cut=(S1c>0) & (S2>=S2raw_min)\n",
    "S1_cut=S1c[WS_cut]\n",
    "S2_cut=S2c[WS_cut]\n",
    "\n",
    "hRn=TH2D(\"hRn\",\"Rn pdf;S1;S2\",100,S1_min,S1_max,100,0,S2_max) \n",
    "for index, S1_val in enumerate(S1_cut):\n",
    "    hRn.Fill(S1_cut[index],S2_cut[index])\n",
    "hRn.Scale(Rate_evts_kg_day/nSim)\n",
    "hRn.SaveAs('root_pdfs/'+subdir+'/Rn_pdf.root') #write out to file"
   ]
  },
  {
   "cell_type": "markdown",
   "metadata": {},
   "source": [
    "<h1> Rn220 </h1>"
   ]
  },
  {
   "cell_type": "code",
   "execution_count": null,
   "metadata": {
    "collapsed": false
   },
   "outputs": [],
   "source": [
    "#scale factor c. LZ has 2 uBq/kg total and 3.57 in the fid\n",
    "c=1*1.91*(9.2/6.3)*1/6.1 # LZ fiducial with 0.2 uBq/kg\n",
    "Eee=np.linspace(0.1,100,2e3) # to 100 keV\n",
    "Rn220 = c*3.65*ones(size(Eee))# (0.01 DRU per mBq/kg) #3.65 evts/keV/ton/year per 1 uBq/kg ... now LZ has 2 uBq/kg total\n",
    "dR = Rn220 #evts/keV/ton/year\n",
    "\n",
    "\n",
    "#### Rn222 ... approximate 0.3 evt/keV/Ton/year at 0.1 uBq/kg, LZ has about 0.7 uBq/kg ######## .... LZ now 2 uBq/kg\n",
    "#Rn222_rate= c*20*0.35*100/365 #evt/Ton/year/keV...*100keV/365days to E_max with 0.7 uBq/kg\n",
    "#nSim=ceil(Rn222_rate*1000*5.6)#in 1000 days *5.6 Tons #n in 1 LZ from 0-100 keV\n",
    "\n",
    "np.savetxt('data/Rn220_LZ_fid.txt' ,np.vstack([Eee, dR]).T)\n",
    "\n",
    "file_path='data/Rn220_LZ_fid.txt'\n",
    "ParticleType=1 #'ER'\n",
    "nSim=1e6\n",
    "\n",
    "NEST.SetParticleType(ParticleType)\n",
    "Nph, Ne, S1, S2, S1c, S2c, Rate_evts_kg_day, Det_exposure_factor = dN2S1S2(NEST=NEST, file_path=file_path, nSim=nSim)\n",
    "\n",
    "WS_cut=(S1c>0) & (S2>=S2raw_min)\n",
    "S1_cut=S1c[WS_cut]\n",
    "S2_cut=S2c[WS_cut]\n",
    "\n",
    "hRn220=TH2D(\"hRn220\",\"Rn220 pdf;S1;S2\",100,S1_min,S1_max,100,0,S2_max) \n",
    "for index, S1_val in enumerate(S1_cut):\n",
    "    hRn220.Fill(S1_cut[index],S2_cut[index])\n",
    "hRn220.Scale(Rate_evts_kg_day/nSim)\n",
    "hRn220.SaveAs('root_pdfs/'+subdir+'/Rn220_pdf.root') #write out to file"
   ]
  },
  {
   "cell_type": "markdown",
   "metadata": {},
   "source": [
    "<h1> Detector ER fiducial BG from Paolo </h1>"
   ]
  },
  {
   "cell_type": "code",
   "execution_count": null,
   "metadata": {
    "collapsed": false
   },
   "outputs": [],
   "source": [
    "file_path='data/rate_er_fidvol.txt' \n",
    "ParticleType=1 #'ER'\n",
    "nSim=1e6\n",
    "\n",
    "NEST.SetParticleType(ParticleType)\n",
    "Nph, Ne, S1, S2, S1c, S2c, Rate_evts_kg_day, Det_exposure_factor = dN2S1S2(NEST=NEST, file_path=file_path, nSim=nSim)\n",
    "\n",
    "WS_cut=(S1c>0) & (S2>=S2raw_min)\n",
    "S1_cut=S1c[WS_cut]\n",
    "S2_cut=S2c[WS_cut]\n",
    "\n",
    "hDetE=TH2D(\"hDetE\",\"Det ER pdf;S1;S2\",100,S1_min,S1_max,100,0,S2_max) \n",
    "for index, S1_val in enumerate(S1_cut):\n",
    "    hDetE.Fill(S1_cut[index],S2_cut[index])\n",
    "hDetE.Scale(Rate_evts_kg_day/nSim) \n",
    "hDetE.SaveAs('root_pdfs/'+subdir+'/Detfid_ER_pdf.root') #write out to file"
   ]
  },
  {
   "cell_type": "markdown",
   "metadata": {},
   "source": [
    "<h1> Detector NR fiducial from Paolo </h1>"
   ]
  },
  {
   "cell_type": "code",
   "execution_count": null,
   "metadata": {
    "collapsed": false
   },
   "outputs": [],
   "source": [
    "file_path='data/rate_nr_fidvol.txt' \n",
    "ParticleType=0 #'NR'\n",
    "nSim=1e6\n",
    "\n",
    "NEST.SetParticleType(ParticleType)\n",
    "Nph, Ne, S1, S2, S1c, S2c, Rate_evts_kg_day, Det_exposure_factor = dN2S1S2(NEST=NEST, file_path=file_path, nSim=nSim)\n",
    "\n",
    "WS_cut=(S1c>0) & (S2>=S2raw_min)\n",
    "S1_cut=S1c[WS_cut]\n",
    "S2_cut=S2c[WS_cut]\n",
    "\n",
    "hDetN=TH2D(\"hDetN\",\"Det NR pdf;S1;S2\",100,S1_min,S1_max,100,0,S2_max) \n",
    "for index, S1_val in enumerate(S1_cut):\n",
    "    hDetN.Fill(S1_cut[index],S2_cut[index])\n",
    "hDetN.Scale(Rate_evts_kg_day/nSim*2) #2x correction adds another 0.33 Nu counts from Chams dust and Rn calculations \n",
    "hDetN.SaveAs('root_pdfs/'+subdir+'/Detfid_NR_pdf.root') #write out to file"
   ]
  },
  {
   "cell_type": "markdown",
   "metadata": {},
   "source": [
    "<h1> Save and plot BG PDFs </h1>"
   ]
  },
  {
   "cell_type": "code",
   "execution_count": null,
   "metadata": {
    "collapsed": false
   },
   "outputs": [],
   "source": [
    "# draw and make a pdf of pdf :p\n",
    "\n",
    "c=rootnotes.default_canvas()\n",
    "hatm.Draw(\"colz\") # check it looks right\n",
    "c.SaveAs('root_pdfs/'+subdir+'/atm_pdf.pdf')\n",
    "\n",
    "c1=rootnotes.default_canvas()\n",
    "hB8.Draw(\"colz\") # check it looks right\n",
    "c1.SaveAs('root_pdfs/'+subdir+'/b8_pdf.pdf')\n",
    "\n",
    "c2=rootnotes.default_canvas()\n",
    "hhep.Draw(\"colz\") # check it looks right\n",
    "c2.SaveAs('root_pdfs/'+subdir+'/hep_pdf.pdf')\n",
    "\n",
    "c3=rootnotes.default_canvas()\n",
    "hDSN.Draw(\"colz\") # check it looks right\n",
    "c3.SaveAs('root_pdfs/'+subdir+'/dsn_pdf.pdf')\n",
    "\n",
    "c4=rootnotes.default_canvas()\n",
    "hPP.Draw(\"colz\") # check it looks right\n",
    "c4.SaveAs('root_pdfs/'+subdir+'/pp_pdf.pdf')\n",
    "\n",
    "c5=rootnotes.default_canvas()\n",
    "h2vBB.Draw(\"colz\") # check it looks right\n",
    "c5.SaveAs('root_pdfs/'+subdir+'/2vBB_pdf.pdf')\n",
    "\n",
    "c6=rootnotes.default_canvas()\n",
    "hKr.Draw(\"colz\") # check it looks right\n",
    "c6.SaveAs('root_pdfs/'+subdir+'/Kr_pdf.pdf')\n",
    "\n",
    "c7=rootnotes.default_canvas()\n",
    "hRn.Draw(\"colz\") # check it looks right\n",
    "c7.SaveAs('root_pdfs/'+subdir+'/Rn_pdf.pdf')\n",
    "\n",
    "c8=rootnotes.default_canvas()\n",
    "hDetE.Draw(\"colz\") # check it looks right\n",
    "c8.SaveAs('root_pdfs/'+subdir+'/DetFid_E_pdf.pdf')\n",
    "\n",
    "c9=rootnotes.default_canvas()\n",
    "hDetN.Draw(\"colz\") # check it looks right\n",
    "c9.SaveAs('root_pdfs/'+subdir+'/DetFid_N_pdf.pdf')\n",
    "\n",
    "c10=rootnotes.default_canvas()\n",
    "hRn220.Draw(\"colz\") # check it looks right\n",
    "c10.SaveAs('root_pdfs/'+subdir+'/Rn220_pdf.pdf')\n",
    "\n",
    "\n",
    "\n",
    "#create a root file with the four nu background PDFs\n",
    "\n",
    "Fout=TFile('root_pdfs/'+subdir+'/All_BG.root','recreate')\n",
    "Fout.Add(hB8)\n",
    "Fout.Add(hhep)\n",
    "Fout.Add(hDSN)\n",
    "Fout.Add(hatm)\n",
    "Fout.Add(hPP)\n",
    "Fout.Add(h2vBB)\n",
    "Fout.Add(hKr)\n",
    "Fout.Add(hRn)\n",
    "Fout.Add(hRn220)\n",
    "Fout.Add(hDetE)\n",
    "Fout.Add(hDetN)\n",
    "Fout.Write()"
   ]
  },
  {
   "cell_type": "code",
   "execution_count": null,
   "metadata": {
    "collapsed": false
   },
   "outputs": [],
   "source": [
    "c5=rootnotes.default_canvas()\n",
    "hDetE.Draw(\"colz\") # check it looks right\n",
    "#c5.SaveAs('root_pdfs/2vBB_pdf.pdf')\n",
    "c5"
   ]
  },
  {
   "cell_type": "markdown",
   "metadata": {},
   "source": [
    "<h1> Generate WIMP signal PDFs </h1>"
   ]
  },
  {
   "cell_type": "code",
   "execution_count": null,
   "metadata": {
    "collapsed": false,
    "scrolled": true
   },
   "outputs": [],
   "source": [
    "nSim=1e6\n",
    "NEST.SetParticleType(0) #set NEST to NR for WIMPs\n",
    "\n",
    "#Generate WIMPs\n",
    "for mWmp in int32(logspace(log10(6),log10(2000),20)):\n",
    "    Nph, Ne, S1, S2, S1c, S2c, WmpRate, Det_exposure_factor=WIMP2NphNe(NEST=NEST,mWmp=mWmp,nSim=nSim)\n",
    "    # 1e-45 cm^2 cross section\n",
    "    WS_cut=(S1c>0) & (S2>=S2raw_min)\n",
    "    S1_cut=S1c[WS_cut]\n",
    "    S2_cut=S2c[WS_cut]\n",
    "\n",
    "    hWmp=TH2D(\"wimpEventDensity\",\"WIMP pdf;S1;S2\",100,S1_min,S1_max,100,0,S2_max)\n",
    "    for index, S1_val in enumerate(S1_cut):\n",
    "        hWmp.Fill(S1_cut[index],S2_cut[index])\n",
    "    hWmp.Scale(WmpRate/nSim)\n",
    "    #hWmp.Integral()\n",
    "    hWmp.SaveAs('root_pdfs/'+subdir+'/mass_{:}_pdf.root'.format(mWmp)) #write out to file\n",
    "    \n",
    "    c=rootnotes.default_canvas()\n",
    "    hWmp.Draw(\"colz\") # check it looks right\n",
    "    c.SaveAs('root_pdfs/'+subdir+'/mass_{:}_pdf.pdf'.format(mWmp)) #write out to file\n"
   ]
  },
  {
   "cell_type": "code",
   "execution_count": null,
   "metadata": {
    "collapsed": false
   },
   "outputs": [],
   "source": [
    "c4=rootnotes.default_canvas()\n",
    "hWmp.Draw(\"colz\") # check it looks right\n",
    "c4"
   ]
  },
  {
   "cell_type": "code",
   "execution_count": null,
   "metadata": {
    "collapsed": false
   },
   "outputs": [],
   "source": [
    "for index, ii in enumerate(int32(logspace(log10(6),log10(2000),20))):\n",
    "    print(ii)"
   ]
  },
  {
   "cell_type": "code",
   "execution_count": null,
   "metadata": {
    "collapsed": false
   },
   "outputs": [],
   "source": [
    "int32(logspace(log10(6),log10(2000),20))"
   ]
  },
  {
   "cell_type": "code",
   "execution_count": null,
   "metadata": {
    "collapsed": true
   },
   "outputs": [],
   "source": []
  }
 ],
 "metadata": {
  "kernelspec": {
   "display_name": "pyrootnb",
   "language": "python",
   "name": "pyrootnb"
  },
  "language_info": {
   "codemirror_mode": {
    "name": "ipython",
    "version": 2
   },
   "file_extension": ".py",
   "mimetype": "text/x-python",
   "name": "python",
   "nbconvert_exporter": "python",
   "pygments_lexer": "ipython2",
   "version": "2.7.10"
  }
 },
 "nbformat": 4,
 "nbformat_minor": 0
}
