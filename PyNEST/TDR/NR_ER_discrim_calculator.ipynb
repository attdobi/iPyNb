{
 "cells": [
  {
   "cell_type": "markdown",
   "metadata": {},
   "source": [
    "<h1> LZ Discrimination Calculator </h1> <h3> S1 from 0 to 20 phd </h3>"
   ]
  },
  {
   "cell_type": "code",
   "execution_count": 1,
   "metadata": {
    "collapsed": false
   },
   "outputs": [
    {
     "name": "stdout",
     "output_type": "stream",
     "text": [
      "Populating the interactive namespace from numpy and matplotlib\n"
     ]
    },
    {
     "name": "stderr",
     "output_type": "stream",
     "text": [
      "WARNING: pylab import has clobbered these variables: ['pylab']\n",
      "`%matplotlib` prevents importing * from pylab and numpy\n"
     ]
    }
   ],
   "source": [
    "from __future__ import division\n",
    "import sys\n",
    "home_dir=!echo \"$HOME\"\n",
    "sys.path.insert(2,home_dir[0]+'/iPyNb/NERSC_Import') \n",
    "from pyNEST import *\n",
    "%pylab inline\n",
    "pylab.rcParams['figure.figsize'] = (10.0, 8.0) # set size of figures\"\n",
    "plt.rcParams.update({'font.size': 24})"
   ]
  },
  {
   "cell_type": "code",
   "execution_count": 2,
   "metadata": {
    "collapsed": true
   },
   "outputs": [],
   "source": [
    "#WS cuts\n",
    "S1_min=0\n",
    "S1_max=20\n",
    "S2raw_min=450\n",
    "#NS1_coin_req=3"
   ]
  },
  {
   "cell_type": "code",
   "execution_count": 7,
   "metadata": {
    "collapsed": false,
    "scrolled": true
   },
   "outputs": [
    {
     "name": "stdout",
     "output_type": "stream",
     "text": [
      "(0.05, 50)\n",
      "(0.05, 160)\n",
      "(0.05, 290)\n",
      "(0.05, 630)\n",
      "(0.075, 50)\n",
      "(0.075, 160)\n",
      "(0.075, 290)\n",
      "(0.075, 630)\n",
      "(0.12, 50)\n",
      "(0.12, 160)\n",
      "(0.12, 290)\n",
      "(0.12, 630)\n"
     ]
    }
   ],
   "source": [
    "g1s=[0.05,0.075,0.12]\n",
    "drift_fields=[50,160,290,630]\n",
    "discrim=np.zeros((size(g1s),size(drift_fields)))\n",
    "\n",
    "##############################################################################\n",
    "#Generate Flat ER and NR spectra:\n",
    "##############################################################################\n",
    "#LZ\n",
    "\n",
    "for ii, g1 in enumerate(g1s):\n",
    "    for jj, df in enumerate(drift_fields):\n",
    "        print (g1,df)\n",
    "        NEST=NEST_setup(g1=g1,f_drift=df)\n",
    "        S1_bin_cen_n, mean_S2oS1_n, std_S2oS1_n, S1_bin_cen_e, mean_S2oS1_e, stdev_S2oS1_e, \\\n",
    "        E_bin_cen_e, Eff_e, E_bin_cen_n, Eff_n,num_leak_e, num_total_e \\\n",
    "        = genBands(NEST=NEST,S2raw_min=S2raw_min,nSim=1e5) #change to 1e5 to speed up\n",
    "\n",
    "        #calculate NR ER discrimination\n",
    "        leak_cut= S1_bin_cen_e<20\n",
    "        discrim[ii,jj]=100*(1-sum(num_leak_e[leak_cut])/sum(num_total_e[leak_cut]))"
   ]
  },
  {
   "cell_type": "code",
   "execution_count": 8,
   "metadata": {
    "collapsed": false
   },
   "outputs": [
    {
     "data": {
      "text/plain": [
       "array([[ 98.92252776,  99.40941007,  99.4988503 ,  99.46987952],\n",
       "       [ 98.98184108,  99.47212447,  99.43196714,  99.55643174],\n",
       "       [ 99.38778798,  99.57125961,  99.76519337,  99.77336355]])"
      ]
     },
     "execution_count": 8,
     "metadata": {},
     "output_type": "execute_result"
    }
   ],
   "source": [
    "discrim"
   ]
  },
  {
   "cell_type": "code",
   "execution_count": null,
   "metadata": {
    "collapsed": true
   },
   "outputs": [],
   "source": []
  }
 ],
 "metadata": {
  "kernelspec": {
   "display_name": "pyrootnb",
   "language": "python",
   "name": "pyrootnb"
  },
  "language_info": {
   "codemirror_mode": {
    "name": "ipython",
    "version": 2
   },
   "file_extension": ".py",
   "mimetype": "text/x-python",
   "name": "python",
   "nbconvert_exporter": "python",
   "pygments_lexer": "ipython2",
   "version": "2.7.10"
  }
 },
 "nbformat": 4,
 "nbformat_minor": 0
}
