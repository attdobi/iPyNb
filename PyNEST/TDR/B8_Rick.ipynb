{
 "cells": [
  {
   "cell_type": "code",
   "execution_count": 1,
   "metadata": {
    "collapsed": false
   },
   "outputs": [
    {
     "name": "stderr",
     "output_type": "stream",
     "text": [
      "TROOT::Append:0: RuntimeWarning: Replacing existing TH1: LCE (Potential memory leak).\n",
      "TROOT::Append:0: RuntimeWarning: Replacing existing TH1: EField (Potential memory leak).\n",
      "TROOT::Append:0: RuntimeWarning: Replacing existing TH1: LCE (Potential memory leak).\n"
     ]
    },
    {
     "name": "stdout",
     "output_type": "stream",
     "text": [
      "Populating the interactive namespace from numpy and matplotlib\n"
     ]
    },
    {
     "name": "stderr",
     "output_type": "stream",
     "text": [
      "TROOT::Append:0: RuntimeWarning: Replacing existing TH1: EField (Potential memory leak).\n",
      "WARNING: pylab import has clobbered these variables: ['spy', 'pylab']\n",
      "`%matplotlib` prevents importing * from pylab and numpy\n"
     ]
    }
   ],
   "source": [
    "from __future__ import division\n",
    "import sys\n",
    "home_dir=!echo \"$HOME\"\n",
    "sys.path.insert(2,home_dir[0]+'/iPyNb/NERSC_Import') \n",
    "from pyROOT_import import *\n",
    "from pyNEST import *\n",
    "from ROOT import TH2D\n",
    "import scipy as spy\n",
    "import scipy.stats as stats\n",
    "from scipy.interpolate import interp2d\n",
    "%pylab inline\n",
    "pylab.rcParams['figure.figsize'] = (12.0, 8.0) # set size of figures\"\n",
    "plt.rcParams.update({'font.size': 24})"
   ]
  },
  {
   "cell_type": "code",
   "execution_count": 2,
   "metadata": {
    "collapsed": true
   },
   "outputs": [],
   "source": [
    "#WS cuts\n",
    "S1_min=0\n",
    "S1_max=20\n",
    "S2raw_min=450\n",
    "#NS1_coin_req=3\n",
    "\n",
    "#define. calc LZ  nominal exposure\n",
    "def calc_exposure(S1_cut, S2_cut, S1_win_max=20):\n",
    "    LZ_count=sum(S1_cut<S1_win_max)/Det_exposure_factor\n",
    "    LZ_count_underNr=sum((S1_cut<S1_win_max) & (log10(S2_cut/S1_cut)<sNR(S1_cut)))/Det_exposure_factor\n",
    "    sig_LZ_count=sqrt(sum(S1_cut<S1_win_max))/Det_exposure_factor\n",
    "    sig_LZ_count_underNr=sqrt(sum((S1_cut<20) & (log10(S2_cut/S1_cut)<sNR(S1_cut))))/Det_exposure_factor\n",
    "    print('Count (0 to '+str(S1_win_max) + ' S1) = '+'{:.3f}'.format(LZ_count) + ' +/- ' + '{:.3f}'.format(sig_LZ_count) )\n",
    "    print('Count below NR mean (0 to '+str(S1_win_max) + ' S1) = '+'{:.3f}'.format(LZ_count_underNr) + ' +/- ' + '{:.3f}'.format(sig_LZ_count_underNr) )"
   ]
  },
  {
   "cell_type": "code",
   "execution_count": 11,
   "metadata": {
    "collapsed": false
   },
   "outputs": [],
   "source": [
    "#LZ\n",
    "NEST =NEST_setup(Det='LUX', nFold=3, g1=0.075, e_lifetime=850, eff_extract=0.95, custom=False)\n",
    "S2raw_min=150"
   ]
  },
  {
   "cell_type": "code",
   "execution_count": null,
   "metadata": {
    "collapsed": false,
    "scrolled": false
   },
   "outputs": [
    {
     "name": "stderr",
     "output_type": "stream",
     "text": [
      "/anaconda/lib/python2.7/site-packages/IPython/kernel/__main__.py:19: RuntimeWarning: invalid value encountered in long_scalars\n",
      "/anaconda/lib/python2.7/site-packages/IPython/kernel/__main__.py:20: RuntimeWarning: invalid value encountered in long_scalars\n"
     ]
    }
   ],
   "source": [
    "# B8 data for threshold contour (start at 1 keV)\n",
    "file_path='data/B8_Peter.txt' #\n",
    "ParticleType=0 #'NR'\n",
    "nSim=2e6\n",
    "\n",
    "NEST.SetParticleType(ParticleType)\n",
    "Er, Nph, Ne, S1, S2, S1c, S2c, Rate_evts_kg_day, Det_exposure_factor = dN2S1S2(NEST=NEST, file_path=file_path, nSim=nSim)\n",
    "\n",
    "WS_cut=(S1c>0) & (S2>=S2raw_min)\n",
    "S1_cut=S1c[WS_cut]\n",
    "S2_cut=S2c[WS_cut]\n",
    "\n",
    "n=40\n",
    "\n",
    "Nph_thr=[]\n",
    "Ne_thr=[]\n",
    "#doing the S1 and S2 threshold independently\n",
    "for ii in range(n):\n",
    "    Nph_thr.append(sum((Nph==ii) & (S1c>0) )/sum(Nph==ii))\n",
    "    Ne_thr.append(sum((Ne==ii) & (S2>S2raw_min) )/sum(Ne==ii))\n",
    "\n",
    "Thr=zeros((n,n))\n",
    "for ii in range(n):\n",
    "    for jj in range(n):\n",
    "        Thr[ii,jj]=sum((Nph==ii) & (Ne==jj) & (WS_cut) )/sum((Nph==ii) & (Ne==jj))\n",
    "\n",
    "\n",
    "#make the density plot\n",
    "file_path='data/B8_Peter_lowE.txt'\n",
    "title='B8_Rick'\n",
    "ParticleType=0 #'NR'\n",
    "nSim=7.7e5\n",
    "\n",
    "NEST.SetParticleType(ParticleType)\n",
    "Er, Nph, Ne, S1, S2, S1c, S2c, Rate_evts_kg_day, Det_exposure_factor = dN2S1S2(NEST=NEST, file_path=file_path, nSim=nSim)\n",
    "\n",
    "WS_cut=(S1c>0) & (S2>=S2raw_min)\n",
    "S1_cut=S1c[WS_cut]\n",
    "S2_cut=S2c[WS_cut]\n"
   ]
  },
  {
   "cell_type": "code",
   "execution_count": null,
   "metadata": {
    "collapsed": false
   },
   "outputs": [],
   "source": [
    "title='B8_1000-TonYear-LUX'\n",
    "plt.rcParams.update({'font.size': 20})\n",
    "\n",
    "\n",
    "cmap=plt.cm.jet\n",
    "cmap.set_under(color='w')\n",
    "#make a scatter plot\n",
    "\n",
    "fig = plt.figure(figsize=(12, 10))\n",
    "gs = plt.GridSpec(4, 4)\n",
    "\n",
    "ax1 = fig.add_subplot(gs[0, 1:])\n",
    "plt.plot(range(n),Nph_thr,linewidth=3,color='k')\n",
    "ylim([1e-4,1])\n",
    "yscale('log')\n",
    "xlim([0,35])\n",
    "ax=gca()\n",
    "#ax.set_yticks([-4,-3,-2,-1,0])\n",
    "#ax.set_xticklabels([])\n",
    "ylabel('Threshold')\n",
    "grid('on')\n",
    "\n",
    "ax2 = fig.add_subplot(gs[1:, 0])\n",
    "plt.plot(Ne_thr,range(n),linewidth=3,color='k')\n",
    "xlim([1e-4,1])\n",
    "xscale('log')\n",
    "plt.gca().invert_xaxis()\n",
    "#plt.gca().invert_yaxis()\n",
    "ylim([0,35])\n",
    "plt.ylabel('Electrons')\n",
    "#ax=gca()\n",
    "#ax.set_xticks([-4,-3,-2,-1,0])\n",
    "xlabel('Threshold')\n",
    "grid('on')\n",
    "\n",
    "ax3 = fig.add_subplot(gs[1:, 1:])\n",
    "plt.hist2d(Nph, Ne, bins=np.arange(0,40,1), norm=mpl.colors.LogNorm(), cmap=cmap, vmin=1,)\n",
    "# Now adding the colorbar\n",
    "plt.colorbar(fraction=0.05, pad=-0.05,label='Count')\n",
    "ax=gca()\n",
    "ax.set_yticklabels([])\n",
    "\n",
    "plt.xlabel('Photons')\n",
    "#plt.ylabel('Electrons')\n",
    "xlim([0,35])\n",
    "ylim([0,35])\n",
    "yticks=([])\n",
    "\n",
    "savefig('figs/'+title+'_NphNe.png',dpi=200)\n",
    "savefig('figs/'+title+'_NphNe.pdf')\n",
    "\n",
    "\n",
    "\n",
    "fig = plt.figure(figsize=(10, 8))\n",
    "plt.rcParams.update({'font.size': 20})\n",
    "\n",
    "plt.hist2d(Nph[WS_cut], Ne[WS_cut],bins=np.arange(0,40,1), cmap=cmap, vmin=1,)\n",
    "plt.colorbar(label='Count')\n",
    "plt.xlabel('Photons')\n",
    "plt.ylabel('Electrons')\n",
    "\n",
    "savefig('figs/'+title+'_NphNe_cut.png',dpi=200)\n",
    "savefig('figs/'+title+'_NphNe_cut.pdf')"
   ]
  },
  {
   "cell_type": "code",
   "execution_count": 261,
   "metadata": {
    "collapsed": false
   },
   "outputs": [
    {
     "name": "stderr",
     "output_type": "stream",
     "text": [
      "/anaconda/lib/python2.7/site-packages/IPython/kernel/__main__.py:1: RuntimeWarning: divide by zero encountered in log10\n",
      "  if __name__ == '__main__':\n"
     ]
    },
    {
     "data": {
      "image/png": "[encoded data removed]",
      "text/plain": [
       "<matplotlib.figure.Figure at 0x7fc184796c50>"
      ]
     },
     "metadata": {},
     "output_type": "display_data"
    }
   ],
   "source": [
    "plt.contourf(log10(Thr.T),[-4.5,-4,-3.5,-3,-2.5,-2,-1.5,-1,-.5,0],alpha=0.7)\n",
    "plt.colorbar(label=r'log$_{10}$(Threshold)')\n",
    "plt.xlabel('Photons')\n",
    "plt.ylabel('Electrons')\n",
    "\n",
    "savefig('figs/'+title+'_NphNe_Thresh.png',dpi=200)\n",
    "savefig('figs/'+title+'_NphNe_Thresh.pdf')"
   ]
  },
  {
   "cell_type": "code",
   "execution_count": 260,
   "metadata": {
    "collapsed": false
   },
   "outputs": [
    {
     "data": {
      "image/png": "[encoded data removed]",
      "text/plain": [
       "<matplotlib.figure.Figure at 0x7fc17d32dc50>"
      ]
     },
     "metadata": {},
     "output_type": "display_data"
    }
   ],
   "source": [
    "plt.plot(range(n),Nph_thr)\n",
    "ylim([1e-4,1])\n",
    "yscale('log')"
   ]
  },
  {
   "cell_type": "code",
   "execution_count": 265,
   "metadata": {
    "collapsed": false
   },
   "outputs": [
    {
     "data": {
      "text/plain": [
       "496"
      ]
     },
     "execution_count": 265,
     "metadata": {},
     "output_type": "execute_result"
    }
   ],
   "source": [
    "sum(WS_cut==1)"
   ]
  },
  {
   "cell_type": "code",
   "execution_count": null,
   "metadata": {
    "collapsed": true
   },
   "outputs": [],
   "source": []
  }
 ],
 "metadata": {
  "kernelspec": {
   "display_name": "pyrootnb",
   "language": "python",
   "name": "pyrootnb"
  },
  "language_info": {
   "codemirror_mode": {
    "name": "ipython",
    "version": 2
   },
   "file_extension": ".py",
   "mimetype": "text/x-python",
   "name": "python",
   "nbconvert_exporter": "python",
   "pygments_lexer": "ipython2",
   "version": "2.7.10"
  }
 },
 "nbformat": 4,
 "nbformat_minor": 0
}
