{
 "cells": [
  {
   "cell_type": "markdown",
   "metadata": {},
   "source": [
    "<h1> pyNEST</h1> <h1> generate Nph,Ne and S1 and S2 for LZ </h1>"
   ]
  },
  {
   "cell_type": "code",
   "execution_count": null,
   "metadata": {
    "collapsed": false
   },
   "outputs": [],
   "source": [
    "from __future__ import division\n",
    "import pylab\n",
    "import scipy.interpolate as ip\n",
    "import sys\n",
    "sys.path.insert(2, '//global/project/projectdirs/lux/data') #frozen with NEST v98\n",
    "from aLib import pyNEST as pn\n",
    "from aLib import inrange\n",
    "from aLib import eff\n",
    "from aLib import rates\n",
    "import matplotlib as mpl\n",
    "import matplotlib.pyplot as plt\n",
    "from numpy import *\n",
    "import scipy.stats as st\n",
    "import numpy as np\n",
    "import scipy.io as sio\n",
    "%pylab inline  \n",
    "#always do this for plotting...  don't ask why\n",
    "pylab.rcParams['figure.figsize'] = (10.0, 8.0) # set size of figures"
   ]
  },
  {
   "cell_type": "markdown",
   "metadata": {},
   "source": [
    "<h1> Define function Energy_array->quanta->signal, for LZ </h1>"
   ]
  },
  {
   "cell_type": "code",
   "execution_count": null,
   "metadata": {
    "collapsed": true
   },
   "outputs": [],
   "source": [
    "def E2NphNe(ParticleType='ER',Energy = linspace(1,100,1000),f_drift=700,g1=0.075,SPE_res= 0.5,eff_extract=0.95,SE_size=50,SE_res=sqrt(50),e_lifetime=1000, dt0=500):\n",
    "    #input: ParticleType('ER' or 'NR'), Energy array, drift field V/cm, g1, SPE_res, electron extraction efficiency, SE size, sigSE, electron lifetime, center of detector)\n",
    "    Nph, Ne = pn.Nph_Ne(ParticleType,f_drift*np.ones_like(Energy),Energy)\n",
    "    S1 = st.binom.rvs(array(Nph, dtype=int64),g1) #mod g1\n",
    "    #No S1 PMT resolution, assume spike counting\n",
    "    #add PMT resolution, assume sigma = 0.5 PE for a single PE collected\n",
    "    #S1_B8 = st.norm.rvs(S1_B8,sqrt(S1_B8)*SPE_res,size=size(S1_B8)) #single PE resolution with sigma=sqrt(N)*sig\n",
    "    Ne_ext = st.binom.rvs(array(Ne*exp(-dt0/e_lifetime), dtype=int64), eff_extract) #add in mean electron attenuation\n",
    "    S2 = st.norm.rvs(Ne_ext*SE_size,sqrt(SE_res**2 * Ne_ext),size=size(Ne_ext)) #adding variance \"SE_res**2 * Ne_ext\"\n",
    "    S2 = S2*exp(dt0/e_lifetime) #correct back the electron lifetime\n",
    "    \n",
    "    return Nph, Ne, S1, S2"
   ]
  },
  {
   "cell_type": "code",
   "execution_count": null,
   "metadata": {
    "collapsed": false
   },
   "outputs": [],
   "source": [
    "def scatterColor(x,y,a=0.8):\n",
    "    xy=vstack([x,y])\n",
    "    xy[isnan(xy)]=0\n",
    "    xy[isinf(xy)]=0\n",
    "    z= st.gaussian_kde(xy)(xy)\n",
    "    scatter(x,y,c=z,s=8,edgecolor='',alpha=a)\n",
    "    return"
   ]
  },
  {
   "cell_type": "markdown",
   "metadata": {},
   "source": [
    "<h1> now run the code on an arbitrary csv or mat file </h1>"
   ]
  },
  {
   "cell_type": "code",
   "execution_count": null,
   "metadata": {
    "collapsed": true
   },
   "outputs": [],
   "source": [
    "#Load from CSV\n",
    "#data=loadtxt('../Analysis_Code/Run03_Golden_Doke/fits/s2_and_s1_means.txt') \n",
    "\n",
    "#Load from matfile\n",
    "#data=sio.loadmat('/project/projectdirs/lux/data/golden/Run03_Golden_numpy.mat')"
   ]
  },
  {
   "cell_type": "markdown",
   "metadata": {},
   "source": [
    "<h1> now run the code with an energy array as the input </h1>"
   ]
  },
  {
   "cell_type": "code",
   "execution_count": null,
   "metadata": {
    "collapsed": true
   },
   "outputs": [],
   "source": [
    "Nph, Ne, S1, S2 = E2NphNe()"
   ]
  },
  {
   "cell_type": "code",
   "execution_count": null,
   "metadata": {
    "collapsed": false
   },
   "outputs": [],
   "source": [
    "#make a scatter plot\n",
    "scatterColor(S1,log10(S2/S1))\n",
    "plt.xlabel('S1 [phd]')\n",
    "plt.ylabel('log10(S2/S1)')\n",
    "plt.rcParams.update({'font.size': 18})"
   ]
  },
  {
   "cell_type": "code",
   "execution_count": null,
   "metadata": {
    "collapsed": false
   },
   "outputs": [],
   "source": [
    "plt.scatter(S1,log10(S2/S1),c='black',s=5,alpha=0.7)\n",
    "plt.xlabel('S1 [phd]')\n",
    "plt.ylabel('log10(S2/S1)')\n",
    "plt.rcParams.update({'font.size': 18})"
   ]
  },
  {
   "cell_type": "markdown",
   "metadata": {},
   "source": [
    "<h1> Save the data </h1>"
   ]
  },
  {
   "cell_type": "code",
   "execution_count": null,
   "metadata": {
    "collapsed": true
   },
   "outputs": [],
   "source": [
    "#savetxt(filename,data)"
   ]
  },
  {
   "cell_type": "code",
   "execution_count": null,
   "metadata": {
    "collapsed": true
   },
   "outputs": [],
   "source": []
  }
 ],
 "metadata": {
  "kernelspec": {
   "display_name": "Python 2",
   "language": "python",
   "name": "python2"
  },
  "language_info": {
   "codemirror_mode": {
    "name": "ipython",
    "version": 2
   },
   "file_extension": ".py",
   "mimetype": "text/x-python",
   "name": "python",
   "nbconvert_exporter": "python",
   "pygments_lexer": "ipython2",
   "version": "2.7.10"
  }
 },
 "nbformat": 4,
 "nbformat_minor": 0
}
