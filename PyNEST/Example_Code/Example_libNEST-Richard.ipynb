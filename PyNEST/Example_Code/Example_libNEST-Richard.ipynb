{
 "cells": [
  {
   "cell_type": "markdown",
   "metadata": {},
   "source": [
    "<h1> Example header to load in libNEST </h1>"
   ]
  },
  {
   "cell_type": "code",
   "execution_count": 2,
   "metadata": {
    "collapsed": false
   },
   "outputs": [
    {
     "ename": "ImportError",
     "evalue": "No module named libNEST",
     "output_type": "error",
     "traceback": [
      "\u001b[1;31m---------------------------------------------------------------------------\u001b[0m",
      "\u001b[1;31mImportError\u001b[0m                               Traceback (most recent call last)",
      "\u001b[1;32m<ipython-input-2-ce772750d05b>\u001b[0m in \u001b[0;36m<module>\u001b[1;34m()\u001b[0m\n\u001b[0;32m      2\u001b[0m \u001b[1;32mimport\u001b[0m \u001b[0msys\u001b[0m\u001b[1;33m\u001b[0m\u001b[0m\n\u001b[0;32m      3\u001b[0m \u001b[0msys\u001b[0m\u001b[1;33m.\u001b[0m\u001b[0mpath\u001b[0m\u001b[1;33m.\u001b[0m\u001b[0minsert\u001b[0m\u001b[1;33m(\u001b[0m\u001b[1;36m2\u001b[0m\u001b[1;33m,\u001b[0m\u001b[1;34m'/global/projecta/projectdirs/lux/Tools/fastNEST/libNEST'\u001b[0m\u001b[1;33m)\u001b[0m \u001b[1;31m#add to import Lib-NEST\u001b[0m\u001b[1;33m\u001b[0m\u001b[0m\n\u001b[1;32m----> 4\u001b[1;33m \u001b[1;32mimport\u001b[0m \u001b[0mlibNEST\u001b[0m\u001b[1;33m\u001b[0m\u001b[0m\n\u001b[0m\u001b[0;32m      5\u001b[0m \u001b[1;33m\u001b[0m\u001b[0m\n\u001b[0;32m      6\u001b[0m \u001b[1;31m#Need to add this to make Skin Response maps load in... Doesn't matter for LUX detector\u001b[0m\u001b[1;33m\u001b[0m\u001b[1;33m\u001b[0m\u001b[0m\n",
      "\u001b[1;31mImportError\u001b[0m: No module named libNEST"
     ]
    }
   ],
   "source": [
    "from __future__ import division\n",
    "import sys\n",
    "sys.path.insert(2,'/global/projecta/projectdirs/lux/Tools/fastNEST/libNEST') #add to import Lib-NEST\n",
    "import libNEST\n",
    "\n",
    "#Need to add this to make Skin Response maps load in... Doesn't matter for LUX detector\n",
    "import os\n",
    "os.environ['NESTPATH']='/global/homes/a/adobi/LZ_git/fastNEST/libNEST/'\n",
    "os.environ['NESTDATA']='/global/homes/a/adobi/LZ_git/fastNEST/LCEAndEFieldMaps/'\n",
    "\n",
    "%pylab inline\n",
    "pylab.rcParams['figure.figsize'] = (10.0, 8.0) # set size of figures\""
   ]
  },
  {
   "cell_type": "markdown",
   "metadata": {},
   "source": [
    "<h1> Example code for Richard</h1>"
   ]
  },
  {
   "cell_type": "markdown",
   "metadata": {},
   "source": [
    "<h1> Setup NEST </h1>"
   ]
  },
  {
   "cell_type": "code",
   "execution_count": 3,
   "metadata": {
    "collapsed": true
   },
   "outputs": [],
   "source": [
    "Xe_density=2.888\n",
    "PT=1 #ER\n",
    "En=10 #energy, doesn't matter here\n",
    "\n",
    "#Construct the NEST object\n",
    "NEST=libNEST.NEST(PT,En,-1,Xe_density,-1) #PT, Energy, EField, density, dT\n",
    "#Construcrt a detector object and start with LUX\n",
    "myDet=libNEST.Detector()\n",
    "myDet.LUXSettings()"
   ]
  },
  {
   "cell_type": "markdown",
   "metadata": {},
   "source": [
    "<h1> Modify detector parameters and update NEST </h1>"
   ]
  },
  {
   "cell_type": "code",
   "execution_count": 4,
   "metadata": {
    "collapsed": false
   },
   "outputs": [],
   "source": [
    "#now modify your detector settings before passing it into NEST\n",
    "myDet.g1=15\n",
    "myDet.ee=20\n",
    "myDet.g1_gas=11\n",
    "myDet.e_life=1000 #us\n",
    "# ...\n",
    "#hit tab to autocomplete once you've loaded this in.\n",
    "\n",
    "#pass the detector object into NEST.\n",
    "NEST.SetDetectorParameters(myDet)"
   ]
  },
  {
   "cell_type": "markdown",
   "metadata": {},
   "source": [
    "<h1> Simulate, updating energy, dT, eField at each event </h1>"
   ]
  },
  {
   "cell_type": "code",
   "execution_count": 5,
   "metadata": {
    "collapsed": false
   },
   "outputs": [
    {
     "name": "stdout",
     "output_type": "stream",
     "text": [
      "('S1c', 'S2c', 'S2', 'GetEnergy', 'GetDriftLocation', 'GetElectricField')\n",
      "(1.0, 13.488129117083746, 17898.222710983457, 14475.404353308822, 123.41924665424698, 132.6619415283203)\n",
      "(2.0, 47.626760570187386, 29352.55302987707, 24087.09224543613, 108.87220892963269, 117.93314361572266)\n",
      "(3.0, 110.36047416456462, 31768.313389769468, 28898.851018560777, 5.836307840043714, 123.33016967773438)\n",
      "(4.0, 127.19639446886416, 48308.76730068898, 39254.87466285317, 118.70621634343505, 154.9170684814453)\n",
      "(5.0, 223.05816369773538, 41806.36433504746, 35191.58325533902, 83.41042910554748, 127.06817626953125)\n",
      "(6.0, 245.34662872518305, 56120.71491199685, 45506.45620095245, 120.81957001707515, 137.5743408203125)\n",
      "(7.0, 319.3212728306372, 59136.81709196759, 54093.08911868681, 0.31604441414695983, 160.4710235595703)\n",
      "(8.0, 250.71896594711097, 102220.79188485486, 68986.39543359788, 304.39456894343755, 108.86166381835938)\n",
      "(9.0, 361.2531604032456, 81679.89211782502, 57928.60723539151, 254.7652967381753, 111.99198913574219)\n"
     ]
    }
   ],
   "source": [
    "S1=[]\n",
    "S1c=[]\n",
    "S2=[]\n",
    "S2c=[]\n",
    "\n",
    "#sanity check output\n",
    "print('S1c','S2c','S2', 'GetEnergy', 'GetDriftLocation', 'GetElectricField')\n",
    "\n",
    "#loop through array of [Energy,Efield,drift_time]\n",
    "for En,Efield,dT in zip(arange(1,10,1),np.random.uniform(100,200,10),np.random.uniform(0,350,10)):\n",
    "    NEST.SetEnergy(En)\n",
    "    NEST.SetElectricField(Efield)\n",
    "    NEST.SetDriftLocation(dT)\n",
    "    \n",
    "    #now throw the dice and generate Nph,Ne,S1,S1c,S2,S2c....\n",
    "    NEST.DetectorResponse()\n",
    "    \n",
    "    #return the things you care about\n",
    "    S1.append(NEST.GetS1())\n",
    "    S1c.append(NEST.GetS1c())\n",
    "    S2.append(NEST.GetS2())\n",
    "    S2c.append(NEST.GetS2c())\n",
    "    \n",
    "    #some other things you could call\n",
    "    #Nph.append(NEST.GetNumPhotons())\n",
    "    #Nel.append(NEST.GetNumElectrons())\n",
    "    #Nio.append(NEST.GetNumIons())\n",
    "    #Nex.append(NEST.GetNumExcitons())\n",
    "    \n",
    "    #see what's happening... Sanity check for you.\n",
    "    print repr((NEST.GetEnergy(), NEST.GetS1c(),NEST.GetS2c(),NEST.GetS2(),\\\n",
    "                NEST.GetDriftLocation(), NEST.GetElectricField())).rjust(6)\n",
    "    \n",
    "\n",
    "#loop is done, convert your lists to np arrays...\n",
    "S1=np.array(S1)\n",
    "S1c=np.array(S1c)\n",
    "S2=np.array(S2)\n",
    "S2c=np.array(S2c)"
   ]
  },
  {
   "cell_type": "code",
   "execution_count": null,
   "metadata": {
    "collapsed": true
   },
   "outputs": [],
   "source": []
  }
 ],
 "metadata": {
  "kernelspec": {
   "display_name": "pyrootnb",
   "language": "python",
   "name": "pyrootnb"
  },
  "language_info": {
   "codemirror_mode": {
    "name": "ipython",
    "version": 2
   },
   "file_extension": ".py",
   "mimetype": "text/x-python",
   "name": "python",
   "nbconvert_exporter": "python",
   "pygments_lexer": "ipython2",
   "version": "2.7.11"
  }
 },
 "nbformat": 4,
 "nbformat_minor": 0
}
