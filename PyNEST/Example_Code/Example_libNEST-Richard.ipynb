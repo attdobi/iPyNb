{
 "cells": [
  {
   "cell_type": "markdown",
   "metadata": {},
   "source": [
    "<h1> Example header to load in libNEST </h1>"
   ]
  },
  {
   "cell_type": "code",
   "execution_count": 5,
   "metadata": {
    "collapsed": false
   },
   "outputs": [
    {
     "name": "stdout",
     "output_type": "stream",
     "text": [
      "Populating the interactive namespace from numpy and matplotlib\n"
     ]
    }
   ],
   "source": [
    "from __future__ import division\n",
    "import sys\n",
    "sys.path.insert(2,'/project/projectdirs/lux/data/libNEST/') #add to import Lib-NEST\n",
    "import libNEST\n",
    "\n",
    "#Need to add this to make Skin Response maps load in... Doesn't matter for LUX detector\n",
    "import os\n",
    "os.environ['NESTPATH']='/global/homes/a/adobi/LZ_git/fastNEST/libNEST/'\n",
    "os.environ['NESTDATA']='/global/homes/a/adobi/LZ_git/fastNEST/LCEAndEFieldMaps/'\n",
    "\n",
    "%pylab inline\n",
    "pylab.rcParams['figure.figsize'] = (10.0, 8.0) # set size of figures\""
   ]
  },
  {
   "cell_type": "markdown",
   "metadata": {},
   "source": [
    "<h1> Example code for Richard</h1>"
   ]
  },
  {
   "cell_type": "markdown",
   "metadata": {},
   "source": [
    "<h1> Setup NEST </h1>"
   ]
  },
  {
   "cell_type": "code",
   "execution_count": null,
   "metadata": {
    "collapsed": true
   },
   "outputs": [],
   "source": [
    "Xe_density=2.888\n",
    "PT=1 #ER\n",
    "En=10 #energy, doesn't matter here\n",
    "\n",
    "#Construct the NEST object\n",
    "NEST=libNEST.NEST(PT,En,-1,Xe_density,-1) #PT, Energy, EField, density, dT\n",
    "#Construcrt a detector object and start with LUX\n",
    "myDet=libNEST.Detector()\n",
    "myDet.LUXSettings()"
   ]
  },
  {
   "cell_type": "markdown",
   "metadata": {},
   "source": [
    "<h1> Modify detector parameters and update NEST </h1>"
   ]
  },
  {
   "cell_type": "code",
   "execution_count": 11,
   "metadata": {
    "collapsed": false
   },
   "outputs": [],
   "source": [
    "#now modify your detector settings before passing it into NEST\n",
    "myDet.g1=15\n",
    "myDet.ee=20\n",
    "myDet.g1_gas=11\n",
    "myDet.e_life=1000 #us\n",
    "# ...\n",
    "#hit tab to autocomplete once you've loaded this in.\n",
    "\n",
    "#pass the detector object into NEST.\n",
    "NEST.SetDetectorParameters(myDet)"
   ]
  },
  {
   "cell_type": "markdown",
   "metadata": {},
   "source": [
    "<h1> Simulate, updating energy, dT, eField at each event </h1>"
   ]
  },
  {
   "cell_type": "code",
   "execution_count": 29,
   "metadata": {
    "collapsed": false
   },
   "outputs": [
    {
     "name": "stdout",
     "output_type": "stream",
     "text": [
      "('S1c', 'S2c', 'S2', 'GetEnergy', 'GetDriftLocation', 'GetElectricField')\n",
      "(1.0, 17.919431653742137, 14438.525539065035, 13075.139417358332, 10.35613227189246, 148.97267150878906)\n",
      "(2.0, 54.236664590781, 28384.239408463964, 22546.41579424889, 141.4267185194218, 119.15625762939453)\n",
      "(3.0, 65.41017382938061, 49673.74877456602, 35683.60314886, 241.9540984549027, 184.81707763671875)\n",
      "(4.0, 125.13962041156918, 48260.38227103913, 39866.73241806856, 102.23756540334408, 175.9538116455078)\n",
      "(5.0, 193.86789693900494, 50238.8239407635, 45004.96233136873, 21.18414163595214, 145.21324157714844)\n",
      "(6.0, 277.80549922523363, 48566.724402065425, 40605.87600767892, 90.19461422365502, 190.13375854492188)\n",
      "(7.0, 337.52331279845185, 56801.82936667798, 50478.725692938795, 29.185344548083457, 166.30690002441406)\n",
      "(8.0, 405.77671432365065, 60812.41845272348, 55060.449050035444, 10.531149946068213, 122.76507568359375)\n",
      "(9.0, 340.444109183042, 94397.85398842685, 79297.88166456578, 85.47571066006148, 195.00369262695312)\n"
     ]
    }
   ],
   "source": [
    "S1=[]\n",
    "S1c=[]\n",
    "S2=[]\n",
    "S2c=[]\n",
    "\n",
    "#sanity check output\n",
    "print('S1c','S2c','S2', 'GetEnergy', 'GetDriftLocation', 'GetElectricField')\n",
    "\n",
    "#loop through array of [Energy,Efield,drift_time]\n",
    "for En,Efield,dT in zip(arange(1,10,1),np.random.uniform(100,200,10),np.random.uniform(0,350,10)):\n",
    "    NEST.SetEnergy(En)\n",
    "    NEST.SetElectricField(Efield)\n",
    "    NEST.SetDriftLocation(dT)\n",
    "    \n",
    "    #now throw the dice and generate Nph,Ne,S1,S1c,S2,S2c....\n",
    "    NEST.DetectorResponse()\n",
    "    \n",
    "    #return the things you care about\n",
    "    S1.append(NEST.GetS1())\n",
    "    S1c.append(NEST.GetS1c())\n",
    "    S2.append(NEST.GetS2())\n",
    "    S2c.append(NEST.GetS2c())\n",
    "    \n",
    "    #some other things you could call\n",
    "    #Nph.append(NEST.GetNumPhotons())\n",
    "    #Nel.append(NEST.GetNumElectrons())\n",
    "    #Nio.append(NEST.GetNumIons())\n",
    "    #Nex.append(NEST.GetNumExcitons())\n",
    "    \n",
    "    #see what's happening... Sanity check for you.\n",
    "    print repr((NEST.GetEnergy(), NEST.GetS1c(),NEST.GetS2c(),NEST.GetS2(),\\\n",
    "                NEST.GetDriftLocation(), NEST.GetElectricField())).rjust(6)\n",
    "    \n",
    "\n",
    "#loop is done, convert your lists to np arrays...\n",
    "S1=np.array(S1)\n",
    "S1c=np.array(S1c)\n",
    "S2=np.array(S2)\n",
    "S2c=np.array(S2c)"
   ]
  },
  {
   "cell_type": "code",
   "execution_count": null,
   "metadata": {
    "collapsed": true
   },
   "outputs": [],
   "source": []
  }
 ],
 "metadata": {
  "kernelspec": {
   "display_name": "pyrootnb",
   "language": "python",
   "name": "pyrootnb"
  },
  "language_info": {
   "codemirror_mode": {
    "name": "ipython",
    "version": 2
   },
   "file_extension": ".py",
   "mimetype": "text/x-python",
   "name": "python",
   "nbconvert_exporter": "python",
   "pygments_lexer": "ipython2",
   "version": "2.7.10"
  }
 },
 "nbformat": 4,
 "nbformat_minor": 0
}
