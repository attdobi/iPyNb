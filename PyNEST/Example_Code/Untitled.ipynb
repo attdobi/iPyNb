{
 "cells": [
  {
   "cell_type": "code",
   "execution_count": 1,
   "metadata": {
    "collapsed": false
   },
   "outputs": [
    {
     "name": "stdout",
     "output_type": "stream",
     "text": [
      "Populating the interactive namespace from numpy and matplotlib\n"
     ]
    }
   ],
   "source": [
    "from __future__ import division\n",
    "import sys\n",
    "sys.path.insert(2,'/global/projecta/projectdirs/lux/Tools/fastNEST/libNEST') #add to import Lib-NEST\n",
    "import libNEST\n",
    "\n",
    "#Need to add this to make Skin Response maps load in... Doesn't matter for LUX detector\n",
    "import os\n",
    "os.environ['NESTPATH']='/global/homes/a/adobi/LZ_git/fastNEST/libNEST/'\n",
    "os.environ['NESTDATA']='/global/homes/a/adobi/LZ_git/fastNEST/LCEAndEFieldMaps/'\n",
    "\n",
    "%pylab inline\n",
    "pylab.rcParams['figure.figsize'] = (10.0, 8.0) # set size of figures\""
   ]
  },
  {
   "cell_type": "code",
   "execution_count": 2,
   "metadata": {
    "collapsed": false
   },
   "outputs": [
    {
     "name": "stdout",
     "output_type": "stream",
     "text": [
      "Populating the interactive namespace from numpy and matplotlib\n"
     ]
    }
   ],
   "source": [
    "from __future__ import division\n",
    "import sys\n",
    "sys.path.insert(2,'/global/projecta/projectdirs/lux/Tools/fastNEST/libNEST') #add to import Lib-NEST\n",
    "import libNEST\n",
    "\n",
    "#Need to add this to make Skin Response maps load in... Doesn't matter for LUX detector\n",
    "import os\n",
    "os.environ['NESTPATH']='/global/projecta/projectdirs/lux/Tools/fastNEST/libNEST/'\n",
    "os.environ['NESTDATA']='/global/projecta/projectdirs/lux/Tools/fastNEST/LCEAndEFieldMaps/'\n",
    "\n",
    "%pylab inline\n",
    "pylab.rcParams['figure.figsize'] = (10.0, 8.0) # set size of figures\""
   ]
  },
  {
   "cell_type": "code",
   "execution_count": null,
   "metadata": {
    "collapsed": true
   },
   "outputs": [],
   "source": []
  }
 ],
 "metadata": {
  "kernelspec": {
   "display_name": "Python 2",
   "language": "python",
   "name": "python2"
  },
  "language_info": {
   "codemirror_mode": {
    "name": "ipython",
    "version": 2
   },
   "file_extension": ".py",
   "mimetype": "text/x-python",
   "name": "python",
   "nbconvert_exporter": "python",
   "pygments_lexer": "ipython2",
   "version": "2.7.11"
  }
 },
 "nbformat": 4,
 "nbformat_minor": 0
}
